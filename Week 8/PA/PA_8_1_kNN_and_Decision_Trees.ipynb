{
  "cells": [
    {
      "cell_type": "markdown",
      "metadata": {
        "id": "VeAOZxOcM0Vi"
      },
      "source": [
        "# Palmer Penguins Modeling\n",
        "\n",
        "Import the Palmer Penguins dataset and print out the first few rows.\n",
        "\n",
        "Suppose we want to predict `bill_depth_mm` using the other variables in the dataset.\n",
        "\n",
        "**Dummify** all variables that require this."
      ]
    },
    {
      "cell_type": "code",
      "execution_count": 9,
      "metadata": {
        "id": "KtT-g1rVCMRR"
      },
      "outputs": [],
      "source": [
        "import pandas as pd\n",
        "import numpy as np\n",
        "from sklearn.pipeline import Pipeline\n",
        "from sklearn.neighbors import KNeighborsRegressor\n",
        "from sklearn.tree import DecisionTreeClassifier, DecisionTreeRegressor\n",
        "from sklearn.pipeline import Pipeline\n",
        "from sklearn.compose import make_column_selector, ColumnTransformer\n",
        "from sklearn.preprocessing import StandardScaler, OneHotEncoder, PolynomialFeatures\n",
        "from sklearn.linear_model import LinearRegression, Ridge, Lasso, ElasticNet, LogisticRegression\n",
        "from sklearn.model_selection import train_test_split, cross_val_score, GridSearchCV\n",
        "from plotnine import ggplot, aes, geom_bar, labs, theme, element_text"
      ]
    },
    {
      "cell_type": "code",
      "execution_count": 7,
      "metadata": {
        "colab": {
          "base_uri": "https://localhost:8080/"
        },
        "id": "Bj_0VvPJMWyp",
        "outputId": "37862120-cc88-4dcb-e63b-6cd05e6748bf"
      },
      "outputs": [
        {
          "name": "stdout",
          "output_type": "stream",
          "text": [
            "Collecting palmerpenguins\n",
            "  Downloading palmerpenguins-0.1.4-py3-none-any.whl.metadata (2.0 kB)\n",
            "Requirement already satisfied: pandas in /usr/local/lib/python3.10/dist-packages (from palmerpenguins) (2.2.2)\n",
            "Requirement already satisfied: numpy in /usr/local/lib/python3.10/dist-packages (from palmerpenguins) (1.26.4)\n",
            "Requirement already satisfied: python-dateutil>=2.8.2 in /usr/local/lib/python3.10/dist-packages (from pandas->palmerpenguins) (2.8.2)\n",
            "Requirement already satisfied: pytz>=2020.1 in /usr/local/lib/python3.10/dist-packages (from pandas->palmerpenguins) (2024.2)\n",
            "Requirement already satisfied: tzdata>=2022.7 in /usr/local/lib/python3.10/dist-packages (from pandas->palmerpenguins) (2024.2)\n",
            "Requirement already satisfied: six>=1.5 in /usr/local/lib/python3.10/dist-packages (from python-dateutil>=2.8.2->pandas->palmerpenguins) (1.16.0)\n",
            "Downloading palmerpenguins-0.1.4-py3-none-any.whl (17 kB)\n",
            "Installing collected packages: palmerpenguins\n",
            "Successfully installed palmerpenguins-0.1.4\n"
          ]
        }
      ],
      "source": [
        "pip install palmerpenguins"
      ]
    },
    {
      "cell_type": "markdown",
      "metadata": {
        "id": "CXmaqajAchqz"
      },
      "source": [
        "Let's use the other variables to predict `bill_depth_mm`. Prepare your data and fit the following models on the entire dataset:\n",
        "\n",
        "* Your best multiple linear regression model from before\n",
        "* Two kNN models (for different values of K)\n",
        "* A decision tree model\n",
        "\n",
        "Create a plot like the right plot of Fig 1. in our `Model Validation` chapter with the training and test error plotted for each of your four models.\n",
        "\n",
        "Which of your models was best?"
      ]
    },
    {
      "cell_type": "code",
      "execution_count": 10,
      "metadata": {
        "id": "pCdQQ2Wj3gdu"
      },
      "outputs": [],
      "source": [
        "from palmerpenguins import load_penguins"
      ]
    },
    {
      "cell_type": "code",
      "execution_count": 18,
      "metadata": {
        "id": "RRza-NEl3a7g"
      },
      "outputs": [],
      "source": [
        "penguins = load_penguins()\n",
        "penguins = penguins.dropna()"
      ]
    },
    {
      "cell_type": "code",
      "execution_count": 20,
      "metadata": {
        "id": "hzf3DjVFCm8B"
      },
      "outputs": [],
      "source": [
        "X = penguins.drop(\"bill_depth_mm\", axis = 1)\n",
        "y = penguins[\"bill_depth_mm\"]"
      ]
    },
    {
      "cell_type": "code",
      "execution_count": 21,
      "metadata": {
        "id": "IhEDlBZ-CjQF"
      },
      "outputs": [],
      "source": [
        "ct = ColumnTransformer(\n",
        "    [\n",
        "      (\"dummify\", OneHotEncoder(sparse_output=False, handle_unknown='ignore', drop=\"first\"), make_column_selector(dtype_include=object)),\n",
        "      (\"standardize\", StandardScaler(), make_column_selector(dtype_include=np.number))\n",
        "    ],\n",
        "    remainder=\"passthrough\"\n",
        ").set_output(transform=\"pandas\")\n",
        "\n",
        "lr_pipeline = Pipeline(\n",
        "    [(\"preprocessing\", ct),\n",
        "     (\"linear_regression\", LinearRegression())]\n",
        ").set_output(transform=\"pandas\")\n",
        "\n",
        "scores = abs(cross_val_score(lr_pipeline, X, y, cv=5, scoring='neg_mean_squared_error'))\n",
        "lr_mse = scores.mean()\n"
      ]
    },
    {
      "cell_type": "code",
      "execution_count": 28,
      "metadata": {
        "colab": {
          "base_uri": "https://localhost:8080/"
        },
        "id": "Jjpcm3Y86gp3",
        "outputId": "db033e5c-cb31-4d15-9586-5c1997c9142e"
      },
      "outputs": [
        {
          "data": {
            "text/plain": [
              "1.2054385144982158"
            ]
          },
          "execution_count": 28,
          "metadata": {},
          "output_type": "execute_result"
        }
      ],
      "source": [
        "#neighbors 3\n",
        "ct = ColumnTransformer(\n",
        "    [\n",
        "      (\"dummify\", OneHotEncoder(sparse_output=False, handle_unknown='ignore', drop=\"first\"), make_column_selector(dtype_include=object)),\n",
        "      (\"standardize\", StandardScaler(), make_column_selector(dtype_include=np.number))\n",
        "    ],\n",
        "    remainder=\"passthrough\"\n",
        ").set_output(transform=\"pandas\")\n",
        "\n",
        "knn_model1= Pipeline(\n",
        "    [(\"preprocessing\", ct),\n",
        "     (\"knn\", KNeighborsRegressor(n_neighbors=3))]\n",
        ").set_output(transform=\"pandas\")\n",
        "\n",
        "scores = abs(cross_val_score(knn_model1, X, y, cv=5, scoring='neg_mean_squared_error'))\n",
        "knn_mse = scores.mean()\n",
        "knn_mse\n"
      ]
    },
    {
      "cell_type": "code",
      "execution_count": 29,
      "metadata": {
        "colab": {
          "base_uri": "https://localhost:8080/"
        },
        "id": "nZydXij57GQW",
        "outputId": "05ef71df-547f-43c2-d4c4-f1e8009d3eb5"
      },
      "outputs": [
        {
          "data": {
            "text/plain": [
              "1.2562750067842603"
            ]
          },
          "execution_count": 29,
          "metadata": {},
          "output_type": "execute_result"
        }
      ],
      "source": [
        "\n",
        "ct = ColumnTransformer(\n",
        "    [\n",
        "      (\"dummify\", OneHotEncoder(sparse_output=False, handle_unknown='ignore', drop=\"first\"), make_column_selector(dtype_include=object)),\n",
        "      (\"standardize\", StandardScaler(), make_column_selector(dtype_include=np.number))\n",
        "    ],\n",
        "    remainder=\"passthrough\"\n",
        ").set_output(transform=\"pandas\")\n",
        "\n",
        "knn_model1= Pipeline(\n",
        "    [(\"preprocessing\", ct),\n",
        "     (\"knn\", KNeighborsRegressor(n_neighbors=5))]\n",
        ").set_output(transform=\"pandas\")\n",
        "\n",
        "scores = abs(cross_val_score(knn_model1, X, y, cv=5, scoring='neg_mean_squared_error'))\n",
        "knn_mse2 = scores.mean()\n",
        "knn_mse2\n"
      ]
    },
    {
      "cell_type": "code",
      "execution_count": 30,
      "metadata": {
        "colab": {
          "base_uri": "https://localhost:8080/"
        },
        "id": "3OuZGj0Q7RAC",
        "outputId": "7886894c-aa49-4fae-da61-fb8307c95beb"
      },
      "outputs": [
        {
          "data": {
            "text/plain": [
              "1.499514699231117"
            ]
          },
          "execution_count": 30,
          "metadata": {},
          "output_type": "execute_result"
        }
      ],
      "source": [
        "# tree pipeline\n",
        "\n",
        "ct = ColumnTransformer(\n",
        "    [\n",
        "      (\"dummify\", OneHotEncoder(sparse_output=False, handle_unknown='ignore', drop=\"first\"), make_column_selector(dtype_include=object)),\n",
        "      (\"standardize\", StandardScaler(), make_column_selector(dtype_include=np.number))\n",
        "    ],\n",
        "    remainder=\"passthrough\"\n",
        ").set_output(transform=\"pandas\")\n",
        "\n",
        "tree_model1= Pipeline(\n",
        "    [(\"preprocessing\", ct),\n",
        "    (\"decision_tree\", DecisionTreeRegressor(random_state=42))]\n",
        ").set_output(transform=\"pandas\")\n",
        "\n",
        "scores = abs(cross_val_score(tree_model1, X, y, cv=5, scoring='neg_mean_squared_error'))\n",
        "tree_mse = scores.mean()\n",
        "tree_mse\n",
        "\n"
      ]
    },
    {
      "cell_type": "code",
      "execution_count": 31,
      "metadata": {
        "id": "ffxvhipx7pbq"
      },
      "outputs": [],
      "source": [
        "mse_df = pd.DataFrame({\n",
        "    \"Model\": [\"Linear\", \"KNN_3\", \"KNN_5\", \"Decision Tree\"],\n",
        "    \"MSE\": [lr_mse, knn_mse, knn_mse2, tree_mse]\n",
        "})"
      ]
    },
    {
      "cell_type": "code",
      "execution_count": 35,
      "metadata": {
        "id": "pO-kGT9F8AGK"
      },
      "outputs": [],
      "source": [
        "import plotnine\n",
        "from plotnine import *"
      ]
    },
    {
      "cell_type": "code",
      "execution_count": 40,
      "metadata": {
        "colab": {
          "base_uri": "https://localhost:8080/",
          "height": 497
        },
        "id": "Cp8AAtIz7ywW",
        "outputId": "3029884d-b0e7-4ad8-e09a-b52b839dea40"
      },
      "outputs": [
        {
          "data": {
            "image/png": "[encoded data removed]"
          },
          "metadata": {
            "image/png": {
              "height": 480,
              "width": 640
            }
          },
          "output_type": "display_data"
        }
      ],
      "source": [
        "(ggplot(mse_df, aes(x=\"Model\", y=\"MSE\", fill=\"Model\")) +\n",
        "    geom_bar(stat=\"identity\") +\n",
        "    labs(title=\"MSE for Models\",\n",
        "         x=\"Model Type\",\n",
        "         y=\"Mean Squared Error\") +\n",
        "    theme(axis_text_x=element_text(rotation=45, hjust=1))\n",
        "    +theme_minimal()\n",
        "    #*chat helped create this plot\n",
        ")"
      ]
    }
  ],
  "metadata": {
    "colab": {
      "provenance": []
    },
    "kernelspec": {
      "display_name": "Python 3",
      "name": "python3"
    },
    "language_info": {
      "name": "python"
    }
  },
  "nbformat": 4,
  "nbformat_minor": 0
}
