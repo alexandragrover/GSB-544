{
 "cells": [
  {
   "cell_type": "raw",
   "metadata": {
    "vscode": {
     "languageId": "raw"
    }
   },
   "source": [
    "---\n",
    "title: \"Lab 7: Heart Attack\"\n",
    "author: \"Alexandra Grover\" \n",
    "date: November 11, 2024\n",
    "embed-resources: true\n",
    "---"
   ]
  },
  {
   "cell_type": "code",
   "execution_count": 52,
   "metadata": {},
   "outputs": [],
   "source": [
    "import pandas as pd\n",
    "import numpy as np\n",
    "from sklearn.pipeline import Pipeline\n",
    "from sklearn.preprocessing import StandardScaler, OneHotEncoder, PolynomialFeatures\n",
    "from sklearn.linear_model import LinearRegression, Ridge, Lasso, ElasticNet, LogisticRegression\n",
    "from sklearn.metrics import r2_score, roc_auc_score, confusion_matrix\n",
    "from sklearn.compose import make_column_selector, ColumnTransformer\n",
    "from sklearn.model_selection import train_test_split, cross_val_score, GridSearchCV\n",
    "from sklearn.neighbors import KNeighborsClassifier , KNeighborsRegressor\n",
    "from plotnine import *\n",
    "from sklearn.metrics import confusion_matrix, ConfusionMatrixDisplay\n",
    "from sklearn.tree import DecisionTreeClassifier"
   ]
  },
  {
   "cell_type": "markdown",
   "metadata": {},
   "source": [
    "**Clean the data**"
   ]
  },
  {
   "cell_type": "code",
   "execution_count": 8,
   "metadata": {},
   "outputs": [
    {
     "data": {
      "text/html": [
       "<div>\n",
       "<style scoped>\n",
       "    .dataframe tbody tr th:only-of-type {\n",
       "        vertical-align: middle;\n",
       "    }\n",
       "\n",
       "    .dataframe tbody tr th {\n",
       "        vertical-align: top;\n",
       "    }\n",
       "\n",
       "    .dataframe thead th {\n",
       "        text-align: right;\n",
       "    }\n",
       "</style>\n",
       "<table border=\"1\" class=\"dataframe\">\n",
       "  <thead>\n",
       "    <tr style=\"text-align: right;\">\n",
       "      <th></th>\n",
       "      <th>age</th>\n",
       "      <th>sex</th>\n",
       "      <th>cp</th>\n",
       "      <th>trtbps</th>\n",
       "      <th>chol</th>\n",
       "      <th>restecg</th>\n",
       "      <th>thalach</th>\n",
       "      <th>output</th>\n",
       "    </tr>\n",
       "  </thead>\n",
       "  <tbody>\n",
       "    <tr>\n",
       "      <th>0</th>\n",
       "      <td>63</td>\n",
       "      <td>1</td>\n",
       "      <td>3</td>\n",
       "      <td>145</td>\n",
       "      <td>233</td>\n",
       "      <td>0</td>\n",
       "      <td>150</td>\n",
       "      <td>1</td>\n",
       "    </tr>\n",
       "    <tr>\n",
       "      <th>1</th>\n",
       "      <td>37</td>\n",
       "      <td>1</td>\n",
       "      <td>2</td>\n",
       "      <td>130</td>\n",
       "      <td>250</td>\n",
       "      <td>1</td>\n",
       "      <td>187</td>\n",
       "      <td>1</td>\n",
       "    </tr>\n",
       "    <tr>\n",
       "      <th>2</th>\n",
       "      <td>56</td>\n",
       "      <td>1</td>\n",
       "      <td>1</td>\n",
       "      <td>120</td>\n",
       "      <td>236</td>\n",
       "      <td>1</td>\n",
       "      <td>178</td>\n",
       "      <td>1</td>\n",
       "    </tr>\n",
       "    <tr>\n",
       "      <th>3</th>\n",
       "      <td>57</td>\n",
       "      <td>0</td>\n",
       "      <td>0</td>\n",
       "      <td>120</td>\n",
       "      <td>354</td>\n",
       "      <td>1</td>\n",
       "      <td>163</td>\n",
       "      <td>1</td>\n",
       "    </tr>\n",
       "    <tr>\n",
       "      <th>4</th>\n",
       "      <td>57</td>\n",
       "      <td>1</td>\n",
       "      <td>0</td>\n",
       "      <td>140</td>\n",
       "      <td>192</td>\n",
       "      <td>1</td>\n",
       "      <td>148</td>\n",
       "      <td>1</td>\n",
       "    </tr>\n",
       "  </tbody>\n",
       "</table>\n",
       "</div>"
      ],
      "text/plain": [
       "   age  sex  cp  trtbps  chol  restecg  thalach  output\n",
       "0   63    1   3     145   233        0      150       1\n",
       "1   37    1   2     130   250        1      187       1\n",
       "2   56    1   1     120   236        1      178       1\n",
       "3   57    0   0     120   354        1      163       1\n",
       "4   57    1   0     140   192        1      148       1"
      ]
     },
     "execution_count": null,
     "metadata": {},
     "output_type": "execute_result"
    }
   ],
   "source": [
    "heart = pd.read_csv(\"/Users/alexandra/Desktop/GSB-544/Labs/Lab7/heart_attack.csv\")\n",
    "heart.dropna(inplace=True)\n",
    "heart.head()"
   ]
  },
  {
   "cell_type": "markdown",
   "metadata": {},
   "source": [
    "# Part One: Fitting Models\n",
    "We will use medical data to predict the likelihood of a person experiencing an exercise-induced heart attack."
   ]
  },
  {
   "cell_type": "markdown",
   "metadata": {},
   "source": [
    "### KNN"
   ]
  },
  {
   "cell_type": "code",
   "execution_count": 18,
   "metadata": {},
   "outputs": [],
   "source": [
    "#define x and y\n",
    "X = heart.drop(columns=['output'])  \n",
    "y = heart['output'] "
   ]
  },
  {
   "cell_type": "code",
   "execution_count": 32,
   "metadata": {},
   "outputs": [
    {
     "name": "stdout",
     "output_type": "stream",
     "text": [
      "Best ROC AUC from Cross-Validation: 0.8507\n",
      "Best k (number of neighbors): 54\n",
      "Best ROC AUC from Cross-Validation: 0.8507\n",
      "Best k (number of neighbors): 54\n"
     ]
    }
   ],
   "source": [
    "ct = ColumnTransformer(\n",
    "    [\n",
    "        (\"standardize\", StandardScaler(), make_column_selector(dtype_include=np.number))\n",
    "    ],\n",
    "    remainder=\"passthrough\"\n",
    ").set_output(transform=\"pandas\")\n",
    "\n",
    "knn_model1 = Pipeline(\n",
    "    [(\"preprocessing\", ct),\n",
    "     (\"knn\", KNeighborsClassifier())]  \n",
    "    \n",
    ").set_output(transform=\"pandas\")\n",
    "\n",
    "\n",
    "#find best neighbors\n",
    "param_knn1 = {\n",
    "    'knn__n_neighbors': np.arange(1, 100) \n",
    "}\n",
    "\n",
    "#gridsearch\n",
    "grid_search = GridSearchCV(knn_model1, param_knn1, cv=5, scoring='roc_auc', n_jobs=-1)\n",
    "\n",
    "# fit data\n",
    "grid_search.fit(X, y)\n",
    "\n",
    "best_knn = grid_search.best_estimator_\n",
    "best_roc_auc = grid_search.best_score_\n",
    "best_k = grid_search.best_params_['knn__n_neighbors']\n",
    "\n",
    "# Report the best ROC AUC score from cross-validation\n",
    "print(f\"Best ROC AUC from Cross-Validation: {best_roc_auc:.4f}\")\n",
    "print(f\"Best k (number of neighbors): {best_k}\")\n",
    "\n"
   ]
  },
  {
   "cell_type": "markdown",
   "metadata": {},
   "source": [
    "The best ROC AUC from Ccross validation is 0.8507, which means that the model has an 85.07% chance of predicting if the person will have a heart attack. This is pretty good. I got this with a model that had 54 neighbors."
   ]
  },
  {
   "cell_type": "code",
   "execution_count": 47,
   "metadata": {},
   "outputs": [],
   "source": [
    "#knn pipeline with best neightbor 54\n",
    "knn_model2 = Pipeline(\n",
    "    [(\"preprocessing\", ct),\n",
    "     (\"knn\", KNeighborsClassifier(n_neighbors= 54))]  \n",
    "    \n",
    ").set_output(transform=\"pandas\")\n",
    "\n",
    "knn_model2.fit(X, y)\n",
    "\n",
    "y_pred_knn2 = knn_model2.predict(X)  "
   ]
  },
  {
   "cell_type": "code",
   "execution_count": 48,
   "metadata": {},
   "outputs": [
    {
     "data": {
      "text/html": [
       "<div>\n",
       "<style scoped>\n",
       "    .dataframe tbody tr th:only-of-type {\n",
       "        vertical-align: middle;\n",
       "    }\n",
       "\n",
       "    .dataframe tbody tr th {\n",
       "        vertical-align: top;\n",
       "    }\n",
       "\n",
       "    .dataframe thead th {\n",
       "        text-align: right;\n",
       "    }\n",
       "</style>\n",
       "<table border=\"1\" class=\"dataframe\">\n",
       "  <thead>\n",
       "    <tr style=\"text-align: right;\">\n",
       "      <th></th>\n",
       "      <th>not at risk</th>\n",
       "      <th>at risk</th>\n",
       "    </tr>\n",
       "  </thead>\n",
       "  <tbody>\n",
       "    <tr>\n",
       "      <th>not at risk</th>\n",
       "      <td>94</td>\n",
       "      <td>33</td>\n",
       "    </tr>\n",
       "    <tr>\n",
       "      <th>at risk</th>\n",
       "      <td>24</td>\n",
       "      <td>122</td>\n",
       "    </tr>\n",
       "  </tbody>\n",
       "</table>\n",
       "</div>"
      ],
      "text/plain": [
       "             not at risk  at risk\n",
       "not at risk           94       33\n",
       "at risk               24      122"
      ]
     },
     "execution_count": null,
     "metadata": {},
     "output_type": "execute_result"
    },
    {
     "data": {
      "image/png": "[encoded data removed]",
      "text/plain": [
       "<Figure size 640x480 with 2 Axes>"
      ]
     },
     "metadata": {},
     "output_type": "display_data"
    }
   ],
   "source": [
    "#matrix\n",
    "cm1= confusion_matrix(y, y_pred_knn2)\n",
    "cm1\n",
    "ConfusionMatrixDisplay(cm1).plot()\n",
    "\n",
    "class_names = [\"not at risk\", \"at risk\"]\n",
    "conf_matrix_knn = pd.DataFrame(cm1, index=class_names, columns=class_names)\n",
    "conf_matrix_knn\n"
   ]
  },
  {
   "cell_type": "markdown",
   "metadata": {},
   "source": [
    "## Q2: Logistic Regression"
   ]
  },
  {
   "cell_type": "code",
   "execution_count": 38,
   "metadata": {},
   "outputs": [
    {
     "name": "stdout",
     "output_type": "stream",
     "text": [
      "Log Model:\n",
      "param 0.01\n",
      "ROC AUC 0.8546433244916003\n",
      "Log Model:\n",
      "param 0.01\n",
      "ROC AUC 0.8546433244916003\n"
     ]
    }
   ],
   "source": [
    "ct = ColumnTransformer(\n",
    "    [\n",
    "        (\"standardize\", StandardScaler(), make_column_selector(dtype_include=np.number))\n",
    "    ],\n",
    "    remainder=\"passthrough\"\n",
    ").set_output(transform=\"pandas\")\n",
    "\n",
    "log_model1 = Pipeline(\n",
    "    [(\"preprocessing\", ct),\n",
    "    (\"log_reg\", LogisticRegression())] \n",
    "    \n",
    ").set_output(transform=\"pandas\")\n",
    "\n",
    "\n",
    "#find best neighbors\n",
    "param_log1 = {'log_reg__C': [0.01, 0.1, 1, 10, 100]}\n",
    "\n",
    "#gridsearch\n",
    "grid_search2 = GridSearchCV(log_model1, param_log1, cv=5, scoring='roc_auc', n_jobs=-1)\n",
    "\n",
    "# fit data\n",
    "grid_search2.fit(X, y)\n",
    "  \n",
    "#best C\n",
    "best_C_log1 = grid_search2.best_params_['log_reg__C']\n",
    "best_roc_auc_log1 = grid_search2.best_score_\n",
    "\n",
    "\n",
    "print(\"Log Model:\")\n",
    "print(f\"param {best_C_log1}\")\n",
    "print(f\"ROC AUC {best_roc_auc_log1}\")"
   ]
  },
  {
   "cell_type": "code",
   "execution_count": 43,
   "metadata": {},
   "outputs": [],
   "source": [
    "#log pipeline with best C\n",
    "log_model2 = Pipeline(\n",
    "    [(\"preprocessing\", ct),\n",
    "    (\"log_reg\", LogisticRegression(C=0.01))] \n",
    ").set_output(transform=\"pandas\")\n",
    "\n",
    "log_model2.fit(X, y)\n",
    "\n",
    "y_pred_log = log_model2.predict(X)  "
   ]
  },
  {
   "cell_type": "code",
   "execution_count": 44,
   "metadata": {},
   "outputs": [
    {
     "data": {
      "text/html": [
       "<div>\n",
       "<style scoped>\n",
       "    .dataframe tbody tr th:only-of-type {\n",
       "        vertical-align: middle;\n",
       "    }\n",
       "\n",
       "    .dataframe tbody tr th {\n",
       "        vertical-align: top;\n",
       "    }\n",
       "\n",
       "    .dataframe thead th {\n",
       "        text-align: right;\n",
       "    }\n",
       "</style>\n",
       "<table border=\"1\" class=\"dataframe\">\n",
       "  <thead>\n",
       "    <tr style=\"text-align: right;\">\n",
       "      <th></th>\n",
       "      <th>not at risk</th>\n",
       "      <th>at risk</th>\n",
       "    </tr>\n",
       "  </thead>\n",
       "  <tbody>\n",
       "    <tr>\n",
       "      <th>not at risk</th>\n",
       "      <td>88</td>\n",
       "      <td>39</td>\n",
       "    </tr>\n",
       "    <tr>\n",
       "      <th>at risk</th>\n",
       "      <td>19</td>\n",
       "      <td>127</td>\n",
       "    </tr>\n",
       "  </tbody>\n",
       "</table>\n",
       "</div>"
      ],
      "text/plain": [
       "             not at risk  at risk\n",
       "not at risk           88       39\n",
       "at risk               19      127"
      ]
     },
     "execution_count": null,
     "metadata": {},
     "output_type": "execute_result"
    },
    {
     "data": {
      "image/png": "[encoded data removed]",
      "text/plain": [
       "<Figure size 640x480 with 2 Axes>"
      ]
     },
     "metadata": {},
     "output_type": "display_data"
    }
   ],
   "source": [
    "#matrix\n",
    "cm2= confusion_matrix(y, y_pred_log)\n",
    "cm2\n",
    "ConfusionMatrixDisplay(cm2).plot()\n",
    "\n",
    "class_names = [\"not at risk\", \"at risk\"]\n",
    "conf_matrix_log = pd.DataFrame(cm2, index=class_names, columns=class_names)\n",
    "conf_matrix_log\n"
   ]
  },
  {
   "cell_type": "markdown",
   "metadata": {},
   "source": [
    "### Q3: Decision Tree"
   ]
  },
  {
   "cell_type": "code",
   "execution_count": 63,
   "metadata": {},
   "outputs": [
    {
     "name": "stdout",
     "output_type": "stream",
     "text": [
      "Decsion Tree\n",
      "param 0.01\n",
      "ROC AUC 0.7673043324491601\n",
      "Decsion Tree\n",
      "param 0.01\n",
      "ROC AUC 0.7673043324491601\n"
     ]
    }
   ],
   "source": [
    "ct = ColumnTransformer(\n",
    "    [\n",
    "        (\"standardize\", StandardScaler(), make_column_selector(dtype_include=np.number))\n",
    "    ],\n",
    "    remainder=\"passthrough\"\n",
    ").set_output(transform=\"pandas\")\n",
    "\n",
    "#decsion tree pipeline\n",
    "dt_model1 = Pipeline(\n",
    "    [(\"preprocessing\", ct),\n",
    "     (\"decision_tree\", DecisionTreeClassifier())]\n",
    ").set_output(transform=\"pandas\")\n",
    "\n",
    "\n",
    "param_dt = {'decision_tree__min_impurity_decrease': [0.0, 0.01, 0.1, 0.2, 0.3, 0.4, 0.5, 0.6, 0.7, 0.8, 0.9]}\n",
    "\n",
    "grid_search_dt = GridSearchCV(dt_model1, param_dt, cv=5, scoring='roc_auc', n_jobs=-1)\n",
    "\n",
    "# Fit the grid search on the data\n",
    "grid_search_dt.fit(X, y)\n",
    "\n",
    "best_min_impurity_decrease = grid_search_dt.best_params_['decision_tree__min_impurity_decrease']\n",
    "best_roc_auc_dt = grid_search_dt.best_score_\n",
    "    \n",
    "print(\"Decsion Tree\")\n",
    "print(f\"param {best_min_impurity_decrease}\")\n",
    "print(f\"ROC AUC {best_roc_auc_dt}\")\n",
    "\n"
   ]
  }
 ],
 "metadata": {
  "language_info": {
   "name": "python"
  }
 },
 "nbformat": 4,
 "nbformat_minor": 2
}
