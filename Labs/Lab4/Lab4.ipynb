{
 "cells": [
  {
   "cell_type": "raw",
   "metadata": {
    "vscode": {
     "languageId": "raw"
    }
   },
   "source": [
    "---\n",
    "title: \"Lab 4: Coffee Lovers Unite\"\n",
    "author: \"Alexandra Grover\" \n",
    "date: October 18,2024\n",
    "embed-resources: true\n",
    "---\n"
   ]
  },
  {
   "cell_type": "code",
   "execution_count": 8,
   "metadata": {},
   "outputs": [],
   "source": [
    "import pandas as pd\n",
    "import numpy as np\n",
    "import requests\n",
    "from bs4 import BeautifulSoup\n"
   ]
  },
  {
   "cell_type": "code",
   "execution_count": 9,
   "metadata": {},
   "outputs": [],
   "source": [
    "response = requests.get(\"https://worldpopulationreview.com/state-rankings/starbucks-stores-by-state\")"
   ]
  },
  {
   "cell_type": "code",
   "execution_count": null,
   "metadata": {},
   "outputs": [],
   "source": [
    "<table class=\"wpr-table\"> == $0"
   ]
  },
  {
   "cell_type": "code",
   "execution_count": 11,
   "metadata": {},
   "outputs": [],
   "source": [
    "from bs4 import BeautifulSoup\n",
    "soup = BeautifulSoup(response.content, \"html.parser\")"
   ]
  },
  {
   "cell_type": "code",
   "execution_count": 12,
   "metadata": {},
   "outputs": [
    {
     "data": {
      "text/plain": [
       "1"
      ]
     },
     "execution_count": null,
     "metadata": {},
     "output_type": "execute_result"
    }
   ],
   "source": [
    "len(soup.find_all(\"table\"))"
   ]
  },
  {
   "cell_type": "code",
   "execution_count": 18,
   "metadata": {},
   "outputs": [
    {
     "data": {
      "text/plain": [
       "<table class=\"wpr-table\"><thead class=\"table-head bg-wpr-table_header_bg relative z-40 px-0 py-0 text-xs uppercase tracking-wider\"><tr><th class=\"datatable-th bg-wpr-table_header_bg text-wpr-table_header border-wpr-table_border sticky top-0 border-b bg-clip-padding px-3 py-2 text-left align-bottom leading-4 md:px-4 pin left-0 z-50 border-l-0\"><div class=\"flex flex-col items-stretch justify-start\"><div class=\"flex flex-row items-center cursor-pointer select-none\">State</div></div></th><th class=\"datatable-th bg-wpr-table_header_bg text-wpr-table_header border-wpr-table_border sticky top-0 border-b bg-clip-padding px-3 py-2 text-left align-bottom leading-4 md:px-4 z-40\"><div class=\"flex flex-col items-stretch justify-start\"><div class=\"flex flex-row items-center cursor-pointer select-none\">Starbucks Stores 2023<svg class=\"icon icon-tabler icon-tabler-chevron-down\" fill=\"none\" height=\"14\" stroke=\"currentColor\" stroke-linecap=\"round\" stroke-linejoin=\"round\" stroke-width=\"2\" viewbox=\"0 0 24 24\" width=\"14\" xmlns=\"http://www.w3.org/2000/svg\"><path d=\"M0 0h24v24H0z\" fill=\"none\" stroke=\"none\"></path><polyline points=\"6 9 12 15 18 9\"></polyline></svg></div></div></th><th class=\"datatable-th bg-wpr-table_header_bg text-wpr-table_header border-wpr-table_border sticky top-0 border-b bg-clip-padding px-3 py-2 text-left align-bottom leading-4 md:px-4 z-40\"><div class=\"flex flex-col items-stretch justify-start\"><div class=\"flex flex-row items-center cursor-pointer select-none\">Starbucks Stores 2021</div></div></th><th class=\"datatable-th bg-wpr-table_header_bg text-wpr-table_header border-wpr-table_border sticky top-0 border-b bg-clip-padding px-3 py-2 text-left align-bottom leading-4 md:px-4 z-40\"><div class=\"flex flex-col items-stretch justify-start\"><div class=\"flex flex-row items-center cursor-pointer select-none\">Starbucks Stores 2024</div></div></th></tr></thead><tbody class=\"relative z-10 text-sm\"><tr class=\"table-row\" data-state=\"false\"><th class=\"text-wpr-table_header sticky left-0 z-50 bg-clip-padding py-1.5 pl-3 text-left align-middle text-sm md:px-4\"><a class=\"text-wpr-link\" href=\"/states/california\" to=\"/states/california\">California</a></th><td class=\"text-wpr-table_text z-40 px-3 py-1.5 text-sm md:px-4\">3,080</td><td class=\"text-wpr-table_text z-40 px-3 py-1.5 text-sm md:px-4\">2,959</td><td class=\"text-wpr-table_text z-40 px-3 py-1.5 text-sm md:px-4\">3,117</td></tr><tr class=\"table-row\" data-state=\"false\"><th class=\"text-wpr-table_header sticky left-0 z-50 bg-clip-padding py-1.5 pl-3 text-left align-middle text-sm md:px-4\"><a class=\"text-wpr-link\" href=\"/states/texas\" to=\"/states/texas\">Texas</a></th><td class=\"text-wpr-table_text z-40 px-3 py-1.5 text-sm md:px-4\">1,346</td><td class=\"text-wpr-table_text z-40 px-3 py-1.5 text-sm md:px-4\">1,215</td><td class=\"text-wpr-table_text z-40 px-3 py-1.5 text-sm md:px-4\">1,409</td></tr><tr class=\"table-row\" data-state=\"false\"><th class=\"text-wpr-table_header sticky left-0 z-50 bg-clip-padding py-1.5 pl-3 text-left align-middle text-sm md:px-4\"><a class=\"text-wpr-link\" href=\"/states/florida\" to=\"/states/florida\">Florida</a></th><td class=\"text-wpr-table_text z-40 px-3 py-1.5 text-sm md:px-4\">844</td><td class=\"text-wpr-table_text z-40 px-3 py-1.5 text-sm md:px-4\">786</td><td class=\"text-wpr-table_text z-40 px-3 py-1.5 text-sm md:px-4\">892</td></tr><tr class=\"table-row\" data-state=\"false\"><th class=\"text-wpr-table_header sticky left-0 z-50 bg-clip-padding py-1.5 pl-3 text-left align-middle text-sm md:px-4\"><a class=\"text-wpr-link\" href=\"/states/washington\" to=\"/states/washington\">Washington</a></th><td class=\"text-wpr-table_text z-40 px-3 py-1.5 text-sm md:px-4\">741</td><td class=\"text-wpr-table_text z-40 px-3 py-1.5 text-sm md:px-4\">739</td><td class=\"text-wpr-table_text z-40 px-3 py-1.5 text-sm md:px-4\">736</td></tr><tr class=\"table-row\" data-state=\"false\"><th class=\"text-wpr-table_header sticky left-0 z-50 bg-clip-padding py-1.5 pl-3 text-left align-middle text-sm md:px-4\"><a class=\"text-wpr-link\" href=\"/states/new-york\" to=\"/states/new-york\">New York</a></th><td class=\"text-wpr-table_text z-40 px-3 py-1.5 text-sm md:px-4\">692</td><td class=\"text-wpr-table_text z-40 px-3 py-1.5 text-sm md:px-4\">643</td><td class=\"text-wpr-table_text z-40 px-3 py-1.5 text-sm md:px-4\">715</td></tr><tr class=\"table-row\" data-state=\"false\"><th class=\"text-wpr-table_header sticky left-0 z-50 bg-clip-padding py-1.5 pl-3 text-left align-middle text-sm md:px-4\"><a class=\"text-wpr-link\" href=\"/states/illinois\" to=\"/states/illinois\">Illinois</a></th><td class=\"text-wpr-table_text z-40 px-3 py-1.5 text-sm md:px-4\">677</td><td class=\"text-wpr-table_text z-40 px-3 py-1.5 text-sm md:px-4\">621</td><td class=\"text-wpr-table_text z-40 px-3 py-1.5 text-sm md:px-4\">685</td></tr><tr class=\"table-row\" data-state=\"false\"><th class=\"text-wpr-table_header sticky left-0 z-50 bg-clip-padding py-1.5 pl-3 text-left align-middle text-sm md:px-4\"><a class=\"text-wpr-link\" href=\"/states/arizona\" to=\"/states/arizona\">Arizona</a></th><td class=\"text-wpr-table_text z-40 px-3 py-1.5 text-sm md:px-4\">548</td><td class=\"text-wpr-table_text z-40 px-3 py-1.5 text-sm md:px-4\">535</td><td class=\"text-wpr-table_text z-40 px-3 py-1.5 text-sm md:px-4\">579</td></tr><tr class=\"table-row\" data-state=\"false\"><th class=\"text-wpr-table_header sticky left-0 z-50 bg-clip-padding py-1.5 pl-3 text-left align-middle text-sm md:px-4\"><a class=\"text-wpr-link\" href=\"/states/colorado\" to=\"/states/colorado\">Colorado</a></th><td class=\"text-wpr-table_text z-40 px-3 py-1.5 text-sm md:px-4\">495</td><td class=\"text-wpr-table_text z-40 px-3 py-1.5 text-sm md:px-4\">497</td><td class=\"text-wpr-table_text z-40 px-3 py-1.5 text-sm md:px-4\">506</td></tr><tr class=\"table-row\" data-state=\"false\"><th class=\"text-wpr-table_header sticky left-0 z-50 bg-clip-padding py-1.5 pl-3 text-left align-middle text-sm md:px-4\"><a class=\"text-wpr-link\" href=\"/states/ohio\" to=\"/states/ohio\">Ohio</a></th><td class=\"text-wpr-table_text z-40 px-3 py-1.5 text-sm md:px-4\">491</td><td class=\"text-wpr-table_text z-40 px-3 py-1.5 text-sm md:px-4\">446</td><td class=\"text-wpr-table_text z-40 px-3 py-1.5 text-sm md:px-4\">499</td></tr><tr class=\"table-row\" data-state=\"false\"><th class=\"text-wpr-table_header sticky left-0 z-50 bg-clip-padding py-1.5 pl-3 text-left align-middle text-sm md:px-4\"><a class=\"text-wpr-link\" href=\"/states/virginia\" to=\"/states/virginia\">Virginia</a></th><td class=\"text-wpr-table_text z-40 px-3 py-1.5 text-sm md:px-4\">489</td><td class=\"text-wpr-table_text z-40 px-3 py-1.5 text-sm md:px-4\">456</td><td class=\"text-wpr-table_text z-40 px-3 py-1.5 text-sm md:px-4\">510</td></tr><tr class=\"table-row\" data-state=\"false\"><th class=\"text-wpr-table_header sticky left-0 z-50 bg-clip-padding py-1.5 pl-3 text-left align-middle text-sm md:px-4\"><a class=\"text-wpr-link\" href=\"/states/oregon\" to=\"/states/oregon\">Oregon</a></th><td class=\"text-wpr-table_text z-40 px-3 py-1.5 text-sm md:px-4\">359</td><td class=\"text-wpr-table_text z-40 px-3 py-1.5 text-sm md:px-4\">345</td><td class=\"text-wpr-table_text z-40 px-3 py-1.5 text-sm md:px-4\"></td></tr><tr class=\"table-row\" data-state=\"false\"><th class=\"text-wpr-table_header sticky left-0 z-50 bg-clip-padding py-1.5 pl-3 text-left align-middle text-sm md:px-4\"><a class=\"text-wpr-link\" href=\"/states/pennsylvania\" to=\"/states/pennsylvania\">Pennsylvania</a></th><td class=\"text-wpr-table_text z-40 px-3 py-1.5 text-sm md:px-4\">357</td><td class=\"text-wpr-table_text z-40 px-3 py-1.5 text-sm md:px-4\">406</td><td class=\"text-wpr-table_text z-40 px-3 py-1.5 text-sm md:px-4\"></td></tr><tr class=\"table-row\" data-state=\"false\"><th class=\"text-wpr-table_header sticky left-0 z-50 bg-clip-padding py-1.5 pl-3 text-left align-middle text-sm md:px-4\"><a class=\"text-wpr-link\" href=\"/states/north-carolina\" to=\"/states/north-carolina\">North Carolina</a></th><td class=\"text-wpr-table_text z-40 px-3 py-1.5 text-sm md:px-4\">338</td><td class=\"text-wpr-table_text z-40 px-3 py-1.5 text-sm md:px-4\">422</td><td class=\"text-wpr-table_text z-40 px-3 py-1.5 text-sm md:px-4\"></td></tr><tr class=\"table-row\" data-state=\"false\"><th class=\"text-wpr-table_header sticky left-0 z-50 bg-clip-padding py-1.5 pl-3 text-left align-middle text-sm md:px-4\"><a class=\"text-wpr-link\" href=\"/states/georgia\" to=\"/states/georgia\">Georgia</a></th><td class=\"text-wpr-table_text z-40 px-3 py-1.5 text-sm md:px-4\">326</td><td class=\"text-wpr-table_text z-40 px-3 py-1.5 text-sm md:px-4\">379</td><td class=\"text-wpr-table_text z-40 px-3 py-1.5 text-sm md:px-4\"></td></tr><tr class=\"table-row\" data-state=\"false\"><th class=\"text-wpr-table_header sticky left-0 z-50 bg-clip-padding py-1.5 pl-3 text-left align-middle text-sm md:px-4\"><a class=\"text-wpr-link\" href=\"/states/michigan\" to=\"/states/michigan\">Michigan</a></th><td class=\"text-wpr-table_text z-40 px-3 py-1.5 text-sm md:px-4\">283</td><td class=\"text-wpr-table_text z-40 px-3 py-1.5 text-sm md:px-4\">310</td><td class=\"text-wpr-table_text z-40 px-3 py-1.5 text-sm md:px-4\"></td></tr><tr class=\"table-row\" data-state=\"false\"><th class=\"text-wpr-table_header sticky left-0 z-50 bg-clip-padding py-1.5 pl-3 text-left align-middle text-sm md:px-4\"><a class=\"text-wpr-link\" href=\"/states/massachusetts\" to=\"/states/massachusetts\">Massachusetts</a></th><td class=\"text-wpr-table_text z-40 px-3 py-1.5 text-sm md:px-4\">273</td><td class=\"text-wpr-table_text z-40 px-3 py-1.5 text-sm md:px-4\">279</td><td class=\"text-wpr-table_text z-40 px-3 py-1.5 text-sm md:px-4\"></td></tr><tr class=\"table-row\" data-state=\"false\"><th class=\"text-wpr-table_header sticky left-0 z-50 bg-clip-padding py-1.5 pl-3 text-left align-middle text-sm md:px-4\"><a class=\"text-wpr-link\" href=\"/states/new-jersey\" to=\"/states/new-jersey\">New Jersey</a></th><td class=\"text-wpr-table_text z-40 px-3 py-1.5 text-sm md:px-4\">261</td><td class=\"text-wpr-table_text z-40 px-3 py-1.5 text-sm md:px-4\">293</td><td class=\"text-wpr-table_text z-40 px-3 py-1.5 text-sm md:px-4\"></td></tr><tr class=\"table-row\" data-state=\"false\"><th class=\"text-wpr-table_header sticky left-0 z-50 bg-clip-padding py-1.5 pl-3 text-left align-middle text-sm md:px-4\"><a class=\"text-wpr-link\" href=\"/states/maryland\" to=\"/states/maryland\">Maryland</a></th><td class=\"text-wpr-table_text z-40 px-3 py-1.5 text-sm md:px-4\">257</td><td class=\"text-wpr-table_text z-40 px-3 py-1.5 text-sm md:px-4\">274</td><td class=\"text-wpr-table_text z-40 px-3 py-1.5 text-sm md:px-4\"></td></tr><tr class=\"table-row\" data-state=\"false\"><th class=\"text-wpr-table_header sticky left-0 z-50 bg-clip-padding py-1.5 pl-3 text-left align-middle text-sm md:px-4\"><a class=\"text-wpr-link\" href=\"/states/nevada\" to=\"/states/nevada\">Nevada</a></th><td class=\"text-wpr-table_text z-40 px-3 py-1.5 text-sm md:px-4\">253</td><td class=\"text-wpr-table_text z-40 px-3 py-1.5 text-sm md:px-4\">269</td><td class=\"text-wpr-table_text z-40 px-3 py-1.5 text-sm md:px-4\"></td></tr><tr class=\"table-row\" data-state=\"false\"><th class=\"text-wpr-table_header sticky left-0 z-50 bg-clip-padding py-1.5 pl-3 text-left align-middle text-sm md:px-4\"><a class=\"text-wpr-link\" href=\"/states/indiana\" to=\"/states/indiana\">Indiana</a></th><td class=\"text-wpr-table_text z-40 px-3 py-1.5 text-sm md:px-4\">221</td><td class=\"text-wpr-table_text z-40 px-3 py-1.5 text-sm md:px-4\">265</td><td class=\"text-wpr-table_text z-40 px-3 py-1.5 text-sm md:px-4\"></td></tr><tr class=\"table-row\" data-state=\"false\"><th class=\"text-wpr-table_header sticky left-0 z-50 bg-clip-padding py-1.5 pl-3 text-left align-middle text-sm md:px-4\"><a class=\"text-wpr-link\" href=\"/states/missouri\" to=\"/states/missouri\">Missouri</a></th><td class=\"text-wpr-table_text z-40 px-3 py-1.5 text-sm md:px-4\">188</td><td class=\"text-wpr-table_text z-40 px-3 py-1.5 text-sm md:px-4\">208</td><td class=\"text-wpr-table_text z-40 px-3 py-1.5 text-sm md:px-4\"></td></tr><tr class=\"table-row\" data-state=\"false\"><th class=\"text-wpr-table_header sticky left-0 z-50 bg-clip-padding py-1.5 pl-3 text-left align-middle text-sm md:px-4\"><a class=\"text-wpr-link\" href=\"/states/minnesota\" to=\"/states/minnesota\">Minnesota</a></th><td class=\"text-wpr-table_text z-40 px-3 py-1.5 text-sm md:px-4\">184</td><td class=\"text-wpr-table_text z-40 px-3 py-1.5 text-sm md:px-4\">212</td><td class=\"text-wpr-table_text z-40 px-3 py-1.5 text-sm md:px-4\"></td></tr><tr class=\"table-row\" data-state=\"false\"><th class=\"text-wpr-table_header sticky left-0 z-50 bg-clip-padding py-1.5 pl-3 text-left align-middle text-sm md:px-4\"><a class=\"text-wpr-link\" href=\"/states/tennessee\" to=\"/states/tennessee\">Tennessee</a></th><td class=\"text-wpr-table_text z-40 px-3 py-1.5 text-sm md:px-4\">180</td><td class=\"text-wpr-table_text z-40 px-3 py-1.5 text-sm md:px-4\">237</td><td class=\"text-wpr-table_text z-40 px-3 py-1.5 text-sm md:px-4\"></td></tr><tr class=\"table-row\" data-state=\"false\"><th class=\"text-wpr-table_header sticky left-0 z-50 bg-clip-padding py-1.5 pl-3 text-left align-middle text-sm md:px-4\"><a class=\"text-wpr-link\" href=\"/states/kentucky\" to=\"/states/kentucky\">Kentucky</a></th><td class=\"text-wpr-table_text z-40 px-3 py-1.5 text-sm md:px-4\">166</td><td class=\"text-wpr-table_text z-40 px-3 py-1.5 text-sm md:px-4\">131</td><td class=\"text-wpr-table_text z-40 px-3 py-1.5 text-sm md:px-4\"></td></tr><tr class=\"table-row\" data-state=\"false\"><th class=\"text-wpr-table_header sticky left-0 z-50 bg-clip-padding py-1.5 pl-3 text-left align-middle text-sm md:px-4\"><a class=\"text-wpr-link\" href=\"/states/wisconsin\" to=\"/states/wisconsin\">Wisconsin</a></th><td class=\"text-wpr-table_text z-40 px-3 py-1.5 text-sm md:px-4\">145</td><td class=\"text-wpr-table_text z-40 px-3 py-1.5 text-sm md:px-4\">176</td><td class=\"text-wpr-table_text z-40 px-3 py-1.5 text-sm md:px-4\"></td></tr><tr class=\"table-row\" data-state=\"false\"><th class=\"text-wpr-table_header sticky left-0 z-50 bg-clip-padding py-1.5 pl-3 text-left align-middle text-sm md:px-4\"><a class=\"text-wpr-link\" href=\"/states/south-carolina\" to=\"/states/south-carolina\">South Carolina</a></th><td class=\"text-wpr-table_text z-40 px-3 py-1.5 text-sm md:px-4\">131</td><td class=\"text-wpr-table_text z-40 px-3 py-1.5 text-sm md:px-4\">207</td><td class=\"text-wpr-table_text z-40 px-3 py-1.5 text-sm md:px-4\"></td></tr><tr class=\"table-row\" data-state=\"false\"><th class=\"text-wpr-table_header sticky left-0 z-50 bg-clip-padding py-1.5 pl-3 text-left align-middle text-sm md:px-4\"><a class=\"text-wpr-link\" href=\"/states/connecticut\" to=\"/states/connecticut\">Connecticut</a></th><td class=\"text-wpr-table_text z-40 px-3 py-1.5 text-sm md:px-4\">123</td><td class=\"text-wpr-table_text z-40 px-3 py-1.5 text-sm md:px-4\">125</td><td class=\"text-wpr-table_text z-40 px-3 py-1.5 text-sm md:px-4\"></td></tr><tr class=\"table-row\" data-state=\"false\"><th class=\"text-wpr-table_header sticky left-0 z-50 bg-clip-padding py-1.5 pl-3 text-left align-middle text-sm md:px-4\"><a class=\"text-wpr-link\" href=\"/states/utah\" to=\"/states/utah\">Utah</a></th><td class=\"text-wpr-table_text z-40 px-3 py-1.5 text-sm md:px-4\">101</td><td class=\"text-wpr-table_text z-40 px-3 py-1.5 text-sm md:px-4\">126</td><td class=\"text-wpr-table_text z-40 px-3 py-1.5 text-sm md:px-4\"></td></tr><tr class=\"table-row\" data-state=\"false\"><th class=\"text-wpr-table_header sticky left-0 z-50 bg-clip-padding py-1.5 pl-3 text-left align-middle text-sm md:px-4\"><a class=\"text-wpr-link\" href=\"/states/hawaii\" to=\"/states/hawaii\">Hawaii</a></th><td class=\"text-wpr-table_text z-40 px-3 py-1.5 text-sm md:px-4\">99</td><td class=\"text-wpr-table_text z-40 px-3 py-1.5 text-sm md:px-4\">105</td><td class=\"text-wpr-table_text z-40 px-3 py-1.5 text-sm md:px-4\"></td></tr><tr class=\"table-row\" data-state=\"false\"><th class=\"text-wpr-table_header sticky left-0 z-50 bg-clip-padding py-1.5 pl-3 text-left align-middle text-sm md:px-4\"><a class=\"text-wpr-link\" href=\"/states/kansas\" to=\"/states/kansas\">Kansas</a></th><td class=\"text-wpr-table_text z-40 px-3 py-1.5 text-sm md:px-4\">94</td><td class=\"text-wpr-table_text z-40 px-3 py-1.5 text-sm md:px-4\">120</td><td class=\"text-wpr-table_text z-40 px-3 py-1.5 text-sm md:px-4\"></td></tr><tr class=\"table-row\" data-state=\"false\"><th class=\"text-wpr-table_header sticky left-0 z-50 bg-clip-padding py-1.5 pl-3 text-left align-middle text-sm md:px-4\"><a class=\"text-wpr-link\" href=\"/states/district-of-columbia\" to=\"/states/district-of-columbia\">District of Columbia</a></th><td class=\"text-wpr-table_text z-40 px-3 py-1.5 text-sm md:px-4\">91</td><td class=\"text-wpr-table_text z-40 px-3 py-1.5 text-sm md:px-4\"></td><td class=\"text-wpr-table_text z-40 px-3 py-1.5 text-sm md:px-4\"></td></tr><tr class=\"table-row\" data-state=\"false\"><th class=\"text-wpr-table_header sticky left-0 z-50 bg-clip-padding py-1.5 pl-3 text-left align-middle text-sm md:px-4\"><a class=\"text-wpr-link\" href=\"/states/iowa\" to=\"/states/iowa\">Iowa</a></th><td class=\"text-wpr-table_text z-40 px-3 py-1.5 text-sm md:px-4\">89</td><td class=\"text-wpr-table_text z-40 px-3 py-1.5 text-sm md:px-4\">142</td><td class=\"text-wpr-table_text z-40 px-3 py-1.5 text-sm md:px-4\"></td></tr><tr class=\"table-row\" data-state=\"false\"><th class=\"text-wpr-table_header sticky left-0 z-50 bg-clip-padding py-1.5 pl-3 text-left align-middle text-sm md:px-4\"><a class=\"text-wpr-link\" href=\"/states/alabama\" to=\"/states/alabama\">Alabama</a></th><td class=\"text-wpr-table_text z-40 px-3 py-1.5 text-sm md:px-4\">85</td><td class=\"text-wpr-table_text z-40 px-3 py-1.5 text-sm md:px-4\">99</td><td class=\"text-wpr-table_text z-40 px-3 py-1.5 text-sm md:px-4\"></td></tr><tr class=\"table-row\" data-state=\"false\"><th class=\"text-wpr-table_header sticky left-0 z-50 bg-clip-padding py-1.5 pl-3 text-left align-middle text-sm md:px-4\"><a class=\"text-wpr-link\" href=\"/states/louisiana\" to=\"/states/louisiana\">Louisiana</a></th><td class=\"text-wpr-table_text z-40 px-3 py-1.5 text-sm md:px-4\">84</td><td class=\"text-wpr-table_text z-40 px-3 py-1.5 text-sm md:px-4\">10</td><td class=\"text-wpr-table_text z-40 px-3 py-1.5 text-sm md:px-4\"></td></tr><tr class=\"table-row\" data-state=\"false\"><th class=\"text-wpr-table_header sticky left-0 z-50 bg-clip-padding py-1.5 pl-3 text-left align-middle text-sm md:px-4\"><a class=\"text-wpr-link\" href=\"/states/oklahoma\" to=\"/states/oklahoma\">Oklahoma</a></th><td class=\"text-wpr-table_text z-40 px-3 py-1.5 text-sm md:px-4\">79</td><td class=\"text-wpr-table_text z-40 px-3 py-1.5 text-sm md:px-4\">94</td><td class=\"text-wpr-table_text z-40 px-3 py-1.5 text-sm md:px-4\"></td></tr><tr class=\"table-row\" data-state=\"false\"><th class=\"text-wpr-table_header sticky left-0 z-50 bg-clip-padding py-1.5 pl-3 text-left align-middle text-sm md:px-4\"><a class=\"text-wpr-link\" href=\"/states/new-mexico\" to=\"/states/new-mexico\">New Mexico</a></th><td class=\"text-wpr-table_text z-40 px-3 py-1.5 text-sm md:px-4\">76</td><td class=\"text-wpr-table_text z-40 px-3 py-1.5 text-sm md:px-4\">92</td><td class=\"text-wpr-table_text z-40 px-3 py-1.5 text-sm md:px-4\"></td></tr><tr class=\"table-row\" data-state=\"false\"><th class=\"text-wpr-table_header sticky left-0 z-50 bg-clip-padding py-1.5 pl-3 text-left align-middle text-sm md:px-4\"><a class=\"text-wpr-link\" href=\"/states/idaho\" to=\"/states/idaho\">Idaho</a></th><td class=\"text-wpr-table_text z-40 px-3 py-1.5 text-sm md:px-4\">67</td><td class=\"text-wpr-table_text z-40 px-3 py-1.5 text-sm md:px-4\">78</td><td class=\"text-wpr-table_text z-40 px-3 py-1.5 text-sm md:px-4\"></td></tr><tr class=\"table-row\" data-state=\"false\"><th class=\"text-wpr-table_header sticky left-0 z-50 bg-clip-padding py-1.5 pl-3 text-left align-middle text-sm md:px-4\"><a class=\"text-wpr-link\" href=\"/states/nebraska\" to=\"/states/nebraska\">Nebraska</a></th><td class=\"text-wpr-table_text z-40 px-3 py-1.5 text-sm md:px-4\">58</td><td class=\"text-wpr-table_text z-40 px-3 py-1.5 text-sm md:px-4\">87</td><td class=\"text-wpr-table_text z-40 px-3 py-1.5 text-sm md:px-4\"></td></tr><tr class=\"table-row\" data-state=\"false\"><th class=\"text-wpr-table_header sticky left-0 z-50 bg-clip-padding py-1.5 pl-3 text-left align-middle text-sm md:px-4\"><a class=\"text-wpr-link\" href=\"/states/arkansas\" to=\"/states/arkansas\">Arkansas</a></th><td class=\"text-wpr-table_text z-40 px-3 py-1.5 text-sm md:px-4\">55</td><td class=\"text-wpr-table_text z-40 px-3 py-1.5 text-sm md:px-4\">66</td><td class=\"text-wpr-table_text z-40 px-3 py-1.5 text-sm md:px-4\"></td></tr><tr class=\"table-row\" data-state=\"false\"><th class=\"text-wpr-table_header sticky left-0 z-50 bg-clip-padding py-1.5 pl-3 text-left align-middle text-sm md:px-4\"><a class=\"text-wpr-link\" href=\"/states/alaska\" to=\"/states/alaska\">Alaska</a></th><td class=\"text-wpr-table_text z-40 px-3 py-1.5 text-sm md:px-4\">49</td><td class=\"text-wpr-table_text z-40 px-3 py-1.5 text-sm md:px-4\">49</td><td class=\"text-wpr-table_text z-40 px-3 py-1.5 text-sm md:px-4\"></td></tr><tr class=\"table-row\" data-state=\"false\"><th class=\"text-wpr-table_header sticky left-0 z-50 bg-clip-padding py-1.5 pl-3 text-left align-middle text-sm md:px-4\"><a class=\"text-wpr-link\" href=\"/states/mississippi\" to=\"/states/mississippi\">Mississippi</a></th><td class=\"text-wpr-table_text z-40 px-3 py-1.5 text-sm md:px-4\">32</td><td class=\"text-wpr-table_text z-40 px-3 py-1.5 text-sm md:px-4\">36</td><td class=\"text-wpr-table_text z-40 px-3 py-1.5 text-sm md:px-4\"></td></tr><tr class=\"table-row\" data-state=\"false\"><th class=\"text-wpr-table_header sticky left-0 z-50 bg-clip-padding py-1.5 pl-3 text-left align-middle text-sm md:px-4\"><a class=\"text-wpr-link\" href=\"/states/montana\" to=\"/states/montana\">Montana</a></th><td class=\"text-wpr-table_text z-40 px-3 py-1.5 text-sm md:px-4\">32</td><td class=\"text-wpr-table_text z-40 px-3 py-1.5 text-sm md:px-4\">45</td><td class=\"text-wpr-table_text z-40 px-3 py-1.5 text-sm md:px-4\"></td></tr><tr class=\"table-row\" data-state=\"false\"><th class=\"text-wpr-table_header sticky left-0 z-50 bg-clip-padding py-1.5 pl-3 text-left align-middle text-sm md:px-4\"><a class=\"text-wpr-link\" href=\"/states/maine\" to=\"/states/maine\">Maine</a></th><td class=\"text-wpr-table_text z-40 px-3 py-1.5 text-sm md:px-4\">30</td><td class=\"text-wpr-table_text z-40 px-3 py-1.5 text-sm md:px-4\">31</td><td class=\"text-wpr-table_text z-40 px-3 py-1.5 text-sm md:px-4\"></td></tr><tr class=\"table-row\" data-state=\"false\"><th class=\"text-wpr-table_header sticky left-0 z-50 bg-clip-padding py-1.5 pl-3 text-left align-middle text-sm md:px-4\"><a class=\"text-wpr-link\" href=\"/states/new-hampshire\" to=\"/states/new-hampshire\">New Hampshire</a></th><td class=\"text-wpr-table_text z-40 px-3 py-1.5 text-sm md:px-4\">29</td><td class=\"text-wpr-table_text z-40 px-3 py-1.5 text-sm md:px-4\">35</td><td class=\"text-wpr-table_text z-40 px-3 py-1.5 text-sm md:px-4\"></td></tr><tr class=\"table-row\" data-state=\"false\"><th class=\"text-wpr-table_header sticky left-0 z-50 bg-clip-padding py-1.5 pl-3 text-left align-middle text-sm md:px-4\"><a class=\"text-wpr-link\" href=\"/states/rhode-island\" to=\"/states/rhode-island\">Rhode Island</a></th><td class=\"text-wpr-table_text z-40 px-3 py-1.5 text-sm md:px-4\">27</td><td class=\"text-wpr-table_text z-40 px-3 py-1.5 text-sm md:px-4\">26</td><td class=\"text-wpr-table_text z-40 px-3 py-1.5 text-sm md:px-4\"></td></tr><tr class=\"table-row\" data-state=\"false\"><th class=\"text-wpr-table_header sticky left-0 z-50 bg-clip-padding py-1.5 pl-3 text-left align-middle text-sm md:px-4\"><a class=\"text-wpr-link\" href=\"/states/delaware\" to=\"/states/delaware\">Delaware</a></th><td class=\"text-wpr-table_text z-40 px-3 py-1.5 text-sm md:px-4\">25</td><td class=\"text-wpr-table_text z-40 px-3 py-1.5 text-sm md:px-4\">39</td><td class=\"text-wpr-table_text z-40 px-3 py-1.5 text-sm md:px-4\"></td></tr><tr class=\"table-row\" data-state=\"false\"><th class=\"text-wpr-table_header sticky left-0 z-50 bg-clip-padding py-1.5 pl-3 text-left align-middle text-sm md:px-4\"><a class=\"text-wpr-link\" href=\"/states/south-dakota\" to=\"/states/south-dakota\">South Dakota</a></th><td class=\"text-wpr-table_text z-40 px-3 py-1.5 text-sm md:px-4\">25</td><td class=\"text-wpr-table_text z-40 px-3 py-1.5 text-sm md:px-4\">52</td><td class=\"text-wpr-table_text z-40 px-3 py-1.5 text-sm md:px-4\"></td></tr><tr class=\"table-row\" data-state=\"false\"><th class=\"text-wpr-table_header sticky left-0 z-50 bg-clip-padding py-1.5 pl-3 text-left align-middle text-sm md:px-4\"><a class=\"text-wpr-link\" href=\"/states/west-virginia\" to=\"/states/west-virginia\">West Virginia</a></th><td class=\"text-wpr-table_text z-40 px-3 py-1.5 text-sm md:px-4\">25</td><td class=\"text-wpr-table_text z-40 px-3 py-1.5 text-sm md:px-4\">64</td><td class=\"text-wpr-table_text z-40 px-3 py-1.5 text-sm md:px-4\"></td></tr><tr class=\"table-row\" data-state=\"false\"><th class=\"text-wpr-table_header sticky left-0 z-50 bg-clip-padding py-1.5 pl-3 text-left align-middle text-sm md:px-4\"><a class=\"text-wpr-link\" href=\"/states/wyoming\" to=\"/states/wyoming\">Wyoming</a></th><td class=\"text-wpr-table_text z-40 px-3 py-1.5 text-sm md:px-4\">23</td><td class=\"text-wpr-table_text z-40 px-3 py-1.5 text-sm md:px-4\">26</td><td class=\"text-wpr-table_text z-40 px-3 py-1.5 text-sm md:px-4\"></td></tr><tr class=\"table-row\" data-state=\"false\"><th class=\"text-wpr-table_header sticky left-0 z-50 bg-clip-padding py-1.5 pl-3 text-left align-middle text-sm md:px-4\"><a class=\"text-wpr-link\" href=\"/states/north-dakota\" to=\"/states/north-dakota\">North Dakota</a></th><td class=\"text-wpr-table_text z-40 px-3 py-1.5 text-sm md:px-4\">13</td><td class=\"text-wpr-table_text z-40 px-3 py-1.5 text-sm md:px-4\">20</td><td class=\"text-wpr-table_text z-40 px-3 py-1.5 text-sm md:px-4\"></td></tr><tr class=\"table-row\" data-state=\"false\"><th class=\"text-wpr-table_header sticky left-0 z-50 bg-clip-padding py-1.5 pl-3 text-left align-middle text-sm md:px-4\"><a class=\"text-wpr-link\" href=\"/states/vermont\" to=\"/states/vermont\">Vermont</a></th><td class=\"text-wpr-table_text z-40 px-3 py-1.5 text-sm md:px-4\">8</td><td class=\"text-wpr-table_text z-40 px-3 py-1.5 text-sm md:px-4\">35</td><td class=\"text-wpr-table_text z-40 px-3 py-1.5 text-sm md:px-4\"></td></tr></tbody></table>"
      ]
     },
     "execution_count": null,
     "metadata": {},
     "output_type": "execute_result"
    }
   ],
   "source": [
    "table=(soup.find_all(\"table\"))[0]\n",
    "table"
   ]
  },
  {
   "cell_type": "code",
   "execution_count": 20,
   "metadata": {},
   "outputs": [
    {
     "data": {
      "text/plain": [
       "<tr class=\"table-row\" data-state=\"false\"><th class=\"text-wpr-table_header sticky left-0 z-50 bg-clip-padding py-1.5 pl-3 text-left align-middle text-sm md:px-4\"><a class=\"text-wpr-link\" href=\"/states/california\" to=\"/states/california\">California</a></th><td class=\"text-wpr-table_text z-40 px-3 py-1.5 text-sm md:px-4\">3,080</td><td class=\"text-wpr-table_text z-40 px-3 py-1.5 text-sm md:px-4\">2,959</td><td class=\"text-wpr-table_text z-40 px-3 py-1.5 text-sm md:px-4\">3,117</td></tr>"
      ]
     },
     "execution_count": null,
     "metadata": {},
     "output_type": "execute_result"
    }
   ],
   "source": [
    "#row\n",
    "row= table.find_all(\"tr\")[1]\n",
    "row"
   ]
  },
  {
   "cell_type": "code",
   "execution_count": 21,
   "metadata": {},
   "outputs": [
    {
     "data": {
      "text/plain": [
       "'California'"
      ]
     },
     "execution_count": null,
     "metadata": {},
     "output_type": "execute_result"
    }
   ],
   "source": [
    "#state\n",
    "row.find(\"th\").text"
   ]
  },
  {
   "cell_type": "code",
   "execution_count": 22,
   "metadata": {},
   "outputs": [
    {
     "data": {
      "text/plain": [
       "'3,080'"
      ]
     },
     "execution_count": null,
     "metadata": {},
     "output_type": "execute_result"
    }
   ],
   "source": [
    "#num of starbs in state\n",
    "row.find(\"td\").text"
   ]
  },
  {
   "cell_type": "code",
   "execution_count": 24,
   "metadata": {},
   "outputs": [],
   "source": [
    "starbs= []\n",
    "\n",
    "# iterate over all rows in the population table\n",
    "for state in table.find_all(\"tr\")[2:]:\n",
    "\n",
    "  #state\n",
    "  state= row.find(\"th\").text\n",
    "\n",
    "  #num starbs\n",
    "  num=row.find(\"td\").text\n",
    "\n",
    "  starbs.append({\n",
    "                \"state\": state,\n",
    "                \"num\": num,\n",
    "  })\n",
    "\n",
    "  "
   ]
  },
  {
   "cell_type": "code",
   "execution_count": 25,
   "metadata": {},
   "outputs": [
    {
     "data": {
      "text/html": [
       "<div>\n",
       "<style scoped>\n",
       "    .dataframe tbody tr th:only-of-type {\n",
       "        vertical-align: middle;\n",
       "    }\n",
       "\n",
       "    .dataframe tbody tr th {\n",
       "        vertical-align: top;\n",
       "    }\n",
       "\n",
       "    .dataframe thead th {\n",
       "        text-align: right;\n",
       "    }\n",
       "</style>\n",
       "<table border=\"1\" class=\"dataframe\">\n",
       "  <thead>\n",
       "    <tr style=\"text-align: right;\">\n",
       "      <th></th>\n",
       "      <th>state</th>\n",
       "      <th>num</th>\n",
       "    </tr>\n",
       "  </thead>\n",
       "  <tbody>\n",
       "    <tr>\n",
       "      <th>0</th>\n",
       "      <td>California</td>\n",
       "      <td>3,080</td>\n",
       "    </tr>\n",
       "    <tr>\n",
       "      <th>1</th>\n",
       "      <td>California</td>\n",
       "      <td>3,080</td>\n",
       "    </tr>\n",
       "    <tr>\n",
       "      <th>2</th>\n",
       "      <td>California</td>\n",
       "      <td>3,080</td>\n",
       "    </tr>\n",
       "    <tr>\n",
       "      <th>3</th>\n",
       "      <td>California</td>\n",
       "      <td>3,080</td>\n",
       "    </tr>\n",
       "    <tr>\n",
       "      <th>4</th>\n",
       "      <td>California</td>\n",
       "      <td>3,080</td>\n",
       "    </tr>\n",
       "    <tr>\n",
       "      <th>5</th>\n",
       "      <td>California</td>\n",
       "      <td>3,080</td>\n",
       "    </tr>\n",
       "    <tr>\n",
       "      <th>6</th>\n",
       "      <td>California</td>\n",
       "      <td>3,080</td>\n",
       "    </tr>\n",
       "    <tr>\n",
       "      <th>7</th>\n",
       "      <td>California</td>\n",
       "      <td>3,080</td>\n",
       "    </tr>\n",
       "    <tr>\n",
       "      <th>8</th>\n",
       "      <td>California</td>\n",
       "      <td>3,080</td>\n",
       "    </tr>\n",
       "    <tr>\n",
       "      <th>9</th>\n",
       "      <td>California</td>\n",
       "      <td>3,080</td>\n",
       "    </tr>\n",
       "    <tr>\n",
       "      <th>10</th>\n",
       "      <td>California</td>\n",
       "      <td>3,080</td>\n",
       "    </tr>\n",
       "    <tr>\n",
       "      <th>11</th>\n",
       "      <td>California</td>\n",
       "      <td>3,080</td>\n",
       "    </tr>\n",
       "    <tr>\n",
       "      <th>12</th>\n",
       "      <td>California</td>\n",
       "      <td>3,080</td>\n",
       "    </tr>\n",
       "    <tr>\n",
       "      <th>13</th>\n",
       "      <td>California</td>\n",
       "      <td>3,080</td>\n",
       "    </tr>\n",
       "    <tr>\n",
       "      <th>14</th>\n",
       "      <td>California</td>\n",
       "      <td>3,080</td>\n",
       "    </tr>\n",
       "    <tr>\n",
       "      <th>15</th>\n",
       "      <td>California</td>\n",
       "      <td>3,080</td>\n",
       "    </tr>\n",
       "    <tr>\n",
       "      <th>16</th>\n",
       "      <td>California</td>\n",
       "      <td>3,080</td>\n",
       "    </tr>\n",
       "    <tr>\n",
       "      <th>17</th>\n",
       "      <td>California</td>\n",
       "      <td>3,080</td>\n",
       "    </tr>\n",
       "    <tr>\n",
       "      <th>18</th>\n",
       "      <td>California</td>\n",
       "      <td>3,080</td>\n",
       "    </tr>\n",
       "    <tr>\n",
       "      <th>19</th>\n",
       "      <td>California</td>\n",
       "      <td>3,080</td>\n",
       "    </tr>\n",
       "    <tr>\n",
       "      <th>20</th>\n",
       "      <td>California</td>\n",
       "      <td>3,080</td>\n",
       "    </tr>\n",
       "    <tr>\n",
       "      <th>21</th>\n",
       "      <td>California</td>\n",
       "      <td>3,080</td>\n",
       "    </tr>\n",
       "    <tr>\n",
       "      <th>22</th>\n",
       "      <td>California</td>\n",
       "      <td>3,080</td>\n",
       "    </tr>\n",
       "    <tr>\n",
       "      <th>23</th>\n",
       "      <td>California</td>\n",
       "      <td>3,080</td>\n",
       "    </tr>\n",
       "    <tr>\n",
       "      <th>24</th>\n",
       "      <td>California</td>\n",
       "      <td>3,080</td>\n",
       "    </tr>\n",
       "    <tr>\n",
       "      <th>25</th>\n",
       "      <td>California</td>\n",
       "      <td>3,080</td>\n",
       "    </tr>\n",
       "    <tr>\n",
       "      <th>26</th>\n",
       "      <td>California</td>\n",
       "      <td>3,080</td>\n",
       "    </tr>\n",
       "    <tr>\n",
       "      <th>27</th>\n",
       "      <td>California</td>\n",
       "      <td>3,080</td>\n",
       "    </tr>\n",
       "    <tr>\n",
       "      <th>28</th>\n",
       "      <td>California</td>\n",
       "      <td>3,080</td>\n",
       "    </tr>\n",
       "    <tr>\n",
       "      <th>29</th>\n",
       "      <td>California</td>\n",
       "      <td>3,080</td>\n",
       "    </tr>\n",
       "    <tr>\n",
       "      <th>30</th>\n",
       "      <td>California</td>\n",
       "      <td>3,080</td>\n",
       "    </tr>\n",
       "    <tr>\n",
       "      <th>31</th>\n",
       "      <td>California</td>\n",
       "      <td>3,080</td>\n",
       "    </tr>\n",
       "    <tr>\n",
       "      <th>32</th>\n",
       "      <td>California</td>\n",
       "      <td>3,080</td>\n",
       "    </tr>\n",
       "    <tr>\n",
       "      <th>33</th>\n",
       "      <td>California</td>\n",
       "      <td>3,080</td>\n",
       "    </tr>\n",
       "    <tr>\n",
       "      <th>34</th>\n",
       "      <td>California</td>\n",
       "      <td>3,080</td>\n",
       "    </tr>\n",
       "    <tr>\n",
       "      <th>35</th>\n",
       "      <td>California</td>\n",
       "      <td>3,080</td>\n",
       "    </tr>\n",
       "    <tr>\n",
       "      <th>36</th>\n",
       "      <td>California</td>\n",
       "      <td>3,080</td>\n",
       "    </tr>\n",
       "    <tr>\n",
       "      <th>37</th>\n",
       "      <td>California</td>\n",
       "      <td>3,080</td>\n",
       "    </tr>\n",
       "    <tr>\n",
       "      <th>38</th>\n",
       "      <td>California</td>\n",
       "      <td>3,080</td>\n",
       "    </tr>\n",
       "    <tr>\n",
       "      <th>39</th>\n",
       "      <td>California</td>\n",
       "      <td>3,080</td>\n",
       "    </tr>\n",
       "    <tr>\n",
       "      <th>40</th>\n",
       "      <td>California</td>\n",
       "      <td>3,080</td>\n",
       "    </tr>\n",
       "    <tr>\n",
       "      <th>41</th>\n",
       "      <td>California</td>\n",
       "      <td>3,080</td>\n",
       "    </tr>\n",
       "    <tr>\n",
       "      <th>42</th>\n",
       "      <td>California</td>\n",
       "      <td>3,080</td>\n",
       "    </tr>\n",
       "    <tr>\n",
       "      <th>43</th>\n",
       "      <td>California</td>\n",
       "      <td>3,080</td>\n",
       "    </tr>\n",
       "    <tr>\n",
       "      <th>44</th>\n",
       "      <td>California</td>\n",
       "      <td>3,080</td>\n",
       "    </tr>\n",
       "    <tr>\n",
       "      <th>45</th>\n",
       "      <td>California</td>\n",
       "      <td>3,080</td>\n",
       "    </tr>\n",
       "    <tr>\n",
       "      <th>46</th>\n",
       "      <td>California</td>\n",
       "      <td>3,080</td>\n",
       "    </tr>\n",
       "    <tr>\n",
       "      <th>47</th>\n",
       "      <td>California</td>\n",
       "      <td>3,080</td>\n",
       "    </tr>\n",
       "    <tr>\n",
       "      <th>48</th>\n",
       "      <td>California</td>\n",
       "      <td>3,080</td>\n",
       "    </tr>\n",
       "    <tr>\n",
       "      <th>49</th>\n",
       "      <td>California</td>\n",
       "      <td>3,080</td>\n",
       "    </tr>\n",
       "  </tbody>\n",
       "</table>\n",
       "</div>"
      ],
      "text/plain": [
       "         state    num\n",
       "0   California  3,080\n",
       "1   California  3,080\n",
       "2   California  3,080\n",
       "3   California  3,080\n",
       "4   California  3,080\n",
       "5   California  3,080\n",
       "6   California  3,080\n",
       "7   California  3,080\n",
       "8   California  3,080\n",
       "9   California  3,080\n",
       "10  California  3,080\n",
       "11  California  3,080\n",
       "12  California  3,080\n",
       "13  California  3,080\n",
       "14  California  3,080\n",
       "15  California  3,080\n",
       "16  California  3,080\n",
       "17  California  3,080\n",
       "18  California  3,080\n",
       "19  California  3,080\n",
       "20  California  3,080\n",
       "21  California  3,080\n",
       "22  California  3,080\n",
       "23  California  3,080\n",
       "24  California  3,080\n",
       "25  California  3,080\n",
       "26  California  3,080\n",
       "27  California  3,080\n",
       "28  California  3,080\n",
       "29  California  3,080\n",
       "30  California  3,080\n",
       "31  California  3,080\n",
       "32  California  3,080\n",
       "33  California  3,080\n",
       "34  California  3,080\n",
       "35  California  3,080\n",
       "36  California  3,080\n",
       "37  California  3,080\n",
       "38  California  3,080\n",
       "39  California  3,080\n",
       "40  California  3,080\n",
       "41  California  3,080\n",
       "42  California  3,080\n",
       "43  California  3,080\n",
       "44  California  3,080\n",
       "45  California  3,080\n",
       "46  California  3,080\n",
       "47  California  3,080\n",
       "48  California  3,080\n",
       "49  California  3,080"
      ]
     },
     "execution_count": null,
     "metadata": {},
     "output_type": "execute_result"
    }
   ],
   "source": [
    "pd.DataFrame(starbs)"
   ]
  }
 ],
 "metadata": {
  "language_info": {
   "name": "python"
  }
 },
 "nbformat": 4,
 "nbformat_minor": 2
}
