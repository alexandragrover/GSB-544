{
 "cells": [
  {
   "cell_type": "raw",
   "metadata": {
    "vscode": {
     "languageId": "raw"
    }
   },
   "source": [
    "---\n",
    "title: \"Lab 4: Coffee Lovers Unite\"\n",
    "author: \"Alexandra Grover\" \n",
    "date: October 18,2024\n",
    "embed-resources: true\n",
    "---\n"
   ]
  },
  {
   "cell_type": "code",
   "execution_count": 39,
   "metadata": {},
   "outputs": [],
   "source": [
    "import pandas as pd\n",
    "import numpy as np\n",
    "import requests\n",
    "from bs4 import BeautifulSoup\n"
   ]
  },
  {
   "cell_type": "code",
   "execution_count": 55,
   "metadata": {},
   "outputs": [],
   "source": [
    "starbucks_response = requests.get(\"https://worldpopulationreview.com/state-rankings/starbucks-stores-by-state\")"
   ]
  },
  {
   "cell_type": "code",
   "execution_count": 56,
   "metadata": {},
   "outputs": [],
   "source": [
    "from bs4 import BeautifulSoup\n",
    "starbs_soup = BeautifulSoup(starbucks_response.content, \"html.parser\")"
   ]
  },
  {
   "cell_type": "code",
   "execution_count": 32,
   "metadata": {},
   "outputs": [
    {
     "data": {
      "text/plain": [
       "1"
      ]
     },
     "execution_count": null,
     "metadata": {},
     "output_type": "execute_result"
    }
   ],
   "source": [
    "len(soup.find_all(\"table\"))"
   ]
  },
  {
   "cell_type": "code",
   "execution_count": 63,
   "metadata": {},
   "outputs": [
    {
     "data": {
      "text/plain": [
       "<table class=\"wpr-table\"><thead class=\"table-head bg-wpr-table_header_bg relative z-40 px-0 py-0 text-xs uppercase tracking-wider\"><tr><th class=\"datatable-th bg-wpr-table_header_bg text-wpr-table_header border-wpr-table_border sticky top-0 border-b bg-clip-padding px-3 py-2 text-left align-bottom leading-4 md:px-4 pin left-0 z-50 border-l-0\"><div class=\"flex flex-col items-stretch justify-start\"><div class=\"flex flex-row items-center cursor-pointer select-none\">State</div></div></th><th class=\"datatable-th bg-wpr-table_header_bg text-wpr-table_header border-wpr-table_border sticky top-0 border-b bg-clip-padding px-3 py-2 text-left align-bottom leading-4 md:px-4 z-40\"><div class=\"flex flex-col items-stretch justify-start\"><div class=\"flex flex-row items-center cursor-pointer select-none\">Starbucks Stores 2023<svg class=\"icon icon-tabler icon-tabler-chevron-down\" fill=\"none\" height=\"14\" stroke=\"currentColor\" stroke-linecap=\"round\" stroke-linejoin=\"round\" stroke-width=\"2\" viewbox=\"0 0 24 24\" width=\"14\" xmlns=\"http://www.w3.org/2000/svg\"><path d=\"M0 0h24v24H0z\" fill=\"none\" stroke=\"none\"></path><polyline points=\"6 9 12 15 18 9\"></polyline></svg></div></div></th><th class=\"datatable-th bg-wpr-table_header_bg text-wpr-table_header border-wpr-table_border sticky top-0 border-b bg-clip-padding px-3 py-2 text-left align-bottom leading-4 md:px-4 z-40\"><div class=\"flex flex-col items-stretch justify-start\"><div class=\"flex flex-row items-center cursor-pointer select-none\">Starbucks Stores 2021</div></div></th><th class=\"datatable-th bg-wpr-table_header_bg text-wpr-table_header border-wpr-table_border sticky top-0 border-b bg-clip-padding px-3 py-2 text-left align-bottom leading-4 md:px-4 z-40\"><div class=\"flex flex-col items-stretch justify-start\"><div class=\"flex flex-row items-center cursor-pointer select-none\">Starbucks Stores 2024</div></div></th></tr></thead><tbody class=\"relative z-10 text-sm\"><tr class=\"table-row\" data-state=\"false\"><th class=\"text-wpr-table_header sticky left-0 z-50 bg-clip-padding py-1.5 pl-3 text-left align-middle text-sm md:px-4\"><a class=\"text-wpr-link\" href=\"/states/california\" to=\"/states/california\">California</a></th><td class=\"text-wpr-table_text z-40 px-3 py-1.5 text-sm md:px-4\">3,080</td><td class=\"text-wpr-table_text z-40 px-3 py-1.5 text-sm md:px-4\">2,959</td><td class=\"text-wpr-table_text z-40 px-3 py-1.5 text-sm md:px-4\">3,117</td></tr><tr class=\"table-row\" data-state=\"false\"><th class=\"text-wpr-table_header sticky left-0 z-50 bg-clip-padding py-1.5 pl-3 text-left align-middle text-sm md:px-4\"><a class=\"text-wpr-link\" href=\"/states/texas\" to=\"/states/texas\">Texas</a></th><td class=\"text-wpr-table_text z-40 px-3 py-1.5 text-sm md:px-4\">1,346</td><td class=\"text-wpr-table_text z-40 px-3 py-1.5 text-sm md:px-4\">1,215</td><td class=\"text-wpr-table_text z-40 px-3 py-1.5 text-sm md:px-4\">1,409</td></tr><tr class=\"table-row\" data-state=\"false\"><th class=\"text-wpr-table_header sticky left-0 z-50 bg-clip-padding py-1.5 pl-3 text-left align-middle text-sm md:px-4\"><a class=\"text-wpr-link\" href=\"/states/florida\" to=\"/states/florida\">Florida</a></th><td class=\"text-wpr-table_text z-40 px-3 py-1.5 text-sm md:px-4\">844</td><td class=\"text-wpr-table_text z-40 px-3 py-1.5 text-sm md:px-4\">786</td><td class=\"text-wpr-table_text z-40 px-3 py-1.5 text-sm md:px-4\">892</td></tr><tr class=\"table-row\" data-state=\"false\"><th class=\"text-wpr-table_header sticky left-0 z-50 bg-clip-padding py-1.5 pl-3 text-left align-middle text-sm md:px-4\"><a class=\"text-wpr-link\" href=\"/states/washington\" to=\"/states/washington\">Washington</a></th><td class=\"text-wpr-table_text z-40 px-3 py-1.5 text-sm md:px-4\">741</td><td class=\"text-wpr-table_text z-40 px-3 py-1.5 text-sm md:px-4\">739</td><td class=\"text-wpr-table_text z-40 px-3 py-1.5 text-sm md:px-4\">736</td></tr><tr class=\"table-row\" data-state=\"false\"><th class=\"text-wpr-table_header sticky left-0 z-50 bg-clip-padding py-1.5 pl-3 text-left align-middle text-sm md:px-4\"><a class=\"text-wpr-link\" href=\"/states/new-york\" to=\"/states/new-york\">New York</a></th><td class=\"text-wpr-table_text z-40 px-3 py-1.5 text-sm md:px-4\">692</td><td class=\"text-wpr-table_text z-40 px-3 py-1.5 text-sm md:px-4\">643</td><td class=\"text-wpr-table_text z-40 px-3 py-1.5 text-sm md:px-4\">715</td></tr><tr class=\"table-row\" data-state=\"false\"><th class=\"text-wpr-table_header sticky left-0 z-50 bg-clip-padding py-1.5 pl-3 text-left align-middle text-sm md:px-4\"><a class=\"text-wpr-link\" href=\"/states/illinois\" to=\"/states/illinois\">Illinois</a></th><td class=\"text-wpr-table_text z-40 px-3 py-1.5 text-sm md:px-4\">677</td><td class=\"text-wpr-table_text z-40 px-3 py-1.5 text-sm md:px-4\">621</td><td class=\"text-wpr-table_text z-40 px-3 py-1.5 text-sm md:px-4\">685</td></tr><tr class=\"table-row\" data-state=\"false\"><th class=\"text-wpr-table_header sticky left-0 z-50 bg-clip-padding py-1.5 pl-3 text-left align-middle text-sm md:px-4\"><a class=\"text-wpr-link\" href=\"/states/arizona\" to=\"/states/arizona\">Arizona</a></th><td class=\"text-wpr-table_text z-40 px-3 py-1.5 text-sm md:px-4\">548</td><td class=\"text-wpr-table_text z-40 px-3 py-1.5 text-sm md:px-4\">535</td><td class=\"text-wpr-table_text z-40 px-3 py-1.5 text-sm md:px-4\">579</td></tr><tr class=\"table-row\" data-state=\"false\"><th class=\"text-wpr-table_header sticky left-0 z-50 bg-clip-padding py-1.5 pl-3 text-left align-middle text-sm md:px-4\"><a class=\"text-wpr-link\" href=\"/states/colorado\" to=\"/states/colorado\">Colorado</a></th><td class=\"text-wpr-table_text z-40 px-3 py-1.5 text-sm md:px-4\">495</td><td class=\"text-wpr-table_text z-40 px-3 py-1.5 text-sm md:px-4\">497</td><td class=\"text-wpr-table_text z-40 px-3 py-1.5 text-sm md:px-4\">506</td></tr><tr class=\"table-row\" data-state=\"false\"><th class=\"text-wpr-table_header sticky left-0 z-50 bg-clip-padding py-1.5 pl-3 text-left align-middle text-sm md:px-4\"><a class=\"text-wpr-link\" href=\"/states/ohio\" to=\"/states/ohio\">Ohio</a></th><td class=\"text-wpr-table_text z-40 px-3 py-1.5 text-sm md:px-4\">491</td><td class=\"text-wpr-table_text z-40 px-3 py-1.5 text-sm md:px-4\">446</td><td class=\"text-wpr-table_text z-40 px-3 py-1.5 text-sm md:px-4\">499</td></tr><tr class=\"table-row\" data-state=\"false\"><th class=\"text-wpr-table_header sticky left-0 z-50 bg-clip-padding py-1.5 pl-3 text-left align-middle text-sm md:px-4\"><a class=\"text-wpr-link\" href=\"/states/virginia\" to=\"/states/virginia\">Virginia</a></th><td class=\"text-wpr-table_text z-40 px-3 py-1.5 text-sm md:px-4\">489</td><td class=\"text-wpr-table_text z-40 px-3 py-1.5 text-sm md:px-4\">456</td><td class=\"text-wpr-table_text z-40 px-3 py-1.5 text-sm md:px-4\">510</td></tr><tr class=\"table-row\" data-state=\"false\"><th class=\"text-wpr-table_header sticky left-0 z-50 bg-clip-padding py-1.5 pl-3 text-left align-middle text-sm md:px-4\"><a class=\"text-wpr-link\" href=\"/states/oregon\" to=\"/states/oregon\">Oregon</a></th><td class=\"text-wpr-table_text z-40 px-3 py-1.5 text-sm md:px-4\">359</td><td class=\"text-wpr-table_text z-40 px-3 py-1.5 text-sm md:px-4\">345</td><td class=\"text-wpr-table_text z-40 px-3 py-1.5 text-sm md:px-4\"></td></tr><tr class=\"table-row\" data-state=\"false\"><th class=\"text-wpr-table_header sticky left-0 z-50 bg-clip-padding py-1.5 pl-3 text-left align-middle text-sm md:px-4\"><a class=\"text-wpr-link\" href=\"/states/pennsylvania\" to=\"/states/pennsylvania\">Pennsylvania</a></th><td class=\"text-wpr-table_text z-40 px-3 py-1.5 text-sm md:px-4\">357</td><td class=\"text-wpr-table_text z-40 px-3 py-1.5 text-sm md:px-4\">406</td><td class=\"text-wpr-table_text z-40 px-3 py-1.5 text-sm md:px-4\"></td></tr><tr class=\"table-row\" data-state=\"false\"><th class=\"text-wpr-table_header sticky left-0 z-50 bg-clip-padding py-1.5 pl-3 text-left align-middle text-sm md:px-4\"><a class=\"text-wpr-link\" href=\"/states/north-carolina\" to=\"/states/north-carolina\">North Carolina</a></th><td class=\"text-wpr-table_text z-40 px-3 py-1.5 text-sm md:px-4\">338</td><td class=\"text-wpr-table_text z-40 px-3 py-1.5 text-sm md:px-4\">422</td><td class=\"text-wpr-table_text z-40 px-3 py-1.5 text-sm md:px-4\"></td></tr><tr class=\"table-row\" data-state=\"false\"><th class=\"text-wpr-table_header sticky left-0 z-50 bg-clip-padding py-1.5 pl-3 text-left align-middle text-sm md:px-4\"><a class=\"text-wpr-link\" href=\"/states/georgia\" to=\"/states/georgia\">Georgia</a></th><td class=\"text-wpr-table_text z-40 px-3 py-1.5 text-sm md:px-4\">326</td><td class=\"text-wpr-table_text z-40 px-3 py-1.5 text-sm md:px-4\">379</td><td class=\"text-wpr-table_text z-40 px-3 py-1.5 text-sm md:px-4\"></td></tr><tr class=\"table-row\" data-state=\"false\"><th class=\"text-wpr-table_header sticky left-0 z-50 bg-clip-padding py-1.5 pl-3 text-left align-middle text-sm md:px-4\"><a class=\"text-wpr-link\" href=\"/states/michigan\" to=\"/states/michigan\">Michigan</a></th><td class=\"text-wpr-table_text z-40 px-3 py-1.5 text-sm md:px-4\">283</td><td class=\"text-wpr-table_text z-40 px-3 py-1.5 text-sm md:px-4\">310</td><td class=\"text-wpr-table_text z-40 px-3 py-1.5 text-sm md:px-4\"></td></tr><tr class=\"table-row\" data-state=\"false\"><th class=\"text-wpr-table_header sticky left-0 z-50 bg-clip-padding py-1.5 pl-3 text-left align-middle text-sm md:px-4\"><a class=\"text-wpr-link\" href=\"/states/massachusetts\" to=\"/states/massachusetts\">Massachusetts</a></th><td class=\"text-wpr-table_text z-40 px-3 py-1.5 text-sm md:px-4\">273</td><td class=\"text-wpr-table_text z-40 px-3 py-1.5 text-sm md:px-4\">279</td><td class=\"text-wpr-table_text z-40 px-3 py-1.5 text-sm md:px-4\"></td></tr><tr class=\"table-row\" data-state=\"false\"><th class=\"text-wpr-table_header sticky left-0 z-50 bg-clip-padding py-1.5 pl-3 text-left align-middle text-sm md:px-4\"><a class=\"text-wpr-link\" href=\"/states/new-jersey\" to=\"/states/new-jersey\">New Jersey</a></th><td class=\"text-wpr-table_text z-40 px-3 py-1.5 text-sm md:px-4\">261</td><td class=\"text-wpr-table_text z-40 px-3 py-1.5 text-sm md:px-4\">293</td><td class=\"text-wpr-table_text z-40 px-3 py-1.5 text-sm md:px-4\"></td></tr><tr class=\"table-row\" data-state=\"false\"><th class=\"text-wpr-table_header sticky left-0 z-50 bg-clip-padding py-1.5 pl-3 text-left align-middle text-sm md:px-4\"><a class=\"text-wpr-link\" href=\"/states/maryland\" to=\"/states/maryland\">Maryland</a></th><td class=\"text-wpr-table_text z-40 px-3 py-1.5 text-sm md:px-4\">257</td><td class=\"text-wpr-table_text z-40 px-3 py-1.5 text-sm md:px-4\">274</td><td class=\"text-wpr-table_text z-40 px-3 py-1.5 text-sm md:px-4\"></td></tr><tr class=\"table-row\" data-state=\"false\"><th class=\"text-wpr-table_header sticky left-0 z-50 bg-clip-padding py-1.5 pl-3 text-left align-middle text-sm md:px-4\"><a class=\"text-wpr-link\" href=\"/states/nevada\" to=\"/states/nevada\">Nevada</a></th><td class=\"text-wpr-table_text z-40 px-3 py-1.5 text-sm md:px-4\">253</td><td class=\"text-wpr-table_text z-40 px-3 py-1.5 text-sm md:px-4\">269</td><td class=\"text-wpr-table_text z-40 px-3 py-1.5 text-sm md:px-4\"></td></tr><tr class=\"table-row\" data-state=\"false\"><th class=\"text-wpr-table_header sticky left-0 z-50 bg-clip-padding py-1.5 pl-3 text-left align-middle text-sm md:px-4\"><a class=\"text-wpr-link\" href=\"/states/indiana\" to=\"/states/indiana\">Indiana</a></th><td class=\"text-wpr-table_text z-40 px-3 py-1.5 text-sm md:px-4\">221</td><td class=\"text-wpr-table_text z-40 px-3 py-1.5 text-sm md:px-4\">265</td><td class=\"text-wpr-table_text z-40 px-3 py-1.5 text-sm md:px-4\"></td></tr><tr class=\"table-row\" data-state=\"false\"><th class=\"text-wpr-table_header sticky left-0 z-50 bg-clip-padding py-1.5 pl-3 text-left align-middle text-sm md:px-4\"><a class=\"text-wpr-link\" href=\"/states/missouri\" to=\"/states/missouri\">Missouri</a></th><td class=\"text-wpr-table_text z-40 px-3 py-1.5 text-sm md:px-4\">188</td><td class=\"text-wpr-table_text z-40 px-3 py-1.5 text-sm md:px-4\">208</td><td class=\"text-wpr-table_text z-40 px-3 py-1.5 text-sm md:px-4\"></td></tr><tr class=\"table-row\" data-state=\"false\"><th class=\"text-wpr-table_header sticky left-0 z-50 bg-clip-padding py-1.5 pl-3 text-left align-middle text-sm md:px-4\"><a class=\"text-wpr-link\" href=\"/states/minnesota\" to=\"/states/minnesota\">Minnesota</a></th><td class=\"text-wpr-table_text z-40 px-3 py-1.5 text-sm md:px-4\">184</td><td class=\"text-wpr-table_text z-40 px-3 py-1.5 text-sm md:px-4\">212</td><td class=\"text-wpr-table_text z-40 px-3 py-1.5 text-sm md:px-4\"></td></tr><tr class=\"table-row\" data-state=\"false\"><th class=\"text-wpr-table_header sticky left-0 z-50 bg-clip-padding py-1.5 pl-3 text-left align-middle text-sm md:px-4\"><a class=\"text-wpr-link\" href=\"/states/tennessee\" to=\"/states/tennessee\">Tennessee</a></th><td class=\"text-wpr-table_text z-40 px-3 py-1.5 text-sm md:px-4\">180</td><td class=\"text-wpr-table_text z-40 px-3 py-1.5 text-sm md:px-4\">237</td><td class=\"text-wpr-table_text z-40 px-3 py-1.5 text-sm md:px-4\"></td></tr><tr class=\"table-row\" data-state=\"false\"><th class=\"text-wpr-table_header sticky left-0 z-50 bg-clip-padding py-1.5 pl-3 text-left align-middle text-sm md:px-4\"><a class=\"text-wpr-link\" href=\"/states/kentucky\" to=\"/states/kentucky\">Kentucky</a></th><td class=\"text-wpr-table_text z-40 px-3 py-1.5 text-sm md:px-4\">166</td><td class=\"text-wpr-table_text z-40 px-3 py-1.5 text-sm md:px-4\">131</td><td class=\"text-wpr-table_text z-40 px-3 py-1.5 text-sm md:px-4\"></td></tr><tr class=\"table-row\" data-state=\"false\"><th class=\"text-wpr-table_header sticky left-0 z-50 bg-clip-padding py-1.5 pl-3 text-left align-middle text-sm md:px-4\"><a class=\"text-wpr-link\" href=\"/states/wisconsin\" to=\"/states/wisconsin\">Wisconsin</a></th><td class=\"text-wpr-table_text z-40 px-3 py-1.5 text-sm md:px-4\">145</td><td class=\"text-wpr-table_text z-40 px-3 py-1.5 text-sm md:px-4\">176</td><td class=\"text-wpr-table_text z-40 px-3 py-1.5 text-sm md:px-4\"></td></tr><tr class=\"table-row\" data-state=\"false\"><th class=\"text-wpr-table_header sticky left-0 z-50 bg-clip-padding py-1.5 pl-3 text-left align-middle text-sm md:px-4\"><a class=\"text-wpr-link\" href=\"/states/south-carolina\" to=\"/states/south-carolina\">South Carolina</a></th><td class=\"text-wpr-table_text z-40 px-3 py-1.5 text-sm md:px-4\">131</td><td class=\"text-wpr-table_text z-40 px-3 py-1.5 text-sm md:px-4\">207</td><td class=\"text-wpr-table_text z-40 px-3 py-1.5 text-sm md:px-4\"></td></tr><tr class=\"table-row\" data-state=\"false\"><th class=\"text-wpr-table_header sticky left-0 z-50 bg-clip-padding py-1.5 pl-3 text-left align-middle text-sm md:px-4\"><a class=\"text-wpr-link\" href=\"/states/connecticut\" to=\"/states/connecticut\">Connecticut</a></th><td class=\"text-wpr-table_text z-40 px-3 py-1.5 text-sm md:px-4\">123</td><td class=\"text-wpr-table_text z-40 px-3 py-1.5 text-sm md:px-4\">125</td><td class=\"text-wpr-table_text z-40 px-3 py-1.5 text-sm md:px-4\"></td></tr><tr class=\"table-row\" data-state=\"false\"><th class=\"text-wpr-table_header sticky left-0 z-50 bg-clip-padding py-1.5 pl-3 text-left align-middle text-sm md:px-4\"><a class=\"text-wpr-link\" href=\"/states/utah\" to=\"/states/utah\">Utah</a></th><td class=\"text-wpr-table_text z-40 px-3 py-1.5 text-sm md:px-4\">101</td><td class=\"text-wpr-table_text z-40 px-3 py-1.5 text-sm md:px-4\">126</td><td class=\"text-wpr-table_text z-40 px-3 py-1.5 text-sm md:px-4\"></td></tr><tr class=\"table-row\" data-state=\"false\"><th class=\"text-wpr-table_header sticky left-0 z-50 bg-clip-padding py-1.5 pl-3 text-left align-middle text-sm md:px-4\"><a class=\"text-wpr-link\" href=\"/states/hawaii\" to=\"/states/hawaii\">Hawaii</a></th><td class=\"text-wpr-table_text z-40 px-3 py-1.5 text-sm md:px-4\">99</td><td class=\"text-wpr-table_text z-40 px-3 py-1.5 text-sm md:px-4\">105</td><td class=\"text-wpr-table_text z-40 px-3 py-1.5 text-sm md:px-4\"></td></tr><tr class=\"table-row\" data-state=\"false\"><th class=\"text-wpr-table_header sticky left-0 z-50 bg-clip-padding py-1.5 pl-3 text-left align-middle text-sm md:px-4\"><a class=\"text-wpr-link\" href=\"/states/kansas\" to=\"/states/kansas\">Kansas</a></th><td class=\"text-wpr-table_text z-40 px-3 py-1.5 text-sm md:px-4\">94</td><td class=\"text-wpr-table_text z-40 px-3 py-1.5 text-sm md:px-4\">120</td><td class=\"text-wpr-table_text z-40 px-3 py-1.5 text-sm md:px-4\"></td></tr><tr class=\"table-row\" data-state=\"false\"><th class=\"text-wpr-table_header sticky left-0 z-50 bg-clip-padding py-1.5 pl-3 text-left align-middle text-sm md:px-4\"><a class=\"text-wpr-link\" href=\"/states/district-of-columbia\" to=\"/states/district-of-columbia\">District of Columbia</a></th><td class=\"text-wpr-table_text z-40 px-3 py-1.5 text-sm md:px-4\">91</td><td class=\"text-wpr-table_text z-40 px-3 py-1.5 text-sm md:px-4\"></td><td class=\"text-wpr-table_text z-40 px-3 py-1.5 text-sm md:px-4\"></td></tr><tr class=\"table-row\" data-state=\"false\"><th class=\"text-wpr-table_header sticky left-0 z-50 bg-clip-padding py-1.5 pl-3 text-left align-middle text-sm md:px-4\"><a class=\"text-wpr-link\" href=\"/states/iowa\" to=\"/states/iowa\">Iowa</a></th><td class=\"text-wpr-table_text z-40 px-3 py-1.5 text-sm md:px-4\">89</td><td class=\"text-wpr-table_text z-40 px-3 py-1.5 text-sm md:px-4\">142</td><td class=\"text-wpr-table_text z-40 px-3 py-1.5 text-sm md:px-4\"></td></tr><tr class=\"table-row\" data-state=\"false\"><th class=\"text-wpr-table_header sticky left-0 z-50 bg-clip-padding py-1.5 pl-3 text-left align-middle text-sm md:px-4\"><a class=\"text-wpr-link\" href=\"/states/alabama\" to=\"/states/alabama\">Alabama</a></th><td class=\"text-wpr-table_text z-40 px-3 py-1.5 text-sm md:px-4\">85</td><td class=\"text-wpr-table_text z-40 px-3 py-1.5 text-sm md:px-4\">99</td><td class=\"text-wpr-table_text z-40 px-3 py-1.5 text-sm md:px-4\"></td></tr><tr class=\"table-row\" data-state=\"false\"><th class=\"text-wpr-table_header sticky left-0 z-50 bg-clip-padding py-1.5 pl-3 text-left align-middle text-sm md:px-4\"><a class=\"text-wpr-link\" href=\"/states/louisiana\" to=\"/states/louisiana\">Louisiana</a></th><td class=\"text-wpr-table_text z-40 px-3 py-1.5 text-sm md:px-4\">84</td><td class=\"text-wpr-table_text z-40 px-3 py-1.5 text-sm md:px-4\">10</td><td class=\"text-wpr-table_text z-40 px-3 py-1.5 text-sm md:px-4\"></td></tr><tr class=\"table-row\" data-state=\"false\"><th class=\"text-wpr-table_header sticky left-0 z-50 bg-clip-padding py-1.5 pl-3 text-left align-middle text-sm md:px-4\"><a class=\"text-wpr-link\" href=\"/states/oklahoma\" to=\"/states/oklahoma\">Oklahoma</a></th><td class=\"text-wpr-table_text z-40 px-3 py-1.5 text-sm md:px-4\">79</td><td class=\"text-wpr-table_text z-40 px-3 py-1.5 text-sm md:px-4\">94</td><td class=\"text-wpr-table_text z-40 px-3 py-1.5 text-sm md:px-4\"></td></tr><tr class=\"table-row\" data-state=\"false\"><th class=\"text-wpr-table_header sticky left-0 z-50 bg-clip-padding py-1.5 pl-3 text-left align-middle text-sm md:px-4\"><a class=\"text-wpr-link\" href=\"/states/new-mexico\" to=\"/states/new-mexico\">New Mexico</a></th><td class=\"text-wpr-table_text z-40 px-3 py-1.5 text-sm md:px-4\">76</td><td class=\"text-wpr-table_text z-40 px-3 py-1.5 text-sm md:px-4\">92</td><td class=\"text-wpr-table_text z-40 px-3 py-1.5 text-sm md:px-4\"></td></tr><tr class=\"table-row\" data-state=\"false\"><th class=\"text-wpr-table_header sticky left-0 z-50 bg-clip-padding py-1.5 pl-3 text-left align-middle text-sm md:px-4\"><a class=\"text-wpr-link\" href=\"/states/idaho\" to=\"/states/idaho\">Idaho</a></th><td class=\"text-wpr-table_text z-40 px-3 py-1.5 text-sm md:px-4\">67</td><td class=\"text-wpr-table_text z-40 px-3 py-1.5 text-sm md:px-4\">78</td><td class=\"text-wpr-table_text z-40 px-3 py-1.5 text-sm md:px-4\"></td></tr><tr class=\"table-row\" data-state=\"false\"><th class=\"text-wpr-table_header sticky left-0 z-50 bg-clip-padding py-1.5 pl-3 text-left align-middle text-sm md:px-4\"><a class=\"text-wpr-link\" href=\"/states/nebraska\" to=\"/states/nebraska\">Nebraska</a></th><td class=\"text-wpr-table_text z-40 px-3 py-1.5 text-sm md:px-4\">58</td><td class=\"text-wpr-table_text z-40 px-3 py-1.5 text-sm md:px-4\">87</td><td class=\"text-wpr-table_text z-40 px-3 py-1.5 text-sm md:px-4\"></td></tr><tr class=\"table-row\" data-state=\"false\"><th class=\"text-wpr-table_header sticky left-0 z-50 bg-clip-padding py-1.5 pl-3 text-left align-middle text-sm md:px-4\"><a class=\"text-wpr-link\" href=\"/states/arkansas\" to=\"/states/arkansas\">Arkansas</a></th><td class=\"text-wpr-table_text z-40 px-3 py-1.5 text-sm md:px-4\">55</td><td class=\"text-wpr-table_text z-40 px-3 py-1.5 text-sm md:px-4\">66</td><td class=\"text-wpr-table_text z-40 px-3 py-1.5 text-sm md:px-4\"></td></tr><tr class=\"table-row\" data-state=\"false\"><th class=\"text-wpr-table_header sticky left-0 z-50 bg-clip-padding py-1.5 pl-3 text-left align-middle text-sm md:px-4\"><a class=\"text-wpr-link\" href=\"/states/alaska\" to=\"/states/alaska\">Alaska</a></th><td class=\"text-wpr-table_text z-40 px-3 py-1.5 text-sm md:px-4\">49</td><td class=\"text-wpr-table_text z-40 px-3 py-1.5 text-sm md:px-4\">49</td><td class=\"text-wpr-table_text z-40 px-3 py-1.5 text-sm md:px-4\"></td></tr><tr class=\"table-row\" data-state=\"false\"><th class=\"text-wpr-table_header sticky left-0 z-50 bg-clip-padding py-1.5 pl-3 text-left align-middle text-sm md:px-4\"><a class=\"text-wpr-link\" href=\"/states/mississippi\" to=\"/states/mississippi\">Mississippi</a></th><td class=\"text-wpr-table_text z-40 px-3 py-1.5 text-sm md:px-4\">32</td><td class=\"text-wpr-table_text z-40 px-3 py-1.5 text-sm md:px-4\">36</td><td class=\"text-wpr-table_text z-40 px-3 py-1.5 text-sm md:px-4\"></td></tr><tr class=\"table-row\" data-state=\"false\"><th class=\"text-wpr-table_header sticky left-0 z-50 bg-clip-padding py-1.5 pl-3 text-left align-middle text-sm md:px-4\"><a class=\"text-wpr-link\" href=\"/states/montana\" to=\"/states/montana\">Montana</a></th><td class=\"text-wpr-table_text z-40 px-3 py-1.5 text-sm md:px-4\">32</td><td class=\"text-wpr-table_text z-40 px-3 py-1.5 text-sm md:px-4\">45</td><td class=\"text-wpr-table_text z-40 px-3 py-1.5 text-sm md:px-4\"></td></tr><tr class=\"table-row\" data-state=\"false\"><th class=\"text-wpr-table_header sticky left-0 z-50 bg-clip-padding py-1.5 pl-3 text-left align-middle text-sm md:px-4\"><a class=\"text-wpr-link\" href=\"/states/maine\" to=\"/states/maine\">Maine</a></th><td class=\"text-wpr-table_text z-40 px-3 py-1.5 text-sm md:px-4\">30</td><td class=\"text-wpr-table_text z-40 px-3 py-1.5 text-sm md:px-4\">31</td><td class=\"text-wpr-table_text z-40 px-3 py-1.5 text-sm md:px-4\"></td></tr><tr class=\"table-row\" data-state=\"false\"><th class=\"text-wpr-table_header sticky left-0 z-50 bg-clip-padding py-1.5 pl-3 text-left align-middle text-sm md:px-4\"><a class=\"text-wpr-link\" href=\"/states/new-hampshire\" to=\"/states/new-hampshire\">New Hampshire</a></th><td class=\"text-wpr-table_text z-40 px-3 py-1.5 text-sm md:px-4\">29</td><td class=\"text-wpr-table_text z-40 px-3 py-1.5 text-sm md:px-4\">35</td><td class=\"text-wpr-table_text z-40 px-3 py-1.5 text-sm md:px-4\"></td></tr><tr class=\"table-row\" data-state=\"false\"><th class=\"text-wpr-table_header sticky left-0 z-50 bg-clip-padding py-1.5 pl-3 text-left align-middle text-sm md:px-4\"><a class=\"text-wpr-link\" href=\"/states/rhode-island\" to=\"/states/rhode-island\">Rhode Island</a></th><td class=\"text-wpr-table_text z-40 px-3 py-1.5 text-sm md:px-4\">27</td><td class=\"text-wpr-table_text z-40 px-3 py-1.5 text-sm md:px-4\">26</td><td class=\"text-wpr-table_text z-40 px-3 py-1.5 text-sm md:px-4\"></td></tr><tr class=\"table-row\" data-state=\"false\"><th class=\"text-wpr-table_header sticky left-0 z-50 bg-clip-padding py-1.5 pl-3 text-left align-middle text-sm md:px-4\"><a class=\"text-wpr-link\" href=\"/states/delaware\" to=\"/states/delaware\">Delaware</a></th><td class=\"text-wpr-table_text z-40 px-3 py-1.5 text-sm md:px-4\">25</td><td class=\"text-wpr-table_text z-40 px-3 py-1.5 text-sm md:px-4\">39</td><td class=\"text-wpr-table_text z-40 px-3 py-1.5 text-sm md:px-4\"></td></tr><tr class=\"table-row\" data-state=\"false\"><th class=\"text-wpr-table_header sticky left-0 z-50 bg-clip-padding py-1.5 pl-3 text-left align-middle text-sm md:px-4\"><a class=\"text-wpr-link\" href=\"/states/south-dakota\" to=\"/states/south-dakota\">South Dakota</a></th><td class=\"text-wpr-table_text z-40 px-3 py-1.5 text-sm md:px-4\">25</td><td class=\"text-wpr-table_text z-40 px-3 py-1.5 text-sm md:px-4\">52</td><td class=\"text-wpr-table_text z-40 px-3 py-1.5 text-sm md:px-4\"></td></tr><tr class=\"table-row\" data-state=\"false\"><th class=\"text-wpr-table_header sticky left-0 z-50 bg-clip-padding py-1.5 pl-3 text-left align-middle text-sm md:px-4\"><a class=\"text-wpr-link\" href=\"/states/west-virginia\" to=\"/states/west-virginia\">West Virginia</a></th><td class=\"text-wpr-table_text z-40 px-3 py-1.5 text-sm md:px-4\">25</td><td class=\"text-wpr-table_text z-40 px-3 py-1.5 text-sm md:px-4\">64</td><td class=\"text-wpr-table_text z-40 px-3 py-1.5 text-sm md:px-4\"></td></tr><tr class=\"table-row\" data-state=\"false\"><th class=\"text-wpr-table_header sticky left-0 z-50 bg-clip-padding py-1.5 pl-3 text-left align-middle text-sm md:px-4\"><a class=\"text-wpr-link\" href=\"/states/wyoming\" to=\"/states/wyoming\">Wyoming</a></th><td class=\"text-wpr-table_text z-40 px-3 py-1.5 text-sm md:px-4\">23</td><td class=\"text-wpr-table_text z-40 px-3 py-1.5 text-sm md:px-4\">26</td><td class=\"text-wpr-table_text z-40 px-3 py-1.5 text-sm md:px-4\"></td></tr><tr class=\"table-row\" data-state=\"false\"><th class=\"text-wpr-table_header sticky left-0 z-50 bg-clip-padding py-1.5 pl-3 text-left align-middle text-sm md:px-4\"><a class=\"text-wpr-link\" href=\"/states/north-dakota\" to=\"/states/north-dakota\">North Dakota</a></th><td class=\"text-wpr-table_text z-40 px-3 py-1.5 text-sm md:px-4\">13</td><td class=\"text-wpr-table_text z-40 px-3 py-1.5 text-sm md:px-4\">20</td><td class=\"text-wpr-table_text z-40 px-3 py-1.5 text-sm md:px-4\"></td></tr><tr class=\"table-row\" data-state=\"false\"><th class=\"text-wpr-table_header sticky left-0 z-50 bg-clip-padding py-1.5 pl-3 text-left align-middle text-sm md:px-4\"><a class=\"text-wpr-link\" href=\"/states/vermont\" to=\"/states/vermont\">Vermont</a></th><td class=\"text-wpr-table_text z-40 px-3 py-1.5 text-sm md:px-4\">8</td><td class=\"text-wpr-table_text z-40 px-3 py-1.5 text-sm md:px-4\">35</td><td class=\"text-wpr-table_text z-40 px-3 py-1.5 text-sm md:px-4\"></td></tr></tbody></table>"
      ]
     },
     "execution_count": null,
     "metadata": {},
     "output_type": "execute_result"
    }
   ],
   "source": [
    "table=(starbs_soup.find_all(\"table\"))[0]\n",
    "table"
   ]
  },
  {
   "cell_type": "code",
   "execution_count": 48,
   "metadata": {},
   "outputs": [],
   "source": [
    "#row\n",
    "line=table.find_all(\"tr\")"
   ]
  },
  {
   "cell_type": "code",
   "execution_count": 57,
   "metadata": {},
   "outputs": [
    {
     "data": {
      "text/plain": [
       "'Vermont'"
      ]
     },
     "execution_count": null,
     "metadata": {},
     "output_type": "execute_result"
    }
   ],
   "source": [
    "#state\n",
    "row.find(\"th\").text"
   ]
  },
  {
   "cell_type": "code",
   "execution_count": 45,
   "metadata": {},
   "outputs": [
    {
     "data": {
      "text/plain": [
       "'8'"
      ]
     },
     "execution_count": null,
     "metadata": {},
     "output_type": "execute_result"
    }
   ],
   "source": [
    "#num of starbs in state\n",
    "row.find(\"td\").text"
   ]
  },
  {
   "cell_type": "code",
   "execution_count": 78,
   "metadata": {},
   "outputs": [],
   "source": [
    "starbs= []\n",
    "\n",
    "# iterate over all rows in the population table\n",
    "for row in table.find_all(\"tr\")[1:]:\n",
    "\n",
    "  #state\n",
    "  state= row.find(\"th\").text\n",
    "\n",
    "  #num starbs\n",
    "  num=row.find(\"td\").text\n",
    "\n",
    "  starbs.append({\n",
    "                \"state\": state,\n",
    "                \"Starbucks Stores\": num,\n",
    "  })\n",
    "\n",
    "  "
   ]
  },
  {
   "cell_type": "code",
   "execution_count": 79,
   "metadata": {},
   "outputs": [],
   "source": [
    "starbs=pd.DataFrame(starbs)"
   ]
  },
  {
   "cell_type": "code",
   "execution_count": 80,
   "metadata": {},
   "outputs": [],
   "source": [
    "dunkin_response = requests.get(\"https://worldpopulationreview.com/state-rankings/dunkin-donuts-by-state\")"
   ]
  },
  {
   "cell_type": "code",
   "execution_count": 81,
   "metadata": {},
   "outputs": [],
   "source": [
    "from bs4 import BeautifulSoup\n",
    "dunks_soup = BeautifulSoup(dunkin_response.content, \"html.parser\")"
   ]
  },
  {
   "cell_type": "code",
   "execution_count": 82,
   "metadata": {},
   "outputs": [
    {
     "data": {
      "text/plain": [
       "<table class=\"wpr-table\"><thead class=\"table-head bg-wpr-table_header_bg relative z-40 px-0 py-0 text-xs uppercase tracking-wider\"><tr><th class=\"datatable-th bg-wpr-table_header_bg text-wpr-table_header border-wpr-table_border sticky top-0 border-b bg-clip-padding px-3 py-2 text-left align-bottom leading-4 md:px-4 pin left-0 z-50 border-l-0\"><div class=\"flex flex-col items-stretch justify-start\"><div class=\"flex flex-row items-center cursor-pointer select-none\">State</div></div></th><th class=\"datatable-th bg-wpr-table_header_bg text-wpr-table_header border-wpr-table_border sticky top-0 border-b bg-clip-padding px-3 py-2 text-left align-bottom leading-4 md:px-4 z-40\"><div class=\"flex flex-col items-stretch justify-start\"><div class=\"flex flex-row items-center cursor-pointer select-none\">Dunkin Locations 2024<svg class=\"icon icon-tabler icon-tabler-chevron-down\" fill=\"none\" height=\"14\" stroke=\"currentColor\" stroke-linecap=\"round\" stroke-linejoin=\"round\" stroke-width=\"2\" viewbox=\"0 0 24 24\" width=\"14\" xmlns=\"http://www.w3.org/2000/svg\"><path d=\"M0 0h24v24H0z\" fill=\"none\" stroke=\"none\"></path><polyline points=\"6 9 12 15 18 9\"></polyline></svg></div></div></th><th class=\"datatable-th bg-wpr-table_header_bg text-wpr-table_header border-wpr-table_border sticky top-0 border-b bg-clip-padding px-3 py-2 text-left align-bottom leading-4 md:px-4 z-40\"><div class=\"flex flex-col items-stretch justify-start\"><div class=\"flex flex-row items-center cursor-pointer select-none\">Dunkin Locations 2023</div></div></th></tr></thead><tbody class=\"relative z-10 text-sm\"><tr class=\"table-row\" data-state=\"false\"><th class=\"text-wpr-table_header sticky left-0 z-50 bg-clip-padding py-1.5 pl-3 text-left align-middle text-sm md:px-4\"><a class=\"text-wpr-link\" href=\"/states/new-york\" to=\"/states/new-york\">New York</a></th><td class=\"text-wpr-table_text z-40 px-3 py-1.5 text-sm md:px-4\">1,431</td><td class=\"text-wpr-table_text z-40 px-3 py-1.5 text-sm md:px-4\">1,414</td></tr><tr class=\"table-row\" data-state=\"false\"><th class=\"text-wpr-table_header sticky left-0 z-50 bg-clip-padding py-1.5 pl-3 text-left align-middle text-sm md:px-4\"><a class=\"text-wpr-link\" href=\"/states/massachusetts\" to=\"/states/massachusetts\">Massachusetts</a></th><td class=\"text-wpr-table_text z-40 px-3 py-1.5 text-sm md:px-4\">1,042</td><td class=\"text-wpr-table_text z-40 px-3 py-1.5 text-sm md:px-4\">1,068</td></tr><tr class=\"table-row\" data-state=\"false\"><th class=\"text-wpr-table_header sticky left-0 z-50 bg-clip-padding py-1.5 pl-3 text-left align-middle text-sm md:px-4\"><a class=\"text-wpr-link\" href=\"/states/florida\" to=\"/states/florida\">Florida</a></th><td class=\"text-wpr-table_text z-40 px-3 py-1.5 text-sm md:px-4\">909</td><td class=\"text-wpr-table_text z-40 px-3 py-1.5 text-sm md:px-4\">883</td></tr><tr class=\"table-row\" data-state=\"false\"><th class=\"text-wpr-table_header sticky left-0 z-50 bg-clip-padding py-1.5 pl-3 text-left align-middle text-sm md:px-4\"><a class=\"text-wpr-link\" href=\"/states/new-jersey\" to=\"/states/new-jersey\">New Jersey</a></th><td class=\"text-wpr-table_text z-40 px-3 py-1.5 text-sm md:px-4\">872</td><td class=\"text-wpr-table_text z-40 px-3 py-1.5 text-sm md:px-4\">866</td></tr><tr class=\"table-row\" data-state=\"false\"><th class=\"text-wpr-table_header sticky left-0 z-50 bg-clip-padding py-1.5 pl-3 text-left align-middle text-sm md:px-4\"><a class=\"text-wpr-link\" href=\"/states/illinois\" to=\"/states/illinois\">Illinois</a></th><td class=\"text-wpr-table_text z-40 px-3 py-1.5 text-sm md:px-4\">711</td><td class=\"text-wpr-table_text z-40 px-3 py-1.5 text-sm md:px-4\">692</td></tr><tr class=\"table-row\" data-state=\"false\"><th class=\"text-wpr-table_header sticky left-0 z-50 bg-clip-padding py-1.5 pl-3 text-left align-middle text-sm md:px-4\"><a class=\"text-wpr-link\" href=\"/states/pennsylvania\" to=\"/states/pennsylvania\">Pennsylvania</a></th><td class=\"text-wpr-table_text z-40 px-3 py-1.5 text-sm md:px-4\">650</td><td class=\"text-wpr-table_text z-40 px-3 py-1.5 text-sm md:px-4\">629</td></tr><tr class=\"table-row\" data-state=\"false\"><th class=\"text-wpr-table_header sticky left-0 z-50 bg-clip-padding py-1.5 pl-3 text-left align-middle text-sm md:px-4\"><a class=\"text-wpr-link\" href=\"/states/connecticut\" to=\"/states/connecticut\">Connecticut</a></th><td class=\"text-wpr-table_text z-40 px-3 py-1.5 text-sm md:px-4\">476</td><td class=\"text-wpr-table_text z-40 px-3 py-1.5 text-sm md:px-4\">480</td></tr><tr class=\"table-row\" data-state=\"false\"><th class=\"text-wpr-table_header sticky left-0 z-50 bg-clip-padding py-1.5 pl-3 text-left align-middle text-sm md:px-4\"><a class=\"text-wpr-link\" href=\"/states/maryland\" to=\"/states/maryland\">Maryland</a></th><td class=\"text-wpr-table_text z-40 px-3 py-1.5 text-sm md:px-4\">311</td><td class=\"text-wpr-table_text z-40 px-3 py-1.5 text-sm md:px-4\">303</td></tr><tr class=\"table-row\" data-state=\"false\"><th class=\"text-wpr-table_header sticky left-0 z-50 bg-clip-padding py-1.5 pl-3 text-left align-middle text-sm md:px-4\"><a class=\"text-wpr-link\" href=\"/states/georgia\" to=\"/states/georgia\">Georgia</a></th><td class=\"text-wpr-table_text z-40 px-3 py-1.5 text-sm md:px-4\">287</td><td class=\"text-wpr-table_text z-40 px-3 py-1.5 text-sm md:px-4\">265</td></tr><tr class=\"table-row\" data-state=\"false\"><th class=\"text-wpr-table_header sticky left-0 z-50 bg-clip-padding py-1.5 pl-3 text-left align-middle text-sm md:px-4\"><a class=\"text-wpr-link\" href=\"/states/ohio\" to=\"/states/ohio\">Ohio</a></th><td class=\"text-wpr-table_text z-40 px-3 py-1.5 text-sm md:px-4\">261</td><td class=\"text-wpr-table_text z-40 px-3 py-1.5 text-sm md:px-4\">245</td></tr><tr class=\"table-row\" data-state=\"false\"><th class=\"text-wpr-table_header sticky left-0 z-50 bg-clip-padding py-1.5 pl-3 text-left align-middle text-sm md:px-4\"><a class=\"text-wpr-link\" href=\"/states/virginia\" to=\"/states/virginia\">Virginia</a></th><td class=\"text-wpr-table_text z-40 px-3 py-1.5 text-sm md:px-4\">244</td><td class=\"text-wpr-table_text z-40 px-3 py-1.5 text-sm md:px-4\">230</td></tr><tr class=\"table-row\" data-state=\"false\"><th class=\"text-wpr-table_header sticky left-0 z-50 bg-clip-padding py-1.5 pl-3 text-left align-middle text-sm md:px-4\"><a class=\"text-wpr-link\" href=\"/states/texas\" to=\"/states/texas\">Texas</a></th><td class=\"text-wpr-table_text z-40 px-3 py-1.5 text-sm md:px-4\">226</td><td class=\"text-wpr-table_text z-40 px-3 py-1.5 text-sm md:px-4\">196</td></tr><tr class=\"table-row\" data-state=\"false\"><th class=\"text-wpr-table_header sticky left-0 z-50 bg-clip-padding py-1.5 pl-3 text-left align-middle text-sm md:px-4\"><a class=\"text-wpr-link\" href=\"/states/north-carolina\" to=\"/states/north-carolina\">North Carolina</a></th><td class=\"text-wpr-table_text z-40 px-3 py-1.5 text-sm md:px-4\">224</td><td class=\"text-wpr-table_text z-40 px-3 py-1.5 text-sm md:px-4\">206</td></tr><tr class=\"table-row\" data-state=\"false\"><th class=\"text-wpr-table_header sticky left-0 z-50 bg-clip-padding py-1.5 pl-3 text-left align-middle text-sm md:px-4\"><a class=\"text-wpr-link\" href=\"/states/new-hampshire\" to=\"/states/new-hampshire\">New Hampshire</a></th><td class=\"text-wpr-table_text z-40 px-3 py-1.5 text-sm md:px-4\">216</td><td class=\"text-wpr-table_text z-40 px-3 py-1.5 text-sm md:px-4\">218</td></tr><tr class=\"table-row\" data-state=\"false\"><th class=\"text-wpr-table_header sticky left-0 z-50 bg-clip-padding py-1.5 pl-3 text-left align-middle text-sm md:px-4\"><a class=\"text-wpr-link\" href=\"/states/maine\" to=\"/states/maine\">Maine</a></th><td class=\"text-wpr-table_text z-40 px-3 py-1.5 text-sm md:px-4\">164</td><td class=\"text-wpr-table_text z-40 px-3 py-1.5 text-sm md:px-4\">159</td></tr><tr class=\"table-row\" data-state=\"false\"><th class=\"text-wpr-table_header sticky left-0 z-50 bg-clip-padding py-1.5 pl-3 text-left align-middle text-sm md:px-4\"><a class=\"text-wpr-link\" href=\"/states/rhode-island\" to=\"/states/rhode-island\">Rhode Island</a></th><td class=\"text-wpr-table_text z-40 px-3 py-1.5 text-sm md:px-4\">159</td><td class=\"text-wpr-table_text z-40 px-3 py-1.5 text-sm md:px-4\">160</td></tr><tr class=\"table-row\" data-state=\"false\"><th class=\"text-wpr-table_header sticky left-0 z-50 bg-clip-padding py-1.5 pl-3 text-left align-middle text-sm md:px-4\"><a class=\"text-wpr-link\" href=\"/states/california\" to=\"/states/california\">California</a></th><td class=\"text-wpr-table_text z-40 px-3 py-1.5 text-sm md:px-4\">143</td><td class=\"text-wpr-table_text z-40 px-3 py-1.5 text-sm md:px-4\">134</td></tr><tr class=\"table-row\" data-state=\"false\"><th class=\"text-wpr-table_header sticky left-0 z-50 bg-clip-padding py-1.5 pl-3 text-left align-middle text-sm md:px-4\"><a class=\"text-wpr-link\" href=\"/states/tennessee\" to=\"/states/tennessee\">Tennessee</a></th><td class=\"text-wpr-table_text z-40 px-3 py-1.5 text-sm md:px-4\">137</td><td class=\"text-wpr-table_text z-40 px-3 py-1.5 text-sm md:px-4\">123</td></tr><tr class=\"table-row\" data-state=\"false\"><th class=\"text-wpr-table_header sticky left-0 z-50 bg-clip-padding py-1.5 pl-3 text-left align-middle text-sm md:px-4\"><a class=\"text-wpr-link\" href=\"/states/indiana\" to=\"/states/indiana\">Indiana</a></th><td class=\"text-wpr-table_text z-40 px-3 py-1.5 text-sm md:px-4\">117</td><td class=\"text-wpr-table_text z-40 px-3 py-1.5 text-sm md:px-4\">104</td></tr><tr class=\"table-row\" data-state=\"false\"><th class=\"text-wpr-table_header sticky left-0 z-50 bg-clip-padding py-1.5 pl-3 text-left align-middle text-sm md:px-4\"><a class=\"text-wpr-link\" href=\"/states/south-carolina\" to=\"/states/south-carolina\">South Carolina</a></th><td class=\"text-wpr-table_text z-40 px-3 py-1.5 text-sm md:px-4\">116</td><td class=\"text-wpr-table_text z-40 px-3 py-1.5 text-sm md:px-4\">103</td></tr><tr class=\"table-row\" data-state=\"false\"><th class=\"text-wpr-table_header sticky left-0 z-50 bg-clip-padding py-1.5 pl-3 text-left align-middle text-sm md:px-4\"><a class=\"text-wpr-link\" href=\"/states/michigan\" to=\"/states/michigan\">Michigan</a></th><td class=\"text-wpr-table_text z-40 px-3 py-1.5 text-sm md:px-4\">112</td><td class=\"text-wpr-table_text z-40 px-3 py-1.5 text-sm md:px-4\">105</td></tr><tr class=\"table-row\" data-state=\"false\"><th class=\"text-wpr-table_header sticky left-0 z-50 bg-clip-padding py-1.5 pl-3 text-left align-middle text-sm md:px-4\"><a class=\"text-wpr-link\" href=\"/states/arizona\" to=\"/states/arizona\">Arizona</a></th><td class=\"text-wpr-table_text z-40 px-3 py-1.5 text-sm md:px-4\">110</td><td class=\"text-wpr-table_text z-40 px-3 py-1.5 text-sm md:px-4\">102</td></tr><tr class=\"table-row\" data-state=\"false\"><th class=\"text-wpr-table_header sticky left-0 z-50 bg-clip-padding py-1.5 pl-3 text-left align-middle text-sm md:px-4\"><a class=\"text-wpr-link\" href=\"/states/wisconsin\" to=\"/states/wisconsin\">Wisconsin</a></th><td class=\"text-wpr-table_text z-40 px-3 py-1.5 text-sm md:px-4\">100</td><td class=\"text-wpr-table_text z-40 px-3 py-1.5 text-sm md:px-4\">83</td></tr><tr class=\"table-row\" data-state=\"false\"><th class=\"text-wpr-table_header sticky left-0 z-50 bg-clip-padding py-1.5 pl-3 text-left align-middle text-sm md:px-4\"><a class=\"text-wpr-link\" href=\"/states/alabama\" to=\"/states/alabama\">Alabama</a></th><td class=\"text-wpr-table_text z-40 px-3 py-1.5 text-sm md:px-4\">69</td><td class=\"text-wpr-table_text z-40 px-3 py-1.5 text-sm md:px-4\">59</td></tr><tr class=\"table-row\" data-state=\"false\"><th class=\"text-wpr-table_header sticky left-0 z-50 bg-clip-padding py-1.5 pl-3 text-left align-middle text-sm md:px-4\"><a class=\"text-wpr-link\" href=\"/states/delaware\" to=\"/states/delaware\">Delaware</a></th><td class=\"text-wpr-table_text z-40 px-3 py-1.5 text-sm md:px-4\">67</td><td class=\"text-wpr-table_text z-40 px-3 py-1.5 text-sm md:px-4\">66</td></tr><tr class=\"table-row\" data-state=\"false\"><th class=\"text-wpr-table_header sticky left-0 z-50 bg-clip-padding py-1.5 pl-3 text-left align-middle text-sm md:px-4\"><a class=\"text-wpr-link\" href=\"/states/missouri\" to=\"/states/missouri\">Missouri</a></th><td class=\"text-wpr-table_text z-40 px-3 py-1.5 text-sm md:px-4\">54</td><td class=\"text-wpr-table_text z-40 px-3 py-1.5 text-sm md:px-4\">50</td></tr><tr class=\"table-row\" data-state=\"false\"><th class=\"text-wpr-table_header sticky left-0 z-50 bg-clip-padding py-1.5 pl-3 text-left align-middle text-sm md:px-4\"><a class=\"text-wpr-link\" href=\"/states/kentucky\" to=\"/states/kentucky\">Kentucky</a></th><td class=\"text-wpr-table_text z-40 px-3 py-1.5 text-sm md:px-4\">50</td><td class=\"text-wpr-table_text z-40 px-3 py-1.5 text-sm md:px-4\">41</td></tr><tr class=\"table-row\" data-state=\"false\"><th class=\"text-wpr-table_header sticky left-0 z-50 bg-clip-padding py-1.5 pl-3 text-left align-middle text-sm md:px-4\"><a class=\"text-wpr-link\" href=\"/states/vermont\" to=\"/states/vermont\">Vermont</a></th><td class=\"text-wpr-table_text z-40 px-3 py-1.5 text-sm md:px-4\">50</td><td class=\"text-wpr-table_text z-40 px-3 py-1.5 text-sm md:px-4\">49</td></tr><tr class=\"table-row\" data-state=\"false\"><th class=\"text-wpr-table_header sticky left-0 z-50 bg-clip-padding py-1.5 pl-3 text-left align-middle text-sm md:px-4\"><a class=\"text-wpr-link\" href=\"/states/colorado\" to=\"/states/colorado\">Colorado</a></th><td class=\"text-wpr-table_text z-40 px-3 py-1.5 text-sm md:px-4\">48</td><td class=\"text-wpr-table_text z-40 px-3 py-1.5 text-sm md:px-4\">43</td></tr><tr class=\"table-row\" data-state=\"false\"><th class=\"text-wpr-table_header sticky left-0 z-50 bg-clip-padding py-1.5 pl-3 text-left align-middle text-sm md:px-4\"><a class=\"text-wpr-link\" href=\"/states/nevada\" to=\"/states/nevada\">Nevada</a></th><td class=\"text-wpr-table_text z-40 px-3 py-1.5 text-sm md:px-4\">42</td><td class=\"text-wpr-table_text z-40 px-3 py-1.5 text-sm md:px-4\">38</td></tr><tr class=\"table-row\" data-state=\"false\"><th class=\"text-wpr-table_header sticky left-0 z-50 bg-clip-padding py-1.5 pl-3 text-left align-middle text-sm md:px-4\"><a class=\"text-wpr-link\" href=\"/states/minnesota\" to=\"/states/minnesota\">Minnesota</a></th><td class=\"text-wpr-table_text z-40 px-3 py-1.5 text-sm md:px-4\">38</td><td class=\"text-wpr-table_text z-40 px-3 py-1.5 text-sm md:px-4\">34</td></tr><tr class=\"table-row\" data-state=\"false\"><th class=\"text-wpr-table_header sticky left-0 z-50 bg-clip-padding py-1.5 pl-3 text-left align-middle text-sm md:px-4\"><a class=\"text-wpr-link\" href=\"/states/iowa\" to=\"/states/iowa\">Iowa</a></th><td class=\"text-wpr-table_text z-40 px-3 py-1.5 text-sm md:px-4\">36</td><td class=\"text-wpr-table_text z-40 px-3 py-1.5 text-sm md:px-4\">34</td></tr><tr class=\"table-row\" data-state=\"false\"><th class=\"text-wpr-table_header sticky left-0 z-50 bg-clip-padding py-1.5 pl-3 text-left align-middle text-sm md:px-4\"><a class=\"text-wpr-link\" href=\"/states/west-virginia\" to=\"/states/west-virginia\">West Virginia</a></th><td class=\"text-wpr-table_text z-40 px-3 py-1.5 text-sm md:px-4\">31</td><td class=\"text-wpr-table_text z-40 px-3 py-1.5 text-sm md:px-4\">27</td></tr><tr class=\"table-row\" data-state=\"false\"><th class=\"text-wpr-table_header sticky left-0 z-50 bg-clip-padding py-1.5 pl-3 text-left align-middle text-sm md:px-4\"><a class=\"text-wpr-link\" href=\"/states/kansas\" to=\"/states/kansas\">Kansas</a></th><td class=\"text-wpr-table_text z-40 px-3 py-1.5 text-sm md:px-4\">26</td><td class=\"text-wpr-table_text z-40 px-3 py-1.5 text-sm md:px-4\">28</td></tr><tr class=\"table-row\" data-state=\"false\"><th class=\"text-wpr-table_header sticky left-0 z-50 bg-clip-padding py-1.5 pl-3 text-left align-middle text-sm md:px-4\"><a class=\"text-wpr-link\" href=\"/states/nebraska\" to=\"/states/nebraska\">Nebraska</a></th><td class=\"text-wpr-table_text z-40 px-3 py-1.5 text-sm md:px-4\">24</td><td class=\"text-wpr-table_text z-40 px-3 py-1.5 text-sm md:px-4\">23</td></tr><tr class=\"table-row\" data-state=\"false\"><th class=\"text-wpr-table_header sticky left-0 z-50 bg-clip-padding py-1.5 pl-3 text-left align-middle text-sm md:px-4\"><a class=\"text-wpr-link\" href=\"/states/oklahoma\" to=\"/states/oklahoma\">Oklahoma</a></th><td class=\"text-wpr-table_text z-40 px-3 py-1.5 text-sm md:px-4\">23</td><td class=\"text-wpr-table_text z-40 px-3 py-1.5 text-sm md:px-4\">18</td></tr><tr class=\"table-row\" data-state=\"false\"><th class=\"text-wpr-table_header sticky left-0 z-50 bg-clip-padding py-1.5 pl-3 text-left align-middle text-sm md:px-4\"><a class=\"text-wpr-link\" href=\"/states/district-of-columbia\" to=\"/states/district-of-columbia\">District of Columbia</a></th><td class=\"text-wpr-table_text z-40 px-3 py-1.5 text-sm md:px-4\">19</td><td class=\"text-wpr-table_text z-40 px-3 py-1.5 text-sm md:px-4\"></td></tr><tr class=\"table-row\" data-state=\"false\"><th class=\"text-wpr-table_header sticky left-0 z-50 bg-clip-padding py-1.5 pl-3 text-left align-middle text-sm md:px-4\"><a class=\"text-wpr-link\" href=\"/states/new-mexico\" to=\"/states/new-mexico\">New Mexico</a></th><td class=\"text-wpr-table_text z-40 px-3 py-1.5 text-sm md:px-4\">19</td><td class=\"text-wpr-table_text z-40 px-3 py-1.5 text-sm md:px-4\">19</td></tr><tr class=\"table-row\" data-state=\"false\"><th class=\"text-wpr-table_header sticky left-0 z-50 bg-clip-padding py-1.5 pl-3 text-left align-middle text-sm md:px-4\"><a class=\"text-wpr-link\" href=\"/states/louisiana\" to=\"/states/louisiana\">Louisiana</a></th><td class=\"text-wpr-table_text z-40 px-3 py-1.5 text-sm md:px-4\">15</td><td class=\"text-wpr-table_text z-40 px-3 py-1.5 text-sm md:px-4\">16</td></tr><tr class=\"table-row\" data-state=\"false\"><th class=\"text-wpr-table_header sticky left-0 z-50 bg-clip-padding py-1.5 pl-3 text-left align-middle text-sm md:px-4\"><a class=\"text-wpr-link\" href=\"/states/arkansas\" to=\"/states/arkansas\">Arkansas</a></th><td class=\"text-wpr-table_text z-40 px-3 py-1.5 text-sm md:px-4\">14</td><td class=\"text-wpr-table_text z-40 px-3 py-1.5 text-sm md:px-4\">9</td></tr><tr class=\"table-row\" data-state=\"false\"><th class=\"text-wpr-table_header sticky left-0 z-50 bg-clip-padding py-1.5 pl-3 text-left align-middle text-sm md:px-4\"><a class=\"text-wpr-link\" href=\"/states/mississippi\" to=\"/states/mississippi\">Mississippi</a></th><td class=\"text-wpr-table_text z-40 px-3 py-1.5 text-sm md:px-4\">14</td><td class=\"text-wpr-table_text z-40 px-3 py-1.5 text-sm md:px-4\">12</td></tr><tr class=\"table-row\" data-state=\"false\"><th class=\"text-wpr-table_header sticky left-0 z-50 bg-clip-padding py-1.5 pl-3 text-left align-middle text-sm md:px-4\"><a class=\"text-wpr-link\" href=\"/states/hawaii\" to=\"/states/hawaii\">Hawaii</a></th><td class=\"text-wpr-table_text z-40 px-3 py-1.5 text-sm md:px-4\">6</td><td class=\"text-wpr-table_text z-40 px-3 py-1.5 text-sm md:px-4\">6</td></tr><tr class=\"table-row\" data-state=\"false\"><th class=\"text-wpr-table_header sticky left-0 z-50 bg-clip-padding py-1.5 pl-3 text-left align-middle text-sm md:px-4\"><a class=\"text-wpr-link\" href=\"/states/utah\" to=\"/states/utah\">Utah</a></th><td class=\"text-wpr-table_text z-40 px-3 py-1.5 text-sm md:px-4\">2</td><td class=\"text-wpr-table_text z-40 px-3 py-1.5 text-sm md:px-4\">1</td></tr><tr class=\"table-row\" data-state=\"false\"><th class=\"text-wpr-table_header sticky left-0 z-50 bg-clip-padding py-1.5 pl-3 text-left align-middle text-sm md:px-4\"><a class=\"text-wpr-link\" href=\"/states/wyoming\" to=\"/states/wyoming\">Wyoming</a></th><td class=\"text-wpr-table_text z-40 px-3 py-1.5 text-sm md:px-4\">1</td><td class=\"text-wpr-table_text z-40 px-3 py-1.5 text-sm md:px-4\">1</td></tr><tr class=\"table-row\" data-state=\"false\"><th class=\"text-wpr-table_header sticky left-0 z-50 bg-clip-padding py-1.5 pl-3 text-left align-middle text-sm md:px-4\"><a class=\"text-wpr-link\" href=\"/states/alaska\" to=\"/states/alaska\">Alaska</a></th><td class=\"text-wpr-table_text z-40 px-3 py-1.5 text-sm md:px-4\">0</td><td class=\"text-wpr-table_text z-40 px-3 py-1.5 text-sm md:px-4\">0</td></tr><tr class=\"table-row\" data-state=\"false\"><th class=\"text-wpr-table_header sticky left-0 z-50 bg-clip-padding py-1.5 pl-3 text-left align-middle text-sm md:px-4\"><a class=\"text-wpr-link\" href=\"/states/idaho\" to=\"/states/idaho\">Idaho</a></th><td class=\"text-wpr-table_text z-40 px-3 py-1.5 text-sm md:px-4\">0</td><td class=\"text-wpr-table_text z-40 px-3 py-1.5 text-sm md:px-4\">0</td></tr><tr class=\"table-row\" data-state=\"false\"><th class=\"text-wpr-table_header sticky left-0 z-50 bg-clip-padding py-1.5 pl-3 text-left align-middle text-sm md:px-4\"><a class=\"text-wpr-link\" href=\"/states/montana\" to=\"/states/montana\">Montana</a></th><td class=\"text-wpr-table_text z-40 px-3 py-1.5 text-sm md:px-4\">0</td><td class=\"text-wpr-table_text z-40 px-3 py-1.5 text-sm md:px-4\">0</td></tr><tr class=\"table-row\" data-state=\"false\"><th class=\"text-wpr-table_header sticky left-0 z-50 bg-clip-padding py-1.5 pl-3 text-left align-middle text-sm md:px-4\"><a class=\"text-wpr-link\" href=\"/states/north-dakota\" to=\"/states/north-dakota\">North Dakota</a></th><td class=\"text-wpr-table_text z-40 px-3 py-1.5 text-sm md:px-4\">0</td><td class=\"text-wpr-table_text z-40 px-3 py-1.5 text-sm md:px-4\">0</td></tr><tr class=\"table-row\" data-state=\"false\"><th class=\"text-wpr-table_header sticky left-0 z-50 bg-clip-padding py-1.5 pl-3 text-left align-middle text-sm md:px-4\"><a class=\"text-wpr-link\" href=\"/states/oregon\" to=\"/states/oregon\">Oregon</a></th><td class=\"text-wpr-table_text z-40 px-3 py-1.5 text-sm md:px-4\">0</td><td class=\"text-wpr-table_text z-40 px-3 py-1.5 text-sm md:px-4\">0</td></tr><tr class=\"table-row\" data-state=\"false\"><th class=\"text-wpr-table_header sticky left-0 z-50 bg-clip-padding py-1.5 pl-3 text-left align-middle text-sm md:px-4\"><a class=\"text-wpr-link\" href=\"/states/south-dakota\" to=\"/states/south-dakota\">South Dakota</a></th><td class=\"text-wpr-table_text z-40 px-3 py-1.5 text-sm md:px-4\">0</td><td class=\"text-wpr-table_text z-40 px-3 py-1.5 text-sm md:px-4\">0</td></tr><tr class=\"table-row\" data-state=\"false\"><th class=\"text-wpr-table_header sticky left-0 z-50 bg-clip-padding py-1.5 pl-3 text-left align-middle text-sm md:px-4\"><a class=\"text-wpr-link\" href=\"/states/washington\" to=\"/states/washington\">Washington</a></th><td class=\"text-wpr-table_text z-40 px-3 py-1.5 text-sm md:px-4\">0</td><td class=\"text-wpr-table_text z-40 px-3 py-1.5 text-sm md:px-4\">19</td></tr></tbody></table>"
      ]
     },
     "execution_count": null,
     "metadata": {},
     "output_type": "execute_result"
    }
   ],
   "source": [
    "dunkin_table=(dunks_soup.find_all(\"table\"))[0]\n",
    "dunkin_table"
   ]
  },
  {
   "cell_type": "code",
   "execution_count": 83,
   "metadata": {},
   "outputs": [],
   "source": [
    "dunky= []\n",
    "\n",
    "# iterate over all rows in the population table\n",
    "for row in dunkin_table.find_all(\"tr\")[1:]:\n",
    "\n",
    "  #state\n",
    "  state= row.find(\"th\").text\n",
    "\n",
    "  #num starbs\n",
    "  num=row.find(\"td\").text\n",
    "\n",
    "  dunky.append({\n",
    "                \"state\": state,\n",
    "                \"Dunkin Stores\": num,\n",
    "  })"
   ]
  },
  {
   "cell_type": "code",
   "execution_count": 84,
   "metadata": {},
   "outputs": [],
   "source": [
    "dunky =pd.DataFrame(dunky)"
   ]
  },
  {
   "cell_type": "code",
   "execution_count": 85,
   "metadata": {},
   "outputs": [],
   "source": [
    "#combine\n",
    "merge_df = pd.merge(starbs, dunky, how=\"inner\", on='state')"
   ]
  },
  {
   "cell_type": "code",
   "execution_count": null,
   "metadata": {},
   "outputs": [],
   "source": [
    "merge_df"
   ]
  },
  {
   "cell_type": "code",
   "execution_count": 119,
   "metadata": {},
   "outputs": [],
   "source": [
    "#wiki table\n",
    "wiki_response = requests.get(\"https://simple.wikipedia.org/wiki/List_of_U.S._states_by_population\")"
   ]
  },
  {
   "cell_type": "code",
   "execution_count": 120,
   "metadata": {},
   "outputs": [],
   "source": [
    "from bs4 import BeautifulSoup\n",
    "wiki_soup = BeautifulSoup(wiki_response.content, \"html.parser\")"
   ]
  },
  {
   "cell_type": "code",
   "execution_count": 122,
   "metadata": {},
   "outputs": [],
   "source": [
    "wiki_table=(wiki_soup.find_all(\"table\"))[0]\n",
    "#wiki_table\n"
   ]
  },
  {
   "cell_type": "code",
   "execution_count": 132,
   "metadata": {},
   "outputs": [],
   "source": [
    "row =wiki_table.find_all(\"tr\")[1]\n",
    "#row"
   ]
  },
  {
   "cell_type": "code",
   "execution_count": 133,
   "metadata": {},
   "outputs": [
    {
     "data": {
      "text/plain": [
       "'California'"
      ]
     },
     "execution_count": null,
     "metadata": {},
     "output_type": "execute_result"
    }
   ],
   "source": [
    "\n",
    "cell= row.find_all('td')\n",
    "cell[2].get_text(strip=True)"
   ]
  },
  {
   "cell_type": "code",
   "execution_count": null,
   "metadata": {},
   "outputs": [],
   "source": [
    "state= cells[0].text\n",
    "    city = city.rstrip(city[-1:])\n",
    "    if city.endswith(\"]\"):\n",
    "      city = city.rstrip(city[-3:])"
   ]
  },
  {
   "cell_type": "code",
   "execution_count": 142,
   "metadata": {},
   "outputs": [],
   "source": [
    "wiki = []\n",
    "\n",
    "# iterate over all rows in the population table\n",
    "for row in wiki_table.find_all(\"tr\")[1:]:\n",
    "\n",
    "\n",
    "    # Get all the cells (<td>) in the row.\n",
    "    #state\n",
    "    cells = row.find_all(\"td\")\n",
    "    state=cells[2].get_text(strip=True)\n",
    "\n",
    "\n",
    " #find population\n",
    "    pop = cells[3].get_text(strip=True)\n",
    "\n",
    "\n",
    "    # Append this data.\n",
    "    wiki.append({\n",
    "        \"State\": state,\n",
    "        \"Population\": pop,\n",
    "})"
   ]
  },
  {
   "cell_type": "code",
   "execution_count": 143,
   "metadata": {},
   "outputs": [
    {
     "data": {
      "text/html": [
       "<div>\n",
       "<style scoped>\n",
       "    .dataframe tbody tr th:only-of-type {\n",
       "        vertical-align: middle;\n",
       "    }\n",
       "\n",
       "    .dataframe tbody tr th {\n",
       "        vertical-align: top;\n",
       "    }\n",
       "\n",
       "    .dataframe thead th {\n",
       "        text-align: right;\n",
       "    }\n",
       "</style>\n",
       "<table border=\"1\" class=\"dataframe\">\n",
       "  <thead>\n",
       "    <tr style=\"text-align: right;\">\n",
       "      <th></th>\n",
       "      <th>State</th>\n",
       "      <th>Population</th>\n",
       "    </tr>\n",
       "  </thead>\n",
       "  <tbody>\n",
       "    <tr>\n",
       "      <th>0</th>\n",
       "      <td>California</td>\n",
       "      <td>39,538,223</td>\n",
       "    </tr>\n",
       "    <tr>\n",
       "      <th>1</th>\n",
       "      <td>Texas</td>\n",
       "      <td>30,145,505</td>\n",
       "    </tr>\n",
       "    <tr>\n",
       "      <th>2</th>\n",
       "      <td>Florida</td>\n",
       "      <td>21,538,187</td>\n",
       "    </tr>\n",
       "    <tr>\n",
       "      <th>3</th>\n",
       "      <td>New York</td>\n",
       "      <td>20,201,249</td>\n",
       "    </tr>\n",
       "    <tr>\n",
       "      <th>4</th>\n",
       "      <td>Pennsylvania</td>\n",
       "      <td>13,002,700</td>\n",
       "    </tr>\n",
       "    <tr>\n",
       "      <th>5</th>\n",
       "      <td>Illinois</td>\n",
       "      <td>12,812,508</td>\n",
       "    </tr>\n",
       "    <tr>\n",
       "      <th>6</th>\n",
       "      <td>Ohio</td>\n",
       "      <td>11,799,448</td>\n",
       "    </tr>\n",
       "    <tr>\n",
       "      <th>7</th>\n",
       "      <td>Georgia</td>\n",
       "      <td>10,711,908</td>\n",
       "    </tr>\n",
       "    <tr>\n",
       "      <th>8</th>\n",
       "      <td>North Carolina</td>\n",
       "      <td>10,439,388</td>\n",
       "    </tr>\n",
       "    <tr>\n",
       "      <th>9</th>\n",
       "      <td>Michigan</td>\n",
       "      <td>10,077,331</td>\n",
       "    </tr>\n",
       "    <tr>\n",
       "      <th>10</th>\n",
       "      <td>New Jersey</td>\n",
       "      <td>9,288,994</td>\n",
       "    </tr>\n",
       "    <tr>\n",
       "      <th>11</th>\n",
       "      <td>Virginia</td>\n",
       "      <td>8,631,393</td>\n",
       "    </tr>\n",
       "    <tr>\n",
       "      <th>12</th>\n",
       "      <td>Washington</td>\n",
       "      <td>7,705,281</td>\n",
       "    </tr>\n",
       "    <tr>\n",
       "      <th>13</th>\n",
       "      <td>Arizona</td>\n",
       "      <td>7,151,502</td>\n",
       "    </tr>\n",
       "    <tr>\n",
       "      <th>14</th>\n",
       "      <td>Massachusetts</td>\n",
       "      <td>7,029,917</td>\n",
       "    </tr>\n",
       "    <tr>\n",
       "      <th>15</th>\n",
       "      <td>Tennessee</td>\n",
       "      <td>6,910,840</td>\n",
       "    </tr>\n",
       "    <tr>\n",
       "      <th>16</th>\n",
       "      <td>Indiana</td>\n",
       "      <td>6,785,528</td>\n",
       "    </tr>\n",
       "    <tr>\n",
       "      <th>17</th>\n",
       "      <td>Maryland</td>\n",
       "      <td>6,177,224</td>\n",
       "    </tr>\n",
       "    <tr>\n",
       "      <th>18</th>\n",
       "      <td>Missouri</td>\n",
       "      <td>6,154,913</td>\n",
       "    </tr>\n",
       "    <tr>\n",
       "      <th>19</th>\n",
       "      <td>Wisconsin</td>\n",
       "      <td>5,893,718</td>\n",
       "    </tr>\n",
       "    <tr>\n",
       "      <th>20</th>\n",
       "      <td>Colorado</td>\n",
       "      <td>5,773,714</td>\n",
       "    </tr>\n",
       "    <tr>\n",
       "      <th>21</th>\n",
       "      <td>Minnesota</td>\n",
       "      <td>5,706,494</td>\n",
       "    </tr>\n",
       "    <tr>\n",
       "      <th>22</th>\n",
       "      <td>South Carolina</td>\n",
       "      <td>5,118,425</td>\n",
       "    </tr>\n",
       "    <tr>\n",
       "      <th>23</th>\n",
       "      <td>Alabama</td>\n",
       "      <td>5,024,279</td>\n",
       "    </tr>\n",
       "    <tr>\n",
       "      <th>24</th>\n",
       "      <td>Louisiana</td>\n",
       "      <td>4,657,757</td>\n",
       "    </tr>\n",
       "    <tr>\n",
       "      <th>25</th>\n",
       "      <td>Kentucky</td>\n",
       "      <td>4,505,836</td>\n",
       "    </tr>\n",
       "    <tr>\n",
       "      <th>26</th>\n",
       "      <td>Oregon</td>\n",
       "      <td>4,237,256</td>\n",
       "    </tr>\n",
       "    <tr>\n",
       "      <th>27</th>\n",
       "      <td>Oklahoma</td>\n",
       "      <td>3,959,353</td>\n",
       "    </tr>\n",
       "    <tr>\n",
       "      <th>28</th>\n",
       "      <td>Connecticut</td>\n",
       "      <td>3,605,944</td>\n",
       "    </tr>\n",
       "    <tr>\n",
       "      <th>29</th>\n",
       "      <td>Puerto Rico</td>\n",
       "      <td>3,285,874</td>\n",
       "    </tr>\n",
       "    <tr>\n",
       "      <th>30</th>\n",
       "      <td>Utah</td>\n",
       "      <td>3,271,616</td>\n",
       "    </tr>\n",
       "    <tr>\n",
       "      <th>31</th>\n",
       "      <td>Iowa</td>\n",
       "      <td>3,190,369</td>\n",
       "    </tr>\n",
       "    <tr>\n",
       "      <th>32</th>\n",
       "      <td>Nevada</td>\n",
       "      <td>3,104,614</td>\n",
       "    </tr>\n",
       "    <tr>\n",
       "      <th>33</th>\n",
       "      <td>Arkansas</td>\n",
       "      <td>3,011,524</td>\n",
       "    </tr>\n",
       "    <tr>\n",
       "      <th>34</th>\n",
       "      <td>Mississippi</td>\n",
       "      <td>2,961,279</td>\n",
       "    </tr>\n",
       "    <tr>\n",
       "      <th>35</th>\n",
       "      <td>Kansas</td>\n",
       "      <td>2,937,880</td>\n",
       "    </tr>\n",
       "    <tr>\n",
       "      <th>36</th>\n",
       "      <td>New Mexico</td>\n",
       "      <td>2,117,522</td>\n",
       "    </tr>\n",
       "    <tr>\n",
       "      <th>37</th>\n",
       "      <td>Nebraska</td>\n",
       "      <td>1,961,504</td>\n",
       "    </tr>\n",
       "    <tr>\n",
       "      <th>38</th>\n",
       "      <td>Idaho</td>\n",
       "      <td>1,839,106</td>\n",
       "    </tr>\n",
       "    <tr>\n",
       "      <th>39</th>\n",
       "      <td>West Virginia</td>\n",
       "      <td>1,793,716</td>\n",
       "    </tr>\n",
       "    <tr>\n",
       "      <th>40</th>\n",
       "      <td>Hawaii</td>\n",
       "      <td>1,455,271</td>\n",
       "    </tr>\n",
       "    <tr>\n",
       "      <th>41</th>\n",
       "      <td>New Hampshire</td>\n",
       "      <td>1,377,529</td>\n",
       "    </tr>\n",
       "    <tr>\n",
       "      <th>42</th>\n",
       "      <td>Maine</td>\n",
       "      <td>1,362,359</td>\n",
       "    </tr>\n",
       "    <tr>\n",
       "      <th>43</th>\n",
       "      <td>Rhode Island</td>\n",
       "      <td>1,097,379</td>\n",
       "    </tr>\n",
       "    <tr>\n",
       "      <th>44</th>\n",
       "      <td>Montana</td>\n",
       "      <td>1,084,225</td>\n",
       "    </tr>\n",
       "    <tr>\n",
       "      <th>45</th>\n",
       "      <td>Delaware</td>\n",
       "      <td>989,948</td>\n",
       "    </tr>\n",
       "    <tr>\n",
       "      <th>46</th>\n",
       "      <td>South Dakota</td>\n",
       "      <td>886,667</td>\n",
       "    </tr>\n",
       "    <tr>\n",
       "      <th>47</th>\n",
       "      <td>North Dakota</td>\n",
       "      <td>779,094</td>\n",
       "    </tr>\n",
       "    <tr>\n",
       "      <th>48</th>\n",
       "      <td>Alaska</td>\n",
       "      <td>733,391</td>\n",
       "    </tr>\n",
       "    <tr>\n",
       "      <th>49</th>\n",
       "      <td>District of Columbia</td>\n",
       "      <td>689,545</td>\n",
       "    </tr>\n",
       "    <tr>\n",
       "      <th>50</th>\n",
       "      <td>Vermont</td>\n",
       "      <td>643,077</td>\n",
       "    </tr>\n",
       "    <tr>\n",
       "      <th>51</th>\n",
       "      <td>Wyoming</td>\n",
       "      <td>576,851</td>\n",
       "    </tr>\n",
       "    <tr>\n",
       "      <th>52</th>\n",
       "      <td>Guam</td>\n",
       "      <td>153,836</td>\n",
       "    </tr>\n",
       "    <tr>\n",
       "      <th>53</th>\n",
       "      <td>U.S. Virgin Islands</td>\n",
       "      <td>87,146</td>\n",
       "    </tr>\n",
       "    <tr>\n",
       "      <th>54</th>\n",
       "      <td>American Samoa</td>\n",
       "      <td>49,710</td>\n",
       "    </tr>\n",
       "    <tr>\n",
       "      <th>55</th>\n",
       "      <td>Northern Mariana Islands</td>\n",
       "      <td>47,329</td>\n",
       "    </tr>\n",
       "    <tr>\n",
       "      <th>56</th>\n",
       "      <td>Contiguous United States</td>\n",
       "      <td>329,260,619</td>\n",
       "    </tr>\n",
       "    <tr>\n",
       "      <th>57</th>\n",
       "      <td>The fifty states</td>\n",
       "      <td>330,759,736</td>\n",
       "    </tr>\n",
       "    <tr>\n",
       "      <th>58</th>\n",
       "      <td>Fifty states + D.C.</td>\n",
       "      <td>331,449,281</td>\n",
       "    </tr>\n",
       "    <tr>\n",
       "      <th>59</th>\n",
       "      <td>Total U.S. (including D.C. and territories)</td>\n",
       "      <td>335,073,176</td>\n",
       "    </tr>\n",
       "  </tbody>\n",
       "</table>\n",
       "</div>"
      ],
      "text/plain": [
       "                                          State   Population\n",
       "0                                    California   39,538,223\n",
       "1                                         Texas   30,145,505\n",
       "2                                       Florida   21,538,187\n",
       "3                                      New York   20,201,249\n",
       "4                                  Pennsylvania   13,002,700\n",
       "5                                      Illinois   12,812,508\n",
       "6                                          Ohio   11,799,448\n",
       "7                                       Georgia   10,711,908\n",
       "8                                North Carolina   10,439,388\n",
       "9                                      Michigan   10,077,331\n",
       "10                                   New Jersey    9,288,994\n",
       "11                                     Virginia    8,631,393\n",
       "12                                   Washington    7,705,281\n",
       "13                                      Arizona    7,151,502\n",
       "14                                Massachusetts    7,029,917\n",
       "15                                    Tennessee    6,910,840\n",
       "16                                      Indiana    6,785,528\n",
       "17                                     Maryland    6,177,224\n",
       "18                                     Missouri    6,154,913\n",
       "19                                    Wisconsin    5,893,718\n",
       "20                                     Colorado    5,773,714\n",
       "21                                    Minnesota    5,706,494\n",
       "22                               South Carolina    5,118,425\n",
       "23                                      Alabama    5,024,279\n",
       "24                                    Louisiana    4,657,757\n",
       "25                                     Kentucky    4,505,836\n",
       "26                                       Oregon    4,237,256\n",
       "27                                     Oklahoma    3,959,353\n",
       "28                                  Connecticut    3,605,944\n",
       "29                                  Puerto Rico    3,285,874\n",
       "30                                         Utah    3,271,616\n",
       "31                                         Iowa    3,190,369\n",
       "32                                       Nevada    3,104,614\n",
       "33                                     Arkansas    3,011,524\n",
       "34                                  Mississippi    2,961,279\n",
       "35                                       Kansas    2,937,880\n",
       "36                                   New Mexico    2,117,522\n",
       "37                                     Nebraska    1,961,504\n",
       "38                                        Idaho    1,839,106\n",
       "39                                West Virginia    1,793,716\n",
       "40                                       Hawaii    1,455,271\n",
       "41                                New Hampshire    1,377,529\n",
       "42                                        Maine    1,362,359\n",
       "43                                 Rhode Island    1,097,379\n",
       "44                                      Montana    1,084,225\n",
       "45                                     Delaware      989,948\n",
       "46                                 South Dakota      886,667\n",
       "47                                 North Dakota      779,094\n",
       "48                                       Alaska      733,391\n",
       "49                         District of Columbia      689,545\n",
       "50                                      Vermont      643,077\n",
       "51                                      Wyoming      576,851\n",
       "52                                         Guam      153,836\n",
       "53                          U.S. Virgin Islands       87,146\n",
       "54                               American Samoa       49,710\n",
       "55                     Northern Mariana Islands       47,329\n",
       "56                     Contiguous United States  329,260,619\n",
       "57                             The fifty states  330,759,736\n",
       "58                          Fifty states + D.C.  331,449,281\n",
       "59  Total U.S. (including D.C. and territories)  335,073,176"
      ]
     },
     "execution_count": null,
     "metadata": {},
     "output_type": "execute_result"
    }
   ],
   "source": [
    "pd.DataFrame(wiki)"
   ]
  },
  {
   "cell_type": "code",
   "execution_count": null,
   "metadata": {},
   "outputs": [],
   "source": []
  }
 ],
 "metadata": {
  "language_info": {
   "name": "python"
  }
 },
 "nbformat": 4,
 "nbformat_minor": 2
}
