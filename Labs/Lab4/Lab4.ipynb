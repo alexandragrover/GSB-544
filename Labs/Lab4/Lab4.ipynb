{
 "cells": [
  {
   "cell_type": "raw",
   "metadata": {
    "vscode": {
     "languageId": "raw"
    }
   },
   "source": [
    "---\n",
    "title: \"Lab 4: Coffee Lovers Unite\"\n",
    "author: \"Alexandra Grover\" \n",
    "date: October 18,2024\n",
    "embed-resources: true\n",
    "---\n"
   ]
  },
  {
   "cell_type": "code",
   "execution_count": 39,
   "metadata": {},
   "outputs": [],
   "source": [
    "import pandas as pd\n",
    "import numpy as np\n",
    "import requests\n",
    "from bs4 import BeautifulSoup\n"
   ]
  },
  {
   "cell_type": "code",
   "execution_count": 55,
   "metadata": {},
   "outputs": [],
   "source": [
    "starbucks_response = requests.get(\"https://worldpopulationreview.com/state-rankings/starbucks-stores-by-state\")"
   ]
  },
  {
   "cell_type": "code",
   "execution_count": 56,
   "metadata": {},
   "outputs": [],
   "source": [
    "from bs4 import BeautifulSoup\n",
    "starbs_soup = BeautifulSoup(starbucks_response.content, \"html.parser\")"
   ]
  },
  {
   "cell_type": "code",
   "execution_count": 32,
   "metadata": {},
   "outputs": [
    {
     "data": {
      "text/plain": [
       "1"
      ]
     },
     "execution_count": null,
     "metadata": {},
     "output_type": "execute_result"
    }
   ],
   "source": [
    "len(soup.find_all(\"table\"))"
   ]
  },
  {
   "cell_type": "code",
   "execution_count": 63,
   "metadata": {},
   "outputs": [
    {
     "data": {
      "text/plain": [
       "<table class=\"wpr-table\"><thead class=\"table-head bg-wpr-table_header_bg relative z-40 px-0 py-0 text-xs uppercase tracking-wider\"><tr><th class=\"datatable-th bg-wpr-table_header_bg text-wpr-table_header border-wpr-table_border sticky top-0 border-b bg-clip-padding px-3 py-2 text-left align-bottom leading-4 md:px-4 pin left-0 z-50 border-l-0\"><div class=\"flex flex-col items-stretch justify-start\"><div class=\"flex flex-row items-center cursor-pointer select-none\">State</div></div></th><th class=\"datatable-th bg-wpr-table_header_bg text-wpr-table_header border-wpr-table_border sticky top-0 border-b bg-clip-padding px-3 py-2 text-left align-bottom leading-4 md:px-4 z-40\"><div class=\"flex flex-col items-stretch justify-start\"><div class=\"flex flex-row items-center cursor-pointer select-none\">Starbucks Stores 2023<svg class=\"icon icon-tabler icon-tabler-chevron-down\" fill=\"none\" height=\"14\" stroke=\"currentColor\" stroke-linecap=\"round\" stroke-linejoin=\"round\" stroke-width=\"2\" viewbox=\"0 0 24 24\" width=\"14\" xmlns=\"http://www.w3.org/2000/svg\"><path d=\"M0 0h24v24H0z\" fill=\"none\" stroke=\"none\"></path><polyline points=\"6 9 12 15 18 9\"></polyline></svg></div></div></th><th class=\"datatable-th bg-wpr-table_header_bg text-wpr-table_header border-wpr-table_border sticky top-0 border-b bg-clip-padding px-3 py-2 text-left align-bottom leading-4 md:px-4 z-40\"><div class=\"flex flex-col items-stretch justify-start\"><div class=\"flex flex-row items-center cursor-pointer select-none\">Starbucks Stores 2021</div></div></th><th class=\"datatable-th bg-wpr-table_header_bg text-wpr-table_header border-wpr-table_border sticky top-0 border-b bg-clip-padding px-3 py-2 text-left align-bottom leading-4 md:px-4 z-40\"><div class=\"flex flex-col items-stretch justify-start\"><div class=\"flex flex-row items-center cursor-pointer select-none\">Starbucks Stores 2024</div></div></th></tr></thead><tbody class=\"relative z-10 text-sm\"><tr class=\"table-row\" data-state=\"false\"><th class=\"text-wpr-table_header sticky left-0 z-50 bg-clip-padding py-1.5 pl-3 text-left align-middle text-sm md:px-4\"><a class=\"text-wpr-link\" href=\"/states/california\" to=\"/states/california\">California</a></th><td class=\"text-wpr-table_text z-40 px-3 py-1.5 text-sm md:px-4\">3,080</td><td class=\"text-wpr-table_text z-40 px-3 py-1.5 text-sm md:px-4\">2,959</td><td class=\"text-wpr-table_text z-40 px-3 py-1.5 text-sm md:px-4\">3,117</td></tr><tr class=\"table-row\" data-state=\"false\"><th class=\"text-wpr-table_header sticky left-0 z-50 bg-clip-padding py-1.5 pl-3 text-left align-middle text-sm md:px-4\"><a class=\"text-wpr-link\" href=\"/states/texas\" to=\"/states/texas\">Texas</a></th><td class=\"text-wpr-table_text z-40 px-3 py-1.5 text-sm md:px-4\">1,346</td><td class=\"text-wpr-table_text z-40 px-3 py-1.5 text-sm md:px-4\">1,215</td><td class=\"text-wpr-table_text z-40 px-3 py-1.5 text-sm md:px-4\">1,409</td></tr><tr class=\"table-row\" data-state=\"false\"><th class=\"text-wpr-table_header sticky left-0 z-50 bg-clip-padding py-1.5 pl-3 text-left align-middle text-sm md:px-4\"><a class=\"text-wpr-link\" href=\"/states/florida\" to=\"/states/florida\">Florida</a></th><td class=\"text-wpr-table_text z-40 px-3 py-1.5 text-sm md:px-4\">844</td><td class=\"text-wpr-table_text z-40 px-3 py-1.5 text-sm md:px-4\">786</td><td class=\"text-wpr-table_text z-40 px-3 py-1.5 text-sm md:px-4\">892</td></tr><tr class=\"table-row\" data-state=\"false\"><th class=\"text-wpr-table_header sticky left-0 z-50 bg-clip-padding py-1.5 pl-3 text-left align-middle text-sm md:px-4\"><a class=\"text-wpr-link\" href=\"/states/washington\" to=\"/states/washington\">Washington</a></th><td class=\"text-wpr-table_text z-40 px-3 py-1.5 text-sm md:px-4\">741</td><td class=\"text-wpr-table_text z-40 px-3 py-1.5 text-sm md:px-4\">739</td><td class=\"text-wpr-table_text z-40 px-3 py-1.5 text-sm md:px-4\">736</td></tr><tr class=\"table-row\" data-state=\"false\"><th class=\"text-wpr-table_header sticky left-0 z-50 bg-clip-padding py-1.5 pl-3 text-left align-middle text-sm md:px-4\"><a class=\"text-wpr-link\" href=\"/states/new-york\" to=\"/states/new-york\">New York</a></th><td class=\"text-wpr-table_text z-40 px-3 py-1.5 text-sm md:px-4\">692</td><td class=\"text-wpr-table_text z-40 px-3 py-1.5 text-sm md:px-4\">643</td><td class=\"text-wpr-table_text z-40 px-3 py-1.5 text-sm md:px-4\">715</td></tr><tr class=\"table-row\" data-state=\"false\"><th class=\"text-wpr-table_header sticky left-0 z-50 bg-clip-padding py-1.5 pl-3 text-left align-middle text-sm md:px-4\"><a class=\"text-wpr-link\" href=\"/states/illinois\" to=\"/states/illinois\">Illinois</a></th><td class=\"text-wpr-table_text z-40 px-3 py-1.5 text-sm md:px-4\">677</td><td class=\"text-wpr-table_text z-40 px-3 py-1.5 text-sm md:px-4\">621</td><td class=\"text-wpr-table_text z-40 px-3 py-1.5 text-sm md:px-4\">685</td></tr><tr class=\"table-row\" data-state=\"false\"><th class=\"text-wpr-table_header sticky left-0 z-50 bg-clip-padding py-1.5 pl-3 text-left align-middle text-sm md:px-4\"><a class=\"text-wpr-link\" href=\"/states/arizona\" to=\"/states/arizona\">Arizona</a></th><td class=\"text-wpr-table_text z-40 px-3 py-1.5 text-sm md:px-4\">548</td><td class=\"text-wpr-table_text z-40 px-3 py-1.5 text-sm md:px-4\">535</td><td class=\"text-wpr-table_text z-40 px-3 py-1.5 text-sm md:px-4\">579</td></tr><tr class=\"table-row\" data-state=\"false\"><th class=\"text-wpr-table_header sticky left-0 z-50 bg-clip-padding py-1.5 pl-3 text-left align-middle text-sm md:px-4\"><a class=\"text-wpr-link\" href=\"/states/colorado\" to=\"/states/colorado\">Colorado</a></th><td class=\"text-wpr-table_text z-40 px-3 py-1.5 text-sm md:px-4\">495</td><td class=\"text-wpr-table_text z-40 px-3 py-1.5 text-sm md:px-4\">497</td><td class=\"text-wpr-table_text z-40 px-3 py-1.5 text-sm md:px-4\">506</td></tr><tr class=\"table-row\" data-state=\"false\"><th class=\"text-wpr-table_header sticky left-0 z-50 bg-clip-padding py-1.5 pl-3 text-left align-middle text-sm md:px-4\"><a class=\"text-wpr-link\" href=\"/states/ohio\" to=\"/states/ohio\">Ohio</a></th><td class=\"text-wpr-table_text z-40 px-3 py-1.5 text-sm md:px-4\">491</td><td class=\"text-wpr-table_text z-40 px-3 py-1.5 text-sm md:px-4\">446</td><td class=\"text-wpr-table_text z-40 px-3 py-1.5 text-sm md:px-4\">499</td></tr><tr class=\"table-row\" data-state=\"false\"><th class=\"text-wpr-table_header sticky left-0 z-50 bg-clip-padding py-1.5 pl-3 text-left align-middle text-sm md:px-4\"><a class=\"text-wpr-link\" href=\"/states/virginia\" to=\"/states/virginia\">Virginia</a></th><td class=\"text-wpr-table_text z-40 px-3 py-1.5 text-sm md:px-4\">489</td><td class=\"text-wpr-table_text z-40 px-3 py-1.5 text-sm md:px-4\">456</td><td class=\"text-wpr-table_text z-40 px-3 py-1.5 text-sm md:px-4\">510</td></tr><tr class=\"table-row\" data-state=\"false\"><th class=\"text-wpr-table_header sticky left-0 z-50 bg-clip-padding py-1.5 pl-3 text-left align-middle text-sm md:px-4\"><a class=\"text-wpr-link\" href=\"/states/oregon\" to=\"/states/oregon\">Oregon</a></th><td class=\"text-wpr-table_text z-40 px-3 py-1.5 text-sm md:px-4\">359</td><td class=\"text-wpr-table_text z-40 px-3 py-1.5 text-sm md:px-4\">345</td><td class=\"text-wpr-table_text z-40 px-3 py-1.5 text-sm md:px-4\"></td></tr><tr class=\"table-row\" data-state=\"false\"><th class=\"text-wpr-table_header sticky left-0 z-50 bg-clip-padding py-1.5 pl-3 text-left align-middle text-sm md:px-4\"><a class=\"text-wpr-link\" href=\"/states/pennsylvania\" to=\"/states/pennsylvania\">Pennsylvania</a></th><td class=\"text-wpr-table_text z-40 px-3 py-1.5 text-sm md:px-4\">357</td><td class=\"text-wpr-table_text z-40 px-3 py-1.5 text-sm md:px-4\">406</td><td class=\"text-wpr-table_text z-40 px-3 py-1.5 text-sm md:px-4\"></td></tr><tr class=\"table-row\" data-state=\"false\"><th class=\"text-wpr-table_header sticky left-0 z-50 bg-clip-padding py-1.5 pl-3 text-left align-middle text-sm md:px-4\"><a class=\"text-wpr-link\" href=\"/states/north-carolina\" to=\"/states/north-carolina\">North Carolina</a></th><td class=\"text-wpr-table_text z-40 px-3 py-1.5 text-sm md:px-4\">338</td><td class=\"text-wpr-table_text z-40 px-3 py-1.5 text-sm md:px-4\">422</td><td class=\"text-wpr-table_text z-40 px-3 py-1.5 text-sm md:px-4\"></td></tr><tr class=\"table-row\" data-state=\"false\"><th class=\"text-wpr-table_header sticky left-0 z-50 bg-clip-padding py-1.5 pl-3 text-left align-middle text-sm md:px-4\"><a class=\"text-wpr-link\" href=\"/states/georgia\" to=\"/states/georgia\">Georgia</a></th><td class=\"text-wpr-table_text z-40 px-3 py-1.5 text-sm md:px-4\">326</td><td class=\"text-wpr-table_text z-40 px-3 py-1.5 text-sm md:px-4\">379</td><td class=\"text-wpr-table_text z-40 px-3 py-1.5 text-sm md:px-4\"></td></tr><tr class=\"table-row\" data-state=\"false\"><th class=\"text-wpr-table_header sticky left-0 z-50 bg-clip-padding py-1.5 pl-3 text-left align-middle text-sm md:px-4\"><a class=\"text-wpr-link\" href=\"/states/michigan\" to=\"/states/michigan\">Michigan</a></th><td class=\"text-wpr-table_text z-40 px-3 py-1.5 text-sm md:px-4\">283</td><td class=\"text-wpr-table_text z-40 px-3 py-1.5 text-sm md:px-4\">310</td><td class=\"text-wpr-table_text z-40 px-3 py-1.5 text-sm md:px-4\"></td></tr><tr class=\"table-row\" data-state=\"false\"><th class=\"text-wpr-table_header sticky left-0 z-50 bg-clip-padding py-1.5 pl-3 text-left align-middle text-sm md:px-4\"><a class=\"text-wpr-link\" href=\"/states/massachusetts\" to=\"/states/massachusetts\">Massachusetts</a></th><td class=\"text-wpr-table_text z-40 px-3 py-1.5 text-sm md:px-4\">273</td><td class=\"text-wpr-table_text z-40 px-3 py-1.5 text-sm md:px-4\">279</td><td class=\"text-wpr-table_text z-40 px-3 py-1.5 text-sm md:px-4\"></td></tr><tr class=\"table-row\" data-state=\"false\"><th class=\"text-wpr-table_header sticky left-0 z-50 bg-clip-padding py-1.5 pl-3 text-left align-middle text-sm md:px-4\"><a class=\"text-wpr-link\" href=\"/states/new-jersey\" to=\"/states/new-jersey\">New Jersey</a></th><td class=\"text-wpr-table_text z-40 px-3 py-1.5 text-sm md:px-4\">261</td><td class=\"text-wpr-table_text z-40 px-3 py-1.5 text-sm md:px-4\">293</td><td class=\"text-wpr-table_text z-40 px-3 py-1.5 text-sm md:px-4\"></td></tr><tr class=\"table-row\" data-state=\"false\"><th class=\"text-wpr-table_header sticky left-0 z-50 bg-clip-padding py-1.5 pl-3 text-left align-middle text-sm md:px-4\"><a class=\"text-wpr-link\" href=\"/states/maryland\" to=\"/states/maryland\">Maryland</a></th><td class=\"text-wpr-table_text z-40 px-3 py-1.5 text-sm md:px-4\">257</td><td class=\"text-wpr-table_text z-40 px-3 py-1.5 text-sm md:px-4\">274</td><td class=\"text-wpr-table_text z-40 px-3 py-1.5 text-sm md:px-4\"></td></tr><tr class=\"table-row\" data-state=\"false\"><th class=\"text-wpr-table_header sticky left-0 z-50 bg-clip-padding py-1.5 pl-3 text-left align-middle text-sm md:px-4\"><a class=\"text-wpr-link\" href=\"/states/nevada\" to=\"/states/nevada\">Nevada</a></th><td class=\"text-wpr-table_text z-40 px-3 py-1.5 text-sm md:px-4\">253</td><td class=\"text-wpr-table_text z-40 px-3 py-1.5 text-sm md:px-4\">269</td><td class=\"text-wpr-table_text z-40 px-3 py-1.5 text-sm md:px-4\"></td></tr><tr class=\"table-row\" data-state=\"false\"><th class=\"text-wpr-table_header sticky left-0 z-50 bg-clip-padding py-1.5 pl-3 text-left align-middle text-sm md:px-4\"><a class=\"text-wpr-link\" href=\"/states/indiana\" to=\"/states/indiana\">Indiana</a></th><td class=\"text-wpr-table_text z-40 px-3 py-1.5 text-sm md:px-4\">221</td><td class=\"text-wpr-table_text z-40 px-3 py-1.5 text-sm md:px-4\">265</td><td class=\"text-wpr-table_text z-40 px-3 py-1.5 text-sm md:px-4\"></td></tr><tr class=\"table-row\" data-state=\"false\"><th class=\"text-wpr-table_header sticky left-0 z-50 bg-clip-padding py-1.5 pl-3 text-left align-middle text-sm md:px-4\"><a class=\"text-wpr-link\" href=\"/states/missouri\" to=\"/states/missouri\">Missouri</a></th><td class=\"text-wpr-table_text z-40 px-3 py-1.5 text-sm md:px-4\">188</td><td class=\"text-wpr-table_text z-40 px-3 py-1.5 text-sm md:px-4\">208</td><td class=\"text-wpr-table_text z-40 px-3 py-1.5 text-sm md:px-4\"></td></tr><tr class=\"table-row\" data-state=\"false\"><th class=\"text-wpr-table_header sticky left-0 z-50 bg-clip-padding py-1.5 pl-3 text-left align-middle text-sm md:px-4\"><a class=\"text-wpr-link\" href=\"/states/minnesota\" to=\"/states/minnesota\">Minnesota</a></th><td class=\"text-wpr-table_text z-40 px-3 py-1.5 text-sm md:px-4\">184</td><td class=\"text-wpr-table_text z-40 px-3 py-1.5 text-sm md:px-4\">212</td><td class=\"text-wpr-table_text z-40 px-3 py-1.5 text-sm md:px-4\"></td></tr><tr class=\"table-row\" data-state=\"false\"><th class=\"text-wpr-table_header sticky left-0 z-50 bg-clip-padding py-1.5 pl-3 text-left align-middle text-sm md:px-4\"><a class=\"text-wpr-link\" href=\"/states/tennessee\" to=\"/states/tennessee\">Tennessee</a></th><td class=\"text-wpr-table_text z-40 px-3 py-1.5 text-sm md:px-4\">180</td><td class=\"text-wpr-table_text z-40 px-3 py-1.5 text-sm md:px-4\">237</td><td class=\"text-wpr-table_text z-40 px-3 py-1.5 text-sm md:px-4\"></td></tr><tr class=\"table-row\" data-state=\"false\"><th class=\"text-wpr-table_header sticky left-0 z-50 bg-clip-padding py-1.5 pl-3 text-left align-middle text-sm md:px-4\"><a class=\"text-wpr-link\" href=\"/states/kentucky\" to=\"/states/kentucky\">Kentucky</a></th><td class=\"text-wpr-table_text z-40 px-3 py-1.5 text-sm md:px-4\">166</td><td class=\"text-wpr-table_text z-40 px-3 py-1.5 text-sm md:px-4\">131</td><td class=\"text-wpr-table_text z-40 px-3 py-1.5 text-sm md:px-4\"></td></tr><tr class=\"table-row\" data-state=\"false\"><th class=\"text-wpr-table_header sticky left-0 z-50 bg-clip-padding py-1.5 pl-3 text-left align-middle text-sm md:px-4\"><a class=\"text-wpr-link\" href=\"/states/wisconsin\" to=\"/states/wisconsin\">Wisconsin</a></th><td class=\"text-wpr-table_text z-40 px-3 py-1.5 text-sm md:px-4\">145</td><td class=\"text-wpr-table_text z-40 px-3 py-1.5 text-sm md:px-4\">176</td><td class=\"text-wpr-table_text z-40 px-3 py-1.5 text-sm md:px-4\"></td></tr><tr class=\"table-row\" data-state=\"false\"><th class=\"text-wpr-table_header sticky left-0 z-50 bg-clip-padding py-1.5 pl-3 text-left align-middle text-sm md:px-4\"><a class=\"text-wpr-link\" href=\"/states/south-carolina\" to=\"/states/south-carolina\">South Carolina</a></th><td class=\"text-wpr-table_text z-40 px-3 py-1.5 text-sm md:px-4\">131</td><td class=\"text-wpr-table_text z-40 px-3 py-1.5 text-sm md:px-4\">207</td><td class=\"text-wpr-table_text z-40 px-3 py-1.5 text-sm md:px-4\"></td></tr><tr class=\"table-row\" data-state=\"false\"><th class=\"text-wpr-table_header sticky left-0 z-50 bg-clip-padding py-1.5 pl-3 text-left align-middle text-sm md:px-4\"><a class=\"text-wpr-link\" href=\"/states/connecticut\" to=\"/states/connecticut\">Connecticut</a></th><td class=\"text-wpr-table_text z-40 px-3 py-1.5 text-sm md:px-4\">123</td><td class=\"text-wpr-table_text z-40 px-3 py-1.5 text-sm md:px-4\">125</td><td class=\"text-wpr-table_text z-40 px-3 py-1.5 text-sm md:px-4\"></td></tr><tr class=\"table-row\" data-state=\"false\"><th class=\"text-wpr-table_header sticky left-0 z-50 bg-clip-padding py-1.5 pl-3 text-left align-middle text-sm md:px-4\"><a class=\"text-wpr-link\" href=\"/states/utah\" to=\"/states/utah\">Utah</a></th><td class=\"text-wpr-table_text z-40 px-3 py-1.5 text-sm md:px-4\">101</td><td class=\"text-wpr-table_text z-40 px-3 py-1.5 text-sm md:px-4\">126</td><td class=\"text-wpr-table_text z-40 px-3 py-1.5 text-sm md:px-4\"></td></tr><tr class=\"table-row\" data-state=\"false\"><th class=\"text-wpr-table_header sticky left-0 z-50 bg-clip-padding py-1.5 pl-3 text-left align-middle text-sm md:px-4\"><a class=\"text-wpr-link\" href=\"/states/hawaii\" to=\"/states/hawaii\">Hawaii</a></th><td class=\"text-wpr-table_text z-40 px-3 py-1.5 text-sm md:px-4\">99</td><td class=\"text-wpr-table_text z-40 px-3 py-1.5 text-sm md:px-4\">105</td><td class=\"text-wpr-table_text z-40 px-3 py-1.5 text-sm md:px-4\"></td></tr><tr class=\"table-row\" data-state=\"false\"><th class=\"text-wpr-table_header sticky left-0 z-50 bg-clip-padding py-1.5 pl-3 text-left align-middle text-sm md:px-4\"><a class=\"text-wpr-link\" href=\"/states/kansas\" to=\"/states/kansas\">Kansas</a></th><td class=\"text-wpr-table_text z-40 px-3 py-1.5 text-sm md:px-4\">94</td><td class=\"text-wpr-table_text z-40 px-3 py-1.5 text-sm md:px-4\">120</td><td class=\"text-wpr-table_text z-40 px-3 py-1.5 text-sm md:px-4\"></td></tr><tr class=\"table-row\" data-state=\"false\"><th class=\"text-wpr-table_header sticky left-0 z-50 bg-clip-padding py-1.5 pl-3 text-left align-middle text-sm md:px-4\"><a class=\"text-wpr-link\" href=\"/states/district-of-columbia\" to=\"/states/district-of-columbia\">District of Columbia</a></th><td class=\"text-wpr-table_text z-40 px-3 py-1.5 text-sm md:px-4\">91</td><td class=\"text-wpr-table_text z-40 px-3 py-1.5 text-sm md:px-4\"></td><td class=\"text-wpr-table_text z-40 px-3 py-1.5 text-sm md:px-4\"></td></tr><tr class=\"table-row\" data-state=\"false\"><th class=\"text-wpr-table_header sticky left-0 z-50 bg-clip-padding py-1.5 pl-3 text-left align-middle text-sm md:px-4\"><a class=\"text-wpr-link\" href=\"/states/iowa\" to=\"/states/iowa\">Iowa</a></th><td class=\"text-wpr-table_text z-40 px-3 py-1.5 text-sm md:px-4\">89</td><td class=\"text-wpr-table_text z-40 px-3 py-1.5 text-sm md:px-4\">142</td><td class=\"text-wpr-table_text z-40 px-3 py-1.5 text-sm md:px-4\"></td></tr><tr class=\"table-row\" data-state=\"false\"><th class=\"text-wpr-table_header sticky left-0 z-50 bg-clip-padding py-1.5 pl-3 text-left align-middle text-sm md:px-4\"><a class=\"text-wpr-link\" href=\"/states/alabama\" to=\"/states/alabama\">Alabama</a></th><td class=\"text-wpr-table_text z-40 px-3 py-1.5 text-sm md:px-4\">85</td><td class=\"text-wpr-table_text z-40 px-3 py-1.5 text-sm md:px-4\">99</td><td class=\"text-wpr-table_text z-40 px-3 py-1.5 text-sm md:px-4\"></td></tr><tr class=\"table-row\" data-state=\"false\"><th class=\"text-wpr-table_header sticky left-0 z-50 bg-clip-padding py-1.5 pl-3 text-left align-middle text-sm md:px-4\"><a class=\"text-wpr-link\" href=\"/states/louisiana\" to=\"/states/louisiana\">Louisiana</a></th><td class=\"text-wpr-table_text z-40 px-3 py-1.5 text-sm md:px-4\">84</td><td class=\"text-wpr-table_text z-40 px-3 py-1.5 text-sm md:px-4\">10</td><td class=\"text-wpr-table_text z-40 px-3 py-1.5 text-sm md:px-4\"></td></tr><tr class=\"table-row\" data-state=\"false\"><th class=\"text-wpr-table_header sticky left-0 z-50 bg-clip-padding py-1.5 pl-3 text-left align-middle text-sm md:px-4\"><a class=\"text-wpr-link\" href=\"/states/oklahoma\" to=\"/states/oklahoma\">Oklahoma</a></th><td class=\"text-wpr-table_text z-40 px-3 py-1.5 text-sm md:px-4\">79</td><td class=\"text-wpr-table_text z-40 px-3 py-1.5 text-sm md:px-4\">94</td><td class=\"text-wpr-table_text z-40 px-3 py-1.5 text-sm md:px-4\"></td></tr><tr class=\"table-row\" data-state=\"false\"><th class=\"text-wpr-table_header sticky left-0 z-50 bg-clip-padding py-1.5 pl-3 text-left align-middle text-sm md:px-4\"><a class=\"text-wpr-link\" href=\"/states/new-mexico\" to=\"/states/new-mexico\">New Mexico</a></th><td class=\"text-wpr-table_text z-40 px-3 py-1.5 text-sm md:px-4\">76</td><td class=\"text-wpr-table_text z-40 px-3 py-1.5 text-sm md:px-4\">92</td><td class=\"text-wpr-table_text z-40 px-3 py-1.5 text-sm md:px-4\"></td></tr><tr class=\"table-row\" data-state=\"false\"><th class=\"text-wpr-table_header sticky left-0 z-50 bg-clip-padding py-1.5 pl-3 text-left align-middle text-sm md:px-4\"><a class=\"text-wpr-link\" href=\"/states/idaho\" to=\"/states/idaho\">Idaho</a></th><td class=\"text-wpr-table_text z-40 px-3 py-1.5 text-sm md:px-4\">67</td><td class=\"text-wpr-table_text z-40 px-3 py-1.5 text-sm md:px-4\">78</td><td class=\"text-wpr-table_text z-40 px-3 py-1.5 text-sm md:px-4\"></td></tr><tr class=\"table-row\" data-state=\"false\"><th class=\"text-wpr-table_header sticky left-0 z-50 bg-clip-padding py-1.5 pl-3 text-left align-middle text-sm md:px-4\"><a class=\"text-wpr-link\" href=\"/states/nebraska\" to=\"/states/nebraska\">Nebraska</a></th><td class=\"text-wpr-table_text z-40 px-3 py-1.5 text-sm md:px-4\">58</td><td class=\"text-wpr-table_text z-40 px-3 py-1.5 text-sm md:px-4\">87</td><td class=\"text-wpr-table_text z-40 px-3 py-1.5 text-sm md:px-4\"></td></tr><tr class=\"table-row\" data-state=\"false\"><th class=\"text-wpr-table_header sticky left-0 z-50 bg-clip-padding py-1.5 pl-3 text-left align-middle text-sm md:px-4\"><a class=\"text-wpr-link\" href=\"/states/arkansas\" to=\"/states/arkansas\">Arkansas</a></th><td class=\"text-wpr-table_text z-40 px-3 py-1.5 text-sm md:px-4\">55</td><td class=\"text-wpr-table_text z-40 px-3 py-1.5 text-sm md:px-4\">66</td><td class=\"text-wpr-table_text z-40 px-3 py-1.5 text-sm md:px-4\"></td></tr><tr class=\"table-row\" data-state=\"false\"><th class=\"text-wpr-table_header sticky left-0 z-50 bg-clip-padding py-1.5 pl-3 text-left align-middle text-sm md:px-4\"><a class=\"text-wpr-link\" href=\"/states/alaska\" to=\"/states/alaska\">Alaska</a></th><td class=\"text-wpr-table_text z-40 px-3 py-1.5 text-sm md:px-4\">49</td><td class=\"text-wpr-table_text z-40 px-3 py-1.5 text-sm md:px-4\">49</td><td class=\"text-wpr-table_text z-40 px-3 py-1.5 text-sm md:px-4\"></td></tr><tr class=\"table-row\" data-state=\"false\"><th class=\"text-wpr-table_header sticky left-0 z-50 bg-clip-padding py-1.5 pl-3 text-left align-middle text-sm md:px-4\"><a class=\"text-wpr-link\" href=\"/states/mississippi\" to=\"/states/mississippi\">Mississippi</a></th><td class=\"text-wpr-table_text z-40 px-3 py-1.5 text-sm md:px-4\">32</td><td class=\"text-wpr-table_text z-40 px-3 py-1.5 text-sm md:px-4\">36</td><td class=\"text-wpr-table_text z-40 px-3 py-1.5 text-sm md:px-4\"></td></tr><tr class=\"table-row\" data-state=\"false\"><th class=\"text-wpr-table_header sticky left-0 z-50 bg-clip-padding py-1.5 pl-3 text-left align-middle text-sm md:px-4\"><a class=\"text-wpr-link\" href=\"/states/montana\" to=\"/states/montana\">Montana</a></th><td class=\"text-wpr-table_text z-40 px-3 py-1.5 text-sm md:px-4\">32</td><td class=\"text-wpr-table_text z-40 px-3 py-1.5 text-sm md:px-4\">45</td><td class=\"text-wpr-table_text z-40 px-3 py-1.5 text-sm md:px-4\"></td></tr><tr class=\"table-row\" data-state=\"false\"><th class=\"text-wpr-table_header sticky left-0 z-50 bg-clip-padding py-1.5 pl-3 text-left align-middle text-sm md:px-4\"><a class=\"text-wpr-link\" href=\"/states/maine\" to=\"/states/maine\">Maine</a></th><td class=\"text-wpr-table_text z-40 px-3 py-1.5 text-sm md:px-4\">30</td><td class=\"text-wpr-table_text z-40 px-3 py-1.5 text-sm md:px-4\">31</td><td class=\"text-wpr-table_text z-40 px-3 py-1.5 text-sm md:px-4\"></td></tr><tr class=\"table-row\" data-state=\"false\"><th class=\"text-wpr-table_header sticky left-0 z-50 bg-clip-padding py-1.5 pl-3 text-left align-middle text-sm md:px-4\"><a class=\"text-wpr-link\" href=\"/states/new-hampshire\" to=\"/states/new-hampshire\">New Hampshire</a></th><td class=\"text-wpr-table_text z-40 px-3 py-1.5 text-sm md:px-4\">29</td><td class=\"text-wpr-table_text z-40 px-3 py-1.5 text-sm md:px-4\">35</td><td class=\"text-wpr-table_text z-40 px-3 py-1.5 text-sm md:px-4\"></td></tr><tr class=\"table-row\" data-state=\"false\"><th class=\"text-wpr-table_header sticky left-0 z-50 bg-clip-padding py-1.5 pl-3 text-left align-middle text-sm md:px-4\"><a class=\"text-wpr-link\" href=\"/states/rhode-island\" to=\"/states/rhode-island\">Rhode Island</a></th><td class=\"text-wpr-table_text z-40 px-3 py-1.5 text-sm md:px-4\">27</td><td class=\"text-wpr-table_text z-40 px-3 py-1.5 text-sm md:px-4\">26</td><td class=\"text-wpr-table_text z-40 px-3 py-1.5 text-sm md:px-4\"></td></tr><tr class=\"table-row\" data-state=\"false\"><th class=\"text-wpr-table_header sticky left-0 z-50 bg-clip-padding py-1.5 pl-3 text-left align-middle text-sm md:px-4\"><a class=\"text-wpr-link\" href=\"/states/delaware\" to=\"/states/delaware\">Delaware</a></th><td class=\"text-wpr-table_text z-40 px-3 py-1.5 text-sm md:px-4\">25</td><td class=\"text-wpr-table_text z-40 px-3 py-1.5 text-sm md:px-4\">39</td><td class=\"text-wpr-table_text z-40 px-3 py-1.5 text-sm md:px-4\"></td></tr><tr class=\"table-row\" data-state=\"false\"><th class=\"text-wpr-table_header sticky left-0 z-50 bg-clip-padding py-1.5 pl-3 text-left align-middle text-sm md:px-4\"><a class=\"text-wpr-link\" href=\"/states/south-dakota\" to=\"/states/south-dakota\">South Dakota</a></th><td class=\"text-wpr-table_text z-40 px-3 py-1.5 text-sm md:px-4\">25</td><td class=\"text-wpr-table_text z-40 px-3 py-1.5 text-sm md:px-4\">52</td><td class=\"text-wpr-table_text z-40 px-3 py-1.5 text-sm md:px-4\"></td></tr><tr class=\"table-row\" data-state=\"false\"><th class=\"text-wpr-table_header sticky left-0 z-50 bg-clip-padding py-1.5 pl-3 text-left align-middle text-sm md:px-4\"><a class=\"text-wpr-link\" href=\"/states/west-virginia\" to=\"/states/west-virginia\">West Virginia</a></th><td class=\"text-wpr-table_text z-40 px-3 py-1.5 text-sm md:px-4\">25</td><td class=\"text-wpr-table_text z-40 px-3 py-1.5 text-sm md:px-4\">64</td><td class=\"text-wpr-table_text z-40 px-3 py-1.5 text-sm md:px-4\"></td></tr><tr class=\"table-row\" data-state=\"false\"><th class=\"text-wpr-table_header sticky left-0 z-50 bg-clip-padding py-1.5 pl-3 text-left align-middle text-sm md:px-4\"><a class=\"text-wpr-link\" href=\"/states/wyoming\" to=\"/states/wyoming\">Wyoming</a></th><td class=\"text-wpr-table_text z-40 px-3 py-1.5 text-sm md:px-4\">23</td><td class=\"text-wpr-table_text z-40 px-3 py-1.5 text-sm md:px-4\">26</td><td class=\"text-wpr-table_text z-40 px-3 py-1.5 text-sm md:px-4\"></td></tr><tr class=\"table-row\" data-state=\"false\"><th class=\"text-wpr-table_header sticky left-0 z-50 bg-clip-padding py-1.5 pl-3 text-left align-middle text-sm md:px-4\"><a class=\"text-wpr-link\" href=\"/states/north-dakota\" to=\"/states/north-dakota\">North Dakota</a></th><td class=\"text-wpr-table_text z-40 px-3 py-1.5 text-sm md:px-4\">13</td><td class=\"text-wpr-table_text z-40 px-3 py-1.5 text-sm md:px-4\">20</td><td class=\"text-wpr-table_text z-40 px-3 py-1.5 text-sm md:px-4\"></td></tr><tr class=\"table-row\" data-state=\"false\"><th class=\"text-wpr-table_header sticky left-0 z-50 bg-clip-padding py-1.5 pl-3 text-left align-middle text-sm md:px-4\"><a class=\"text-wpr-link\" href=\"/states/vermont\" to=\"/states/vermont\">Vermont</a></th><td class=\"text-wpr-table_text z-40 px-3 py-1.5 text-sm md:px-4\">8</td><td class=\"text-wpr-table_text z-40 px-3 py-1.5 text-sm md:px-4\">35</td><td class=\"text-wpr-table_text z-40 px-3 py-1.5 text-sm md:px-4\"></td></tr></tbody></table>"
      ]
     },
     "execution_count": null,
     "metadata": {},
     "output_type": "execute_result"
    }
   ],
   "source": [
    "table=(starbs_soup.find_all(\"table\"))[0]\n",
    "table"
   ]
  },
  {
   "cell_type": "code",
   "execution_count": 48,
   "metadata": {},
   "outputs": [],
   "source": [
    "#row\n",
    "line=table.find_all(\"tr\")"
   ]
  },
  {
   "cell_type": "code",
   "execution_count": 57,
   "metadata": {},
   "outputs": [
    {
     "data": {
      "text/plain": [
       "'Vermont'"
      ]
     },
     "execution_count": null,
     "metadata": {},
     "output_type": "execute_result"
    }
   ],
   "source": [
    "#state\n",
    "row.find(\"th\").text"
   ]
  },
  {
   "cell_type": "code",
   "execution_count": 45,
   "metadata": {},
   "outputs": [
    {
     "data": {
      "text/plain": [
       "'8'"
      ]
     },
     "execution_count": null,
     "metadata": {},
     "output_type": "execute_result"
    }
   ],
   "source": [
    "#num of starbs in state\n",
    "row.find(\"td\").text"
   ]
  },
  {
   "cell_type": "code",
   "execution_count": 78,
   "metadata": {},
   "outputs": [],
   "source": [
    "starbs= []\n",
    "\n",
    "# iterate over all rows in the population table\n",
    "for row in table.find_all(\"tr\")[1:]:\n",
    "\n",
    "  #state\n",
    "  state= row.find(\"th\").text\n",
    "\n",
    "  #num starbs\n",
    "  num=row.find(\"td\").text\n",
    "\n",
    "  starbs.append({\n",
    "                \"state\": state,\n",
    "                \"Starbucks Stores\": num,\n",
    "  })\n",
    "\n",
    "  "
   ]
  },
  {
   "cell_type": "code",
   "execution_count": 79,
   "metadata": {},
   "outputs": [],
   "source": [
    "starbs=pd.DataFrame(starbs)"
   ]
  },
  {
   "cell_type": "code",
   "execution_count": 80,
   "metadata": {},
   "outputs": [],
   "source": [
    "dunkin_response = requests.get(\"https://worldpopulationreview.com/state-rankings/dunkin-donuts-by-state\")"
   ]
  },
  {
   "cell_type": "code",
   "execution_count": 81,
   "metadata": {},
   "outputs": [],
   "source": [
    "from bs4 import BeautifulSoup\n",
    "dunks_soup = BeautifulSoup(dunkin_response.content, \"html.parser\")"
   ]
  },
  {
   "cell_type": "code",
   "execution_count": 82,
   "metadata": {},
   "outputs": [
    {
     "data": {
      "text/plain": [
       "<table class=\"wpr-table\"><thead class=\"table-head bg-wpr-table_header_bg relative z-40 px-0 py-0 text-xs uppercase tracking-wider\"><tr><th class=\"datatable-th bg-wpr-table_header_bg text-wpr-table_header border-wpr-table_border sticky top-0 border-b bg-clip-padding px-3 py-2 text-left align-bottom leading-4 md:px-4 pin left-0 z-50 border-l-0\"><div class=\"flex flex-col items-stretch justify-start\"><div class=\"flex flex-row items-center cursor-pointer select-none\">State</div></div></th><th class=\"datatable-th bg-wpr-table_header_bg text-wpr-table_header border-wpr-table_border sticky top-0 border-b bg-clip-padding px-3 py-2 text-left align-bottom leading-4 md:px-4 z-40\"><div class=\"flex flex-col items-stretch justify-start\"><div class=\"flex flex-row items-center cursor-pointer select-none\">Dunkin Locations 2024<svg class=\"icon icon-tabler icon-tabler-chevron-down\" fill=\"none\" height=\"14\" stroke=\"currentColor\" stroke-linecap=\"round\" stroke-linejoin=\"round\" stroke-width=\"2\" viewbox=\"0 0 24 24\" width=\"14\" xmlns=\"http://www.w3.org/2000/svg\"><path d=\"M0 0h24v24H0z\" fill=\"none\" stroke=\"none\"></path><polyline points=\"6 9 12 15 18 9\"></polyline></svg></div></div></th><th class=\"datatable-th bg-wpr-table_header_bg text-wpr-table_header border-wpr-table_border sticky top-0 border-b bg-clip-padding px-3 py-2 text-left align-bottom leading-4 md:px-4 z-40\"><div class=\"flex flex-col items-stretch justify-start\"><div class=\"flex flex-row items-center cursor-pointer select-none\">Dunkin Locations 2023</div></div></th></tr></thead><tbody class=\"relative z-10 text-sm\"><tr class=\"table-row\" data-state=\"false\"><th class=\"text-wpr-table_header sticky left-0 z-50 bg-clip-padding py-1.5 pl-3 text-left align-middle text-sm md:px-4\"><a class=\"text-wpr-link\" href=\"/states/new-york\" to=\"/states/new-york\">New York</a></th><td class=\"text-wpr-table_text z-40 px-3 py-1.5 text-sm md:px-4\">1,431</td><td class=\"text-wpr-table_text z-40 px-3 py-1.5 text-sm md:px-4\">1,414</td></tr><tr class=\"table-row\" data-state=\"false\"><th class=\"text-wpr-table_header sticky left-0 z-50 bg-clip-padding py-1.5 pl-3 text-left align-middle text-sm md:px-4\"><a class=\"text-wpr-link\" href=\"/states/massachusetts\" to=\"/states/massachusetts\">Massachusetts</a></th><td class=\"text-wpr-table_text z-40 px-3 py-1.5 text-sm md:px-4\">1,042</td><td class=\"text-wpr-table_text z-40 px-3 py-1.5 text-sm md:px-4\">1,068</td></tr><tr class=\"table-row\" data-state=\"false\"><th class=\"text-wpr-table_header sticky left-0 z-50 bg-clip-padding py-1.5 pl-3 text-left align-middle text-sm md:px-4\"><a class=\"text-wpr-link\" href=\"/states/florida\" to=\"/states/florida\">Florida</a></th><td class=\"text-wpr-table_text z-40 px-3 py-1.5 text-sm md:px-4\">909</td><td class=\"text-wpr-table_text z-40 px-3 py-1.5 text-sm md:px-4\">883</td></tr><tr class=\"table-row\" data-state=\"false\"><th class=\"text-wpr-table_header sticky left-0 z-50 bg-clip-padding py-1.5 pl-3 text-left align-middle text-sm md:px-4\"><a class=\"text-wpr-link\" href=\"/states/new-jersey\" to=\"/states/new-jersey\">New Jersey</a></th><td class=\"text-wpr-table_text z-40 px-3 py-1.5 text-sm md:px-4\">872</td><td class=\"text-wpr-table_text z-40 px-3 py-1.5 text-sm md:px-4\">866</td></tr><tr class=\"table-row\" data-state=\"false\"><th class=\"text-wpr-table_header sticky left-0 z-50 bg-clip-padding py-1.5 pl-3 text-left align-middle text-sm md:px-4\"><a class=\"text-wpr-link\" href=\"/states/illinois\" to=\"/states/illinois\">Illinois</a></th><td class=\"text-wpr-table_text z-40 px-3 py-1.5 text-sm md:px-4\">711</td><td class=\"text-wpr-table_text z-40 px-3 py-1.5 text-sm md:px-4\">692</td></tr><tr class=\"table-row\" data-state=\"false\"><th class=\"text-wpr-table_header sticky left-0 z-50 bg-clip-padding py-1.5 pl-3 text-left align-middle text-sm md:px-4\"><a class=\"text-wpr-link\" href=\"/states/pennsylvania\" to=\"/states/pennsylvania\">Pennsylvania</a></th><td class=\"text-wpr-table_text z-40 px-3 py-1.5 text-sm md:px-4\">650</td><td class=\"text-wpr-table_text z-40 px-3 py-1.5 text-sm md:px-4\">629</td></tr><tr class=\"table-row\" data-state=\"false\"><th class=\"text-wpr-table_header sticky left-0 z-50 bg-clip-padding py-1.5 pl-3 text-left align-middle text-sm md:px-4\"><a class=\"text-wpr-link\" href=\"/states/connecticut\" to=\"/states/connecticut\">Connecticut</a></th><td class=\"text-wpr-table_text z-40 px-3 py-1.5 text-sm md:px-4\">476</td><td class=\"text-wpr-table_text z-40 px-3 py-1.5 text-sm md:px-4\">480</td></tr><tr class=\"table-row\" data-state=\"false\"><th class=\"text-wpr-table_header sticky left-0 z-50 bg-clip-padding py-1.5 pl-3 text-left align-middle text-sm md:px-4\"><a class=\"text-wpr-link\" href=\"/states/maryland\" to=\"/states/maryland\">Maryland</a></th><td class=\"text-wpr-table_text z-40 px-3 py-1.5 text-sm md:px-4\">311</td><td class=\"text-wpr-table_text z-40 px-3 py-1.5 text-sm md:px-4\">303</td></tr><tr class=\"table-row\" data-state=\"false\"><th class=\"text-wpr-table_header sticky left-0 z-50 bg-clip-padding py-1.5 pl-3 text-left align-middle text-sm md:px-4\"><a class=\"text-wpr-link\" href=\"/states/georgia\" to=\"/states/georgia\">Georgia</a></th><td class=\"text-wpr-table_text z-40 px-3 py-1.5 text-sm md:px-4\">287</td><td class=\"text-wpr-table_text z-40 px-3 py-1.5 text-sm md:px-4\">265</td></tr><tr class=\"table-row\" data-state=\"false\"><th class=\"text-wpr-table_header sticky left-0 z-50 bg-clip-padding py-1.5 pl-3 text-left align-middle text-sm md:px-4\"><a class=\"text-wpr-link\" href=\"/states/ohio\" to=\"/states/ohio\">Ohio</a></th><td class=\"text-wpr-table_text z-40 px-3 py-1.5 text-sm md:px-4\">261</td><td class=\"text-wpr-table_text z-40 px-3 py-1.5 text-sm md:px-4\">245</td></tr><tr class=\"table-row\" data-state=\"false\"><th class=\"text-wpr-table_header sticky left-0 z-50 bg-clip-padding py-1.5 pl-3 text-left align-middle text-sm md:px-4\"><a class=\"text-wpr-link\" href=\"/states/virginia\" to=\"/states/virginia\">Virginia</a></th><td class=\"text-wpr-table_text z-40 px-3 py-1.5 text-sm md:px-4\">244</td><td class=\"text-wpr-table_text z-40 px-3 py-1.5 text-sm md:px-4\">230</td></tr><tr class=\"table-row\" data-state=\"false\"><th class=\"text-wpr-table_header sticky left-0 z-50 bg-clip-padding py-1.5 pl-3 text-left align-middle text-sm md:px-4\"><a class=\"text-wpr-link\" href=\"/states/texas\" to=\"/states/texas\">Texas</a></th><td class=\"text-wpr-table_text z-40 px-3 py-1.5 text-sm md:px-4\">226</td><td class=\"text-wpr-table_text z-40 px-3 py-1.5 text-sm md:px-4\">196</td></tr><tr class=\"table-row\" data-state=\"false\"><th class=\"text-wpr-table_header sticky left-0 z-50 bg-clip-padding py-1.5 pl-3 text-left align-middle text-sm md:px-4\"><a class=\"text-wpr-link\" href=\"/states/north-carolina\" to=\"/states/north-carolina\">North Carolina</a></th><td class=\"text-wpr-table_text z-40 px-3 py-1.5 text-sm md:px-4\">224</td><td class=\"text-wpr-table_text z-40 px-3 py-1.5 text-sm md:px-4\">206</td></tr><tr class=\"table-row\" data-state=\"false\"><th class=\"text-wpr-table_header sticky left-0 z-50 bg-clip-padding py-1.5 pl-3 text-left align-middle text-sm md:px-4\"><a class=\"text-wpr-link\" href=\"/states/new-hampshire\" to=\"/states/new-hampshire\">New Hampshire</a></th><td class=\"text-wpr-table_text z-40 px-3 py-1.5 text-sm md:px-4\">216</td><td class=\"text-wpr-table_text z-40 px-3 py-1.5 text-sm md:px-4\">218</td></tr><tr class=\"table-row\" data-state=\"false\"><th class=\"text-wpr-table_header sticky left-0 z-50 bg-clip-padding py-1.5 pl-3 text-left align-middle text-sm md:px-4\"><a class=\"text-wpr-link\" href=\"/states/maine\" to=\"/states/maine\">Maine</a></th><td class=\"text-wpr-table_text z-40 px-3 py-1.5 text-sm md:px-4\">164</td><td class=\"text-wpr-table_text z-40 px-3 py-1.5 text-sm md:px-4\">159</td></tr><tr class=\"table-row\" data-state=\"false\"><th class=\"text-wpr-table_header sticky left-0 z-50 bg-clip-padding py-1.5 pl-3 text-left align-middle text-sm md:px-4\"><a class=\"text-wpr-link\" href=\"/states/rhode-island\" to=\"/states/rhode-island\">Rhode Island</a></th><td class=\"text-wpr-table_text z-40 px-3 py-1.5 text-sm md:px-4\">159</td><td class=\"text-wpr-table_text z-40 px-3 py-1.5 text-sm md:px-4\">160</td></tr><tr class=\"table-row\" data-state=\"false\"><th class=\"text-wpr-table_header sticky left-0 z-50 bg-clip-padding py-1.5 pl-3 text-left align-middle text-sm md:px-4\"><a class=\"text-wpr-link\" href=\"/states/california\" to=\"/states/california\">California</a></th><td class=\"text-wpr-table_text z-40 px-3 py-1.5 text-sm md:px-4\">143</td><td class=\"text-wpr-table_text z-40 px-3 py-1.5 text-sm md:px-4\">134</td></tr><tr class=\"table-row\" data-state=\"false\"><th class=\"text-wpr-table_header sticky left-0 z-50 bg-clip-padding py-1.5 pl-3 text-left align-middle text-sm md:px-4\"><a class=\"text-wpr-link\" href=\"/states/tennessee\" to=\"/states/tennessee\">Tennessee</a></th><td class=\"text-wpr-table_text z-40 px-3 py-1.5 text-sm md:px-4\">137</td><td class=\"text-wpr-table_text z-40 px-3 py-1.5 text-sm md:px-4\">123</td></tr><tr class=\"table-row\" data-state=\"false\"><th class=\"text-wpr-table_header sticky left-0 z-50 bg-clip-padding py-1.5 pl-3 text-left align-middle text-sm md:px-4\"><a class=\"text-wpr-link\" href=\"/states/indiana\" to=\"/states/indiana\">Indiana</a></th><td class=\"text-wpr-table_text z-40 px-3 py-1.5 text-sm md:px-4\">117</td><td class=\"text-wpr-table_text z-40 px-3 py-1.5 text-sm md:px-4\">104</td></tr><tr class=\"table-row\" data-state=\"false\"><th class=\"text-wpr-table_header sticky left-0 z-50 bg-clip-padding py-1.5 pl-3 text-left align-middle text-sm md:px-4\"><a class=\"text-wpr-link\" href=\"/states/south-carolina\" to=\"/states/south-carolina\">South Carolina</a></th><td class=\"text-wpr-table_text z-40 px-3 py-1.5 text-sm md:px-4\">116</td><td class=\"text-wpr-table_text z-40 px-3 py-1.5 text-sm md:px-4\">103</td></tr><tr class=\"table-row\" data-state=\"false\"><th class=\"text-wpr-table_header sticky left-0 z-50 bg-clip-padding py-1.5 pl-3 text-left align-middle text-sm md:px-4\"><a class=\"text-wpr-link\" href=\"/states/michigan\" to=\"/states/michigan\">Michigan</a></th><td class=\"text-wpr-table_text z-40 px-3 py-1.5 text-sm md:px-4\">112</td><td class=\"text-wpr-table_text z-40 px-3 py-1.5 text-sm md:px-4\">105</td></tr><tr class=\"table-row\" data-state=\"false\"><th class=\"text-wpr-table_header sticky left-0 z-50 bg-clip-padding py-1.5 pl-3 text-left align-middle text-sm md:px-4\"><a class=\"text-wpr-link\" href=\"/states/arizona\" to=\"/states/arizona\">Arizona</a></th><td class=\"text-wpr-table_text z-40 px-3 py-1.5 text-sm md:px-4\">110</td><td class=\"text-wpr-table_text z-40 px-3 py-1.5 text-sm md:px-4\">102</td></tr><tr class=\"table-row\" data-state=\"false\"><th class=\"text-wpr-table_header sticky left-0 z-50 bg-clip-padding py-1.5 pl-3 text-left align-middle text-sm md:px-4\"><a class=\"text-wpr-link\" href=\"/states/wisconsin\" to=\"/states/wisconsin\">Wisconsin</a></th><td class=\"text-wpr-table_text z-40 px-3 py-1.5 text-sm md:px-4\">100</td><td class=\"text-wpr-table_text z-40 px-3 py-1.5 text-sm md:px-4\">83</td></tr><tr class=\"table-row\" data-state=\"false\"><th class=\"text-wpr-table_header sticky left-0 z-50 bg-clip-padding py-1.5 pl-3 text-left align-middle text-sm md:px-4\"><a class=\"text-wpr-link\" href=\"/states/alabama\" to=\"/states/alabama\">Alabama</a></th><td class=\"text-wpr-table_text z-40 px-3 py-1.5 text-sm md:px-4\">69</td><td class=\"text-wpr-table_text z-40 px-3 py-1.5 text-sm md:px-4\">59</td></tr><tr class=\"table-row\" data-state=\"false\"><th class=\"text-wpr-table_header sticky left-0 z-50 bg-clip-padding py-1.5 pl-3 text-left align-middle text-sm md:px-4\"><a class=\"text-wpr-link\" href=\"/states/delaware\" to=\"/states/delaware\">Delaware</a></th><td class=\"text-wpr-table_text z-40 px-3 py-1.5 text-sm md:px-4\">67</td><td class=\"text-wpr-table_text z-40 px-3 py-1.5 text-sm md:px-4\">66</td></tr><tr class=\"table-row\" data-state=\"false\"><th class=\"text-wpr-table_header sticky left-0 z-50 bg-clip-padding py-1.5 pl-3 text-left align-middle text-sm md:px-4\"><a class=\"text-wpr-link\" href=\"/states/missouri\" to=\"/states/missouri\">Missouri</a></th><td class=\"text-wpr-table_text z-40 px-3 py-1.5 text-sm md:px-4\">54</td><td class=\"text-wpr-table_text z-40 px-3 py-1.5 text-sm md:px-4\">50</td></tr><tr class=\"table-row\" data-state=\"false\"><th class=\"text-wpr-table_header sticky left-0 z-50 bg-clip-padding py-1.5 pl-3 text-left align-middle text-sm md:px-4\"><a class=\"text-wpr-link\" href=\"/states/kentucky\" to=\"/states/kentucky\">Kentucky</a></th><td class=\"text-wpr-table_text z-40 px-3 py-1.5 text-sm md:px-4\">50</td><td class=\"text-wpr-table_text z-40 px-3 py-1.5 text-sm md:px-4\">41</td></tr><tr class=\"table-row\" data-state=\"false\"><th class=\"text-wpr-table_header sticky left-0 z-50 bg-clip-padding py-1.5 pl-3 text-left align-middle text-sm md:px-4\"><a class=\"text-wpr-link\" href=\"/states/vermont\" to=\"/states/vermont\">Vermont</a></th><td class=\"text-wpr-table_text z-40 px-3 py-1.5 text-sm md:px-4\">50</td><td class=\"text-wpr-table_text z-40 px-3 py-1.5 text-sm md:px-4\">49</td></tr><tr class=\"table-row\" data-state=\"false\"><th class=\"text-wpr-table_header sticky left-0 z-50 bg-clip-padding py-1.5 pl-3 text-left align-middle text-sm md:px-4\"><a class=\"text-wpr-link\" href=\"/states/colorado\" to=\"/states/colorado\">Colorado</a></th><td class=\"text-wpr-table_text z-40 px-3 py-1.5 text-sm md:px-4\">48</td><td class=\"text-wpr-table_text z-40 px-3 py-1.5 text-sm md:px-4\">43</td></tr><tr class=\"table-row\" data-state=\"false\"><th class=\"text-wpr-table_header sticky left-0 z-50 bg-clip-padding py-1.5 pl-3 text-left align-middle text-sm md:px-4\"><a class=\"text-wpr-link\" href=\"/states/nevada\" to=\"/states/nevada\">Nevada</a></th><td class=\"text-wpr-table_text z-40 px-3 py-1.5 text-sm md:px-4\">42</td><td class=\"text-wpr-table_text z-40 px-3 py-1.5 text-sm md:px-4\">38</td></tr><tr class=\"table-row\" data-state=\"false\"><th class=\"text-wpr-table_header sticky left-0 z-50 bg-clip-padding py-1.5 pl-3 text-left align-middle text-sm md:px-4\"><a class=\"text-wpr-link\" href=\"/states/minnesota\" to=\"/states/minnesota\">Minnesota</a></th><td class=\"text-wpr-table_text z-40 px-3 py-1.5 text-sm md:px-4\">38</td><td class=\"text-wpr-table_text z-40 px-3 py-1.5 text-sm md:px-4\">34</td></tr><tr class=\"table-row\" data-state=\"false\"><th class=\"text-wpr-table_header sticky left-0 z-50 bg-clip-padding py-1.5 pl-3 text-left align-middle text-sm md:px-4\"><a class=\"text-wpr-link\" href=\"/states/iowa\" to=\"/states/iowa\">Iowa</a></th><td class=\"text-wpr-table_text z-40 px-3 py-1.5 text-sm md:px-4\">36</td><td class=\"text-wpr-table_text z-40 px-3 py-1.5 text-sm md:px-4\">34</td></tr><tr class=\"table-row\" data-state=\"false\"><th class=\"text-wpr-table_header sticky left-0 z-50 bg-clip-padding py-1.5 pl-3 text-left align-middle text-sm md:px-4\"><a class=\"text-wpr-link\" href=\"/states/west-virginia\" to=\"/states/west-virginia\">West Virginia</a></th><td class=\"text-wpr-table_text z-40 px-3 py-1.5 text-sm md:px-4\">31</td><td class=\"text-wpr-table_text z-40 px-3 py-1.5 text-sm md:px-4\">27</td></tr><tr class=\"table-row\" data-state=\"false\"><th class=\"text-wpr-table_header sticky left-0 z-50 bg-clip-padding py-1.5 pl-3 text-left align-middle text-sm md:px-4\"><a class=\"text-wpr-link\" href=\"/states/kansas\" to=\"/states/kansas\">Kansas</a></th><td class=\"text-wpr-table_text z-40 px-3 py-1.5 text-sm md:px-4\">26</td><td class=\"text-wpr-table_text z-40 px-3 py-1.5 text-sm md:px-4\">28</td></tr><tr class=\"table-row\" data-state=\"false\"><th class=\"text-wpr-table_header sticky left-0 z-50 bg-clip-padding py-1.5 pl-3 text-left align-middle text-sm md:px-4\"><a class=\"text-wpr-link\" href=\"/states/nebraska\" to=\"/states/nebraska\">Nebraska</a></th><td class=\"text-wpr-table_text z-40 px-3 py-1.5 text-sm md:px-4\">24</td><td class=\"text-wpr-table_text z-40 px-3 py-1.5 text-sm md:px-4\">23</td></tr><tr class=\"table-row\" data-state=\"false\"><th class=\"text-wpr-table_header sticky left-0 z-50 bg-clip-padding py-1.5 pl-3 text-left align-middle text-sm md:px-4\"><a class=\"text-wpr-link\" href=\"/states/oklahoma\" to=\"/states/oklahoma\">Oklahoma</a></th><td class=\"text-wpr-table_text z-40 px-3 py-1.5 text-sm md:px-4\">23</td><td class=\"text-wpr-table_text z-40 px-3 py-1.5 text-sm md:px-4\">18</td></tr><tr class=\"table-row\" data-state=\"false\"><th class=\"text-wpr-table_header sticky left-0 z-50 bg-clip-padding py-1.5 pl-3 text-left align-middle text-sm md:px-4\"><a class=\"text-wpr-link\" href=\"/states/district-of-columbia\" to=\"/states/district-of-columbia\">District of Columbia</a></th><td class=\"text-wpr-table_text z-40 px-3 py-1.5 text-sm md:px-4\">19</td><td class=\"text-wpr-table_text z-40 px-3 py-1.5 text-sm md:px-4\"></td></tr><tr class=\"table-row\" data-state=\"false\"><th class=\"text-wpr-table_header sticky left-0 z-50 bg-clip-padding py-1.5 pl-3 text-left align-middle text-sm md:px-4\"><a class=\"text-wpr-link\" href=\"/states/new-mexico\" to=\"/states/new-mexico\">New Mexico</a></th><td class=\"text-wpr-table_text z-40 px-3 py-1.5 text-sm md:px-4\">19</td><td class=\"text-wpr-table_text z-40 px-3 py-1.5 text-sm md:px-4\">19</td></tr><tr class=\"table-row\" data-state=\"false\"><th class=\"text-wpr-table_header sticky left-0 z-50 bg-clip-padding py-1.5 pl-3 text-left align-middle text-sm md:px-4\"><a class=\"text-wpr-link\" href=\"/states/louisiana\" to=\"/states/louisiana\">Louisiana</a></th><td class=\"text-wpr-table_text z-40 px-3 py-1.5 text-sm md:px-4\">15</td><td class=\"text-wpr-table_text z-40 px-3 py-1.5 text-sm md:px-4\">16</td></tr><tr class=\"table-row\" data-state=\"false\"><th class=\"text-wpr-table_header sticky left-0 z-50 bg-clip-padding py-1.5 pl-3 text-left align-middle text-sm md:px-4\"><a class=\"text-wpr-link\" href=\"/states/arkansas\" to=\"/states/arkansas\">Arkansas</a></th><td class=\"text-wpr-table_text z-40 px-3 py-1.5 text-sm md:px-4\">14</td><td class=\"text-wpr-table_text z-40 px-3 py-1.5 text-sm md:px-4\">9</td></tr><tr class=\"table-row\" data-state=\"false\"><th class=\"text-wpr-table_header sticky left-0 z-50 bg-clip-padding py-1.5 pl-3 text-left align-middle text-sm md:px-4\"><a class=\"text-wpr-link\" href=\"/states/mississippi\" to=\"/states/mississippi\">Mississippi</a></th><td class=\"text-wpr-table_text z-40 px-3 py-1.5 text-sm md:px-4\">14</td><td class=\"text-wpr-table_text z-40 px-3 py-1.5 text-sm md:px-4\">12</td></tr><tr class=\"table-row\" data-state=\"false\"><th class=\"text-wpr-table_header sticky left-0 z-50 bg-clip-padding py-1.5 pl-3 text-left align-middle text-sm md:px-4\"><a class=\"text-wpr-link\" href=\"/states/hawaii\" to=\"/states/hawaii\">Hawaii</a></th><td class=\"text-wpr-table_text z-40 px-3 py-1.5 text-sm md:px-4\">6</td><td class=\"text-wpr-table_text z-40 px-3 py-1.5 text-sm md:px-4\">6</td></tr><tr class=\"table-row\" data-state=\"false\"><th class=\"text-wpr-table_header sticky left-0 z-50 bg-clip-padding py-1.5 pl-3 text-left align-middle text-sm md:px-4\"><a class=\"text-wpr-link\" href=\"/states/utah\" to=\"/states/utah\">Utah</a></th><td class=\"text-wpr-table_text z-40 px-3 py-1.5 text-sm md:px-4\">2</td><td class=\"text-wpr-table_text z-40 px-3 py-1.5 text-sm md:px-4\">1</td></tr><tr class=\"table-row\" data-state=\"false\"><th class=\"text-wpr-table_header sticky left-0 z-50 bg-clip-padding py-1.5 pl-3 text-left align-middle text-sm md:px-4\"><a class=\"text-wpr-link\" href=\"/states/wyoming\" to=\"/states/wyoming\">Wyoming</a></th><td class=\"text-wpr-table_text z-40 px-3 py-1.5 text-sm md:px-4\">1</td><td class=\"text-wpr-table_text z-40 px-3 py-1.5 text-sm md:px-4\">1</td></tr><tr class=\"table-row\" data-state=\"false\"><th class=\"text-wpr-table_header sticky left-0 z-50 bg-clip-padding py-1.5 pl-3 text-left align-middle text-sm md:px-4\"><a class=\"text-wpr-link\" href=\"/states/alaska\" to=\"/states/alaska\">Alaska</a></th><td class=\"text-wpr-table_text z-40 px-3 py-1.5 text-sm md:px-4\">0</td><td class=\"text-wpr-table_text z-40 px-3 py-1.5 text-sm md:px-4\">0</td></tr><tr class=\"table-row\" data-state=\"false\"><th class=\"text-wpr-table_header sticky left-0 z-50 bg-clip-padding py-1.5 pl-3 text-left align-middle text-sm md:px-4\"><a class=\"text-wpr-link\" href=\"/states/idaho\" to=\"/states/idaho\">Idaho</a></th><td class=\"text-wpr-table_text z-40 px-3 py-1.5 text-sm md:px-4\">0</td><td class=\"text-wpr-table_text z-40 px-3 py-1.5 text-sm md:px-4\">0</td></tr><tr class=\"table-row\" data-state=\"false\"><th class=\"text-wpr-table_header sticky left-0 z-50 bg-clip-padding py-1.5 pl-3 text-left align-middle text-sm md:px-4\"><a class=\"text-wpr-link\" href=\"/states/montana\" to=\"/states/montana\">Montana</a></th><td class=\"text-wpr-table_text z-40 px-3 py-1.5 text-sm md:px-4\">0</td><td class=\"text-wpr-table_text z-40 px-3 py-1.5 text-sm md:px-4\">0</td></tr><tr class=\"table-row\" data-state=\"false\"><th class=\"text-wpr-table_header sticky left-0 z-50 bg-clip-padding py-1.5 pl-3 text-left align-middle text-sm md:px-4\"><a class=\"text-wpr-link\" href=\"/states/north-dakota\" to=\"/states/north-dakota\">North Dakota</a></th><td class=\"text-wpr-table_text z-40 px-3 py-1.5 text-sm md:px-4\">0</td><td class=\"text-wpr-table_text z-40 px-3 py-1.5 text-sm md:px-4\">0</td></tr><tr class=\"table-row\" data-state=\"false\"><th class=\"text-wpr-table_header sticky left-0 z-50 bg-clip-padding py-1.5 pl-3 text-left align-middle text-sm md:px-4\"><a class=\"text-wpr-link\" href=\"/states/oregon\" to=\"/states/oregon\">Oregon</a></th><td class=\"text-wpr-table_text z-40 px-3 py-1.5 text-sm md:px-4\">0</td><td class=\"text-wpr-table_text z-40 px-3 py-1.5 text-sm md:px-4\">0</td></tr><tr class=\"table-row\" data-state=\"false\"><th class=\"text-wpr-table_header sticky left-0 z-50 bg-clip-padding py-1.5 pl-3 text-left align-middle text-sm md:px-4\"><a class=\"text-wpr-link\" href=\"/states/south-dakota\" to=\"/states/south-dakota\">South Dakota</a></th><td class=\"text-wpr-table_text z-40 px-3 py-1.5 text-sm md:px-4\">0</td><td class=\"text-wpr-table_text z-40 px-3 py-1.5 text-sm md:px-4\">0</td></tr><tr class=\"table-row\" data-state=\"false\"><th class=\"text-wpr-table_header sticky left-0 z-50 bg-clip-padding py-1.5 pl-3 text-left align-middle text-sm md:px-4\"><a class=\"text-wpr-link\" href=\"/states/washington\" to=\"/states/washington\">Washington</a></th><td class=\"text-wpr-table_text z-40 px-3 py-1.5 text-sm md:px-4\">0</td><td class=\"text-wpr-table_text z-40 px-3 py-1.5 text-sm md:px-4\">19</td></tr></tbody></table>"
      ]
     },
     "execution_count": null,
     "metadata": {},
     "output_type": "execute_result"
    }
   ],
   "source": [
    "dunkin_table=(dunks_soup.find_all(\"table\"))[0]\n",
    "dunkin_table"
   ]
  },
  {
   "cell_type": "code",
   "execution_count": 83,
   "metadata": {},
   "outputs": [],
   "source": [
    "dunky= []\n",
    "\n",
    "# iterate over all rows in the population table\n",
    "for row in dunkin_table.find_all(\"tr\")[1:]:\n",
    "\n",
    "  #state\n",
    "  state= row.find(\"th\").text\n",
    "\n",
    "  #num starbs\n",
    "  num=row.find(\"td\").text\n",
    "\n",
    "  dunky.append({\n",
    "                \"state\": state,\n",
    "                \"Dunkin Stores\": num,\n",
    "  })"
   ]
  },
  {
   "cell_type": "code",
   "execution_count": 84,
   "metadata": {},
   "outputs": [],
   "source": [
    "dunky =pd.DataFrame(dunky)"
   ]
  },
  {
   "cell_type": "code",
   "execution_count": 85,
   "metadata": {},
   "outputs": [],
   "source": [
    "#combine\n",
    "merge_df = pd.merge(starbs, dunky, how=\"inner\", on='state')"
   ]
  },
  {
   "cell_type": "code",
   "execution_count": null,
   "metadata": {},
   "outputs": [],
   "source": [
    "merge_df"
   ]
  },
  {
   "cell_type": "code",
   "execution_count": 119,
   "metadata": {},
   "outputs": [],
   "source": [
    "#wiki table\n",
    "wiki_response = requests.get(\"https://simple.wikipedia.org/wiki/List_of_U.S._states_by_population\")"
   ]
  },
  {
   "cell_type": "code",
   "execution_count": 120,
   "metadata": {},
   "outputs": [],
   "source": [
    "from bs4 import BeautifulSoup\n",
    "wiki_soup = BeautifulSoup(wiki_response.content, \"html.parser\")"
   ]
  },
  {
   "cell_type": "code",
   "execution_count": 122,
   "metadata": {},
   "outputs": [],
   "source": [
    "wiki_table=(wiki_soup.find_all(\"table\"))[0]\n",
    "#wiki_table\n"
   ]
  },
  {
   "cell_type": "code",
   "execution_count": 132,
   "metadata": {},
   "outputs": [],
   "source": [
    "row =wiki_table.find_all(\"tr\")[1]\n",
    "#row"
   ]
  },
  {
   "cell_type": "code",
   "execution_count": 133,
   "metadata": {},
   "outputs": [
    {
     "data": {
      "text/plain": [
       "'California'"
      ]
     },
     "execution_count": null,
     "metadata": {},
     "output_type": "execute_result"
    }
   ],
   "source": [
    "cell= row.find_all('td')\n",
    "cell[2].get_text(strip=True)"
   ]
  },
  {
   "cell_type": "code",
   "execution_count": 151,
   "metadata": {},
   "outputs": [],
   "source": [
    "wiki = []\n",
    "\n",
    "# iterate over all rows in the population table\n",
    "for row in wiki_table.find_all(\"tr\")[1:]:\n",
    "\n",
    "\n",
    "    # Get all the cells (<td>) in the row.\n",
    "    #state\n",
    "    cells = row.find_all(\"td\")\n",
    "    state=cells[2].get_text(strip=True)\n",
    "\n",
    "\n",
    " #find population\n",
    "    pop = cells[3].get_text(strip=True)\n",
    "\n",
    "\n",
    "    # Append this data.\n",
    "    wiki.append({\n",
    "        \"state\": state,\n",
    "        \"Population\": pop,\n",
    "})"
   ]
  },
  {
   "cell_type": "code",
   "execution_count": 147,
   "metadata": {},
   "outputs": [],
   "source": [
    "wiki=pd.DataFrame(wiki)"
   ]
  },
  {
   "cell_type": "code",
   "execution_count": 148,
   "metadata": {},
   "outputs": [],
   "source": [
    "final_merged = pd.merge(wiki, merge_df, how=\"inner\", on='state')\n"
   ]
  },
  {
   "cell_type": "code",
   "execution_count": 149,
   "metadata": {},
   "outputs": [
    {
     "data": {
      "text/html": [
       "<div>\n",
       "<style scoped>\n",
       "    .dataframe tbody tr th:only-of-type {\n",
       "        vertical-align: middle;\n",
       "    }\n",
       "\n",
       "    .dataframe tbody tr th {\n",
       "        vertical-align: top;\n",
       "    }\n",
       "\n",
       "    .dataframe thead th {\n",
       "        text-align: right;\n",
       "    }\n",
       "</style>\n",
       "<table border=\"1\" class=\"dataframe\">\n",
       "  <thead>\n",
       "    <tr style=\"text-align: right;\">\n",
       "      <th></th>\n",
       "      <th>state</th>\n",
       "      <th>Population</th>\n",
       "      <th>Starbucks Stores</th>\n",
       "      <th>Dunkin Stores</th>\n",
       "    </tr>\n",
       "  </thead>\n",
       "  <tbody>\n",
       "    <tr>\n",
       "      <th>0</th>\n",
       "      <td>California</td>\n",
       "      <td>39,538,223</td>\n",
       "      <td>3,080</td>\n",
       "      <td>143</td>\n",
       "    </tr>\n",
       "    <tr>\n",
       "      <th>1</th>\n",
       "      <td>Texas</td>\n",
       "      <td>30,145,505</td>\n",
       "      <td>1,346</td>\n",
       "      <td>226</td>\n",
       "    </tr>\n",
       "    <tr>\n",
       "      <th>2</th>\n",
       "      <td>Florida</td>\n",
       "      <td>21,538,187</td>\n",
       "      <td>844</td>\n",
       "      <td>909</td>\n",
       "    </tr>\n",
       "    <tr>\n",
       "      <th>3</th>\n",
       "      <td>New York</td>\n",
       "      <td>20,201,249</td>\n",
       "      <td>692</td>\n",
       "      <td>1,431</td>\n",
       "    </tr>\n",
       "    <tr>\n",
       "      <th>4</th>\n",
       "      <td>Pennsylvania</td>\n",
       "      <td>13,002,700</td>\n",
       "      <td>357</td>\n",
       "      <td>650</td>\n",
       "    </tr>\n",
       "    <tr>\n",
       "      <th>5</th>\n",
       "      <td>Illinois</td>\n",
       "      <td>12,812,508</td>\n",
       "      <td>677</td>\n",
       "      <td>711</td>\n",
       "    </tr>\n",
       "    <tr>\n",
       "      <th>6</th>\n",
       "      <td>Ohio</td>\n",
       "      <td>11,799,448</td>\n",
       "      <td>491</td>\n",
       "      <td>261</td>\n",
       "    </tr>\n",
       "    <tr>\n",
       "      <th>7</th>\n",
       "      <td>Georgia</td>\n",
       "      <td>10,711,908</td>\n",
       "      <td>326</td>\n",
       "      <td>287</td>\n",
       "    </tr>\n",
       "    <tr>\n",
       "      <th>8</th>\n",
       "      <td>North Carolina</td>\n",
       "      <td>10,439,388</td>\n",
       "      <td>338</td>\n",
       "      <td>224</td>\n",
       "    </tr>\n",
       "    <tr>\n",
       "      <th>9</th>\n",
       "      <td>Michigan</td>\n",
       "      <td>10,077,331</td>\n",
       "      <td>283</td>\n",
       "      <td>112</td>\n",
       "    </tr>\n",
       "    <tr>\n",
       "      <th>10</th>\n",
       "      <td>New Jersey</td>\n",
       "      <td>9,288,994</td>\n",
       "      <td>261</td>\n",
       "      <td>872</td>\n",
       "    </tr>\n",
       "    <tr>\n",
       "      <th>11</th>\n",
       "      <td>Virginia</td>\n",
       "      <td>8,631,393</td>\n",
       "      <td>489</td>\n",
       "      <td>244</td>\n",
       "    </tr>\n",
       "    <tr>\n",
       "      <th>12</th>\n",
       "      <td>Washington</td>\n",
       "      <td>7,705,281</td>\n",
       "      <td>741</td>\n",
       "      <td>0</td>\n",
       "    </tr>\n",
       "    <tr>\n",
       "      <th>13</th>\n",
       "      <td>Arizona</td>\n",
       "      <td>7,151,502</td>\n",
       "      <td>548</td>\n",
       "      <td>110</td>\n",
       "    </tr>\n",
       "    <tr>\n",
       "      <th>14</th>\n",
       "      <td>Massachusetts</td>\n",
       "      <td>7,029,917</td>\n",
       "      <td>273</td>\n",
       "      <td>1,042</td>\n",
       "    </tr>\n",
       "    <tr>\n",
       "      <th>15</th>\n",
       "      <td>Tennessee</td>\n",
       "      <td>6,910,840</td>\n",
       "      <td>180</td>\n",
       "      <td>137</td>\n",
       "    </tr>\n",
       "    <tr>\n",
       "      <th>16</th>\n",
       "      <td>Indiana</td>\n",
       "      <td>6,785,528</td>\n",
       "      <td>221</td>\n",
       "      <td>117</td>\n",
       "    </tr>\n",
       "    <tr>\n",
       "      <th>17</th>\n",
       "      <td>Maryland</td>\n",
       "      <td>6,177,224</td>\n",
       "      <td>257</td>\n",
       "      <td>311</td>\n",
       "    </tr>\n",
       "    <tr>\n",
       "      <th>18</th>\n",
       "      <td>Missouri</td>\n",
       "      <td>6,154,913</td>\n",
       "      <td>188</td>\n",
       "      <td>54</td>\n",
       "    </tr>\n",
       "    <tr>\n",
       "      <th>19</th>\n",
       "      <td>Wisconsin</td>\n",
       "      <td>5,893,718</td>\n",
       "      <td>145</td>\n",
       "      <td>100</td>\n",
       "    </tr>\n",
       "    <tr>\n",
       "      <th>20</th>\n",
       "      <td>Colorado</td>\n",
       "      <td>5,773,714</td>\n",
       "      <td>495</td>\n",
       "      <td>48</td>\n",
       "    </tr>\n",
       "    <tr>\n",
       "      <th>21</th>\n",
       "      <td>Minnesota</td>\n",
       "      <td>5,706,494</td>\n",
       "      <td>184</td>\n",
       "      <td>38</td>\n",
       "    </tr>\n",
       "    <tr>\n",
       "      <th>22</th>\n",
       "      <td>South Carolina</td>\n",
       "      <td>5,118,425</td>\n",
       "      <td>131</td>\n",
       "      <td>116</td>\n",
       "    </tr>\n",
       "    <tr>\n",
       "      <th>23</th>\n",
       "      <td>Alabama</td>\n",
       "      <td>5,024,279</td>\n",
       "      <td>85</td>\n",
       "      <td>69</td>\n",
       "    </tr>\n",
       "    <tr>\n",
       "      <th>24</th>\n",
       "      <td>Louisiana</td>\n",
       "      <td>4,657,757</td>\n",
       "      <td>84</td>\n",
       "      <td>15</td>\n",
       "    </tr>\n",
       "    <tr>\n",
       "      <th>25</th>\n",
       "      <td>Kentucky</td>\n",
       "      <td>4,505,836</td>\n",
       "      <td>166</td>\n",
       "      <td>50</td>\n",
       "    </tr>\n",
       "    <tr>\n",
       "      <th>26</th>\n",
       "      <td>Oregon</td>\n",
       "      <td>4,237,256</td>\n",
       "      <td>359</td>\n",
       "      <td>0</td>\n",
       "    </tr>\n",
       "    <tr>\n",
       "      <th>27</th>\n",
       "      <td>Oklahoma</td>\n",
       "      <td>3,959,353</td>\n",
       "      <td>79</td>\n",
       "      <td>23</td>\n",
       "    </tr>\n",
       "    <tr>\n",
       "      <th>28</th>\n",
       "      <td>Connecticut</td>\n",
       "      <td>3,605,944</td>\n",
       "      <td>123</td>\n",
       "      <td>476</td>\n",
       "    </tr>\n",
       "    <tr>\n",
       "      <th>29</th>\n",
       "      <td>Utah</td>\n",
       "      <td>3,271,616</td>\n",
       "      <td>101</td>\n",
       "      <td>2</td>\n",
       "    </tr>\n",
       "    <tr>\n",
       "      <th>30</th>\n",
       "      <td>Iowa</td>\n",
       "      <td>3,190,369</td>\n",
       "      <td>89</td>\n",
       "      <td>36</td>\n",
       "    </tr>\n",
       "    <tr>\n",
       "      <th>31</th>\n",
       "      <td>Nevada</td>\n",
       "      <td>3,104,614</td>\n",
       "      <td>253</td>\n",
       "      <td>42</td>\n",
       "    </tr>\n",
       "    <tr>\n",
       "      <th>32</th>\n",
       "      <td>Arkansas</td>\n",
       "      <td>3,011,524</td>\n",
       "      <td>55</td>\n",
       "      <td>14</td>\n",
       "    </tr>\n",
       "    <tr>\n",
       "      <th>33</th>\n",
       "      <td>Mississippi</td>\n",
       "      <td>2,961,279</td>\n",
       "      <td>32</td>\n",
       "      <td>14</td>\n",
       "    </tr>\n",
       "    <tr>\n",
       "      <th>34</th>\n",
       "      <td>Kansas</td>\n",
       "      <td>2,937,880</td>\n",
       "      <td>94</td>\n",
       "      <td>26</td>\n",
       "    </tr>\n",
       "    <tr>\n",
       "      <th>35</th>\n",
       "      <td>New Mexico</td>\n",
       "      <td>2,117,522</td>\n",
       "      <td>76</td>\n",
       "      <td>19</td>\n",
       "    </tr>\n",
       "    <tr>\n",
       "      <th>36</th>\n",
       "      <td>Nebraska</td>\n",
       "      <td>1,961,504</td>\n",
       "      <td>58</td>\n",
       "      <td>24</td>\n",
       "    </tr>\n",
       "    <tr>\n",
       "      <th>37</th>\n",
       "      <td>Idaho</td>\n",
       "      <td>1,839,106</td>\n",
       "      <td>67</td>\n",
       "      <td>0</td>\n",
       "    </tr>\n",
       "    <tr>\n",
       "      <th>38</th>\n",
       "      <td>West Virginia</td>\n",
       "      <td>1,793,716</td>\n",
       "      <td>25</td>\n",
       "      <td>31</td>\n",
       "    </tr>\n",
       "    <tr>\n",
       "      <th>39</th>\n",
       "      <td>Hawaii</td>\n",
       "      <td>1,455,271</td>\n",
       "      <td>99</td>\n",
       "      <td>6</td>\n",
       "    </tr>\n",
       "    <tr>\n",
       "      <th>40</th>\n",
       "      <td>New Hampshire</td>\n",
       "      <td>1,377,529</td>\n",
       "      <td>29</td>\n",
       "      <td>216</td>\n",
       "    </tr>\n",
       "    <tr>\n",
       "      <th>41</th>\n",
       "      <td>Maine</td>\n",
       "      <td>1,362,359</td>\n",
       "      <td>30</td>\n",
       "      <td>164</td>\n",
       "    </tr>\n",
       "    <tr>\n",
       "      <th>42</th>\n",
       "      <td>Rhode Island</td>\n",
       "      <td>1,097,379</td>\n",
       "      <td>27</td>\n",
       "      <td>159</td>\n",
       "    </tr>\n",
       "    <tr>\n",
       "      <th>43</th>\n",
       "      <td>Montana</td>\n",
       "      <td>1,084,225</td>\n",
       "      <td>32</td>\n",
       "      <td>0</td>\n",
       "    </tr>\n",
       "    <tr>\n",
       "      <th>44</th>\n",
       "      <td>Delaware</td>\n",
       "      <td>989,948</td>\n",
       "      <td>25</td>\n",
       "      <td>67</td>\n",
       "    </tr>\n",
       "    <tr>\n",
       "      <th>45</th>\n",
       "      <td>South Dakota</td>\n",
       "      <td>886,667</td>\n",
       "      <td>25</td>\n",
       "      <td>0</td>\n",
       "    </tr>\n",
       "    <tr>\n",
       "      <th>46</th>\n",
       "      <td>North Dakota</td>\n",
       "      <td>779,094</td>\n",
       "      <td>13</td>\n",
       "      <td>0</td>\n",
       "    </tr>\n",
       "    <tr>\n",
       "      <th>47</th>\n",
       "      <td>Alaska</td>\n",
       "      <td>733,391</td>\n",
       "      <td>49</td>\n",
       "      <td>0</td>\n",
       "    </tr>\n",
       "    <tr>\n",
       "      <th>48</th>\n",
       "      <td>District of Columbia</td>\n",
       "      <td>689,545</td>\n",
       "      <td>91</td>\n",
       "      <td>19</td>\n",
       "    </tr>\n",
       "    <tr>\n",
       "      <th>49</th>\n",
       "      <td>Vermont</td>\n",
       "      <td>643,077</td>\n",
       "      <td>8</td>\n",
       "      <td>50</td>\n",
       "    </tr>\n",
       "    <tr>\n",
       "      <th>50</th>\n",
       "      <td>Wyoming</td>\n",
       "      <td>576,851</td>\n",
       "      <td>23</td>\n",
       "      <td>1</td>\n",
       "    </tr>\n",
       "  </tbody>\n",
       "</table>\n",
       "</div>"
      ],
      "text/plain": [
       "                   state  Population Starbucks Stores Dunkin Stores\n",
       "0             California  39,538,223            3,080           143\n",
       "1                  Texas  30,145,505            1,346           226\n",
       "2                Florida  21,538,187              844           909\n",
       "3               New York  20,201,249              692         1,431\n",
       "4           Pennsylvania  13,002,700              357           650\n",
       "5               Illinois  12,812,508              677           711\n",
       "6                   Ohio  11,799,448              491           261\n",
       "7                Georgia  10,711,908              326           287\n",
       "8         North Carolina  10,439,388              338           224\n",
       "9               Michigan  10,077,331              283           112\n",
       "10            New Jersey   9,288,994              261           872\n",
       "11              Virginia   8,631,393              489           244\n",
       "12            Washington   7,705,281              741             0\n",
       "13               Arizona   7,151,502              548           110\n",
       "14         Massachusetts   7,029,917              273         1,042\n",
       "15             Tennessee   6,910,840              180           137\n",
       "16               Indiana   6,785,528              221           117\n",
       "17              Maryland   6,177,224              257           311\n",
       "18              Missouri   6,154,913              188            54\n",
       "19             Wisconsin   5,893,718              145           100\n",
       "20              Colorado   5,773,714              495            48\n",
       "21             Minnesota   5,706,494              184            38\n",
       "22        South Carolina   5,118,425              131           116\n",
       "23               Alabama   5,024,279               85            69\n",
       "24             Louisiana   4,657,757               84            15\n",
       "25              Kentucky   4,505,836              166            50\n",
       "26                Oregon   4,237,256              359             0\n",
       "27              Oklahoma   3,959,353               79            23\n",
       "28           Connecticut   3,605,944              123           476\n",
       "29                  Utah   3,271,616              101             2\n",
       "30                  Iowa   3,190,369               89            36\n",
       "31                Nevada   3,104,614              253            42\n",
       "32              Arkansas   3,011,524               55            14\n",
       "33           Mississippi   2,961,279               32            14\n",
       "34                Kansas   2,937,880               94            26\n",
       "35            New Mexico   2,117,522               76            19\n",
       "36              Nebraska   1,961,504               58            24\n",
       "37                 Idaho   1,839,106               67             0\n",
       "38         West Virginia   1,793,716               25            31\n",
       "39                Hawaii   1,455,271               99             6\n",
       "40         New Hampshire   1,377,529               29           216\n",
       "41                 Maine   1,362,359               30           164\n",
       "42          Rhode Island   1,097,379               27           159\n",
       "43               Montana   1,084,225               32             0\n",
       "44              Delaware     989,948               25            67\n",
       "45          South Dakota     886,667               25             0\n",
       "46          North Dakota     779,094               13             0\n",
       "47                Alaska     733,391               49             0\n",
       "48  District of Columbia     689,545               91            19\n",
       "49               Vermont     643,077                8            50\n",
       "50               Wyoming     576,851               23             1"
      ]
     },
     "execution_count": null,
     "metadata": {},
     "output_type": "execute_result"
    }
   ],
   "source": [
    "final_merged"
   ]
  },
  {
   "cell_type": "code",
   "execution_count": 153,
   "metadata": {},
   "outputs": [
    {
     "name": "stderr",
     "output_type": "stream",
     "text": [
      "\n",
      "KeyboardInterrupt\n",
      "\n"
     ]
    }
   ],
   "source": [
    "starbucks_stock= 96\n",
    "dunkin_stock = 106\n",
    "final_merged= final_merged[\"starbucks_stock\"]"
   ]
  }
 ],
 "metadata": {
  "language_info": {
   "name": "python"
  }
 },
 "nbformat": 4,
 "nbformat_minor": 2
}
